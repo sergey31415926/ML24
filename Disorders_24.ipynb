{
  "cells": [
    {
      "cell_type": "code",
      "execution_count": null,
      "id": "cb567bb8-d357-493d-833d-423e644ac01d",
      "metadata": {
        "scrolled": true,
        "id": "cb567bb8-d357-493d-833d-423e644ac01d"
      },
      "outputs": [],
      "source": [
        "# !pip install pandas\n",
        "# !pip install matplotlib\n",
        "# !pip install seaborn\n",
        "# !pip install scikit-learn\n",
        "# !pip install torch"
      ]
    },
    {
      "cell_type": "code",
      "execution_count": 1,
      "id": "206b7b00-baf5-4f7f-bead-9987fc7f8d1e",
      "metadata": {
        "id": "206b7b00-baf5-4f7f-bead-9987fc7f8d1e"
      },
      "outputs": [],
      "source": [
        "import numpy as np\n",
        "import pandas as pd\n",
        "import matplotlib.pyplot as plt\n",
        "import seaborn as sns\n",
        "import sklearn\n",
        "import torch"
      ]
    },
    {
      "cell_type": "code",
      "execution_count": 2,
      "id": "abcd9b4e-2cf1-46e7-bc10-f79f4f56a925",
      "metadata": {
        "id": "abcd9b4e-2cf1-46e7-bc10-f79f4f56a925"
      },
      "outputs": [],
      "source": [
        "# https://www.kaggle.com/datasets/aryarishabh/of-genomes-and-genetics-hackerearth-ml-challenge?select=train.csv\n",
        "raw = pd.read_csv(\"genomes_genetics.csv\")"
      ]
    },
    {
      "cell_type": "markdown",
      "id": "da44225f-106c-4f81-b67d-dac93f8f09fc",
      "metadata": {
        "id": "da44225f-106c-4f81-b67d-dac93f8f09fc"
      },
      "source": [
        "## Task\n",
        "Given medical information about children who have genetic disorders predict genetic disorder subclass (genetic disorder can be defined by given subclass)."
      ]
    },
    {
      "cell_type": "markdown",
      "id": "e4840177-7df2-4ebb-8560-613038c75cee",
      "metadata": {
        "id": "e4840177-7df2-4ebb-8560-613038c75cee"
      },
      "source": [
        "## Data overview"
      ]
    },
    {
      "cell_type": "code",
      "execution_count": 3,
      "id": "711db152-9a31-4cc3-9e68-343f05b5b0c1",
      "metadata": {
        "scrolled": true,
        "id": "711db152-9a31-4cc3-9e68-343f05b5b0c1",
        "outputId": "a5dc2668-6b9e-418e-806d-4b036b83729a",
        "colab": {
          "base_uri": "https://localhost:8080/",
          "height": 550
        }
      },
      "outputs": [
        {
          "output_type": "execute_result",
          "data": {
            "text/plain": [
              "  Patient Id  Patient Age Genes in mother's side Inherited from father  \\\n",
              "0  PID0x6418          2.0                    Yes                    No   \n",
              "1  PID0x25d5          4.0                    Yes                   Yes   \n",
              "2  PID0x4a82          6.0                    Yes                    No   \n",
              "3  PID0x4ac8         12.0                    Yes                    No   \n",
              "4  PID0x1bf7         11.0                    Yes                    No   \n",
              "\n",
              "  Maternal gene Paternal gene  Blood cell count (mcL) Patient First Name  \\\n",
              "0           Yes            No                4.760603            Richard   \n",
              "1            No            No                4.910669               Mike   \n",
              "2            No            No                4.893297           Kimberly   \n",
              "3           Yes            No                4.705280            Jeffery   \n",
              "4           NaN           Yes                4.720703            Johanna   \n",
              "\n",
              "  Family Name Father's name  ...  Birth defects  \\\n",
              "0         NaN         Larre  ...            NaN   \n",
              "1         NaN        Brycen  ...       Multiple   \n",
              "2         NaN        Nashon  ...       Singular   \n",
              "3   Hoelscher        Aayaan  ...       Singular   \n",
              "4    Stutzman         Suave  ...       Multiple   \n",
              "\n",
              "   White Blood cell count (thousand per microliter) Blood test result  \\\n",
              "0                                          9.857562               NaN   \n",
              "1                                          5.522560            normal   \n",
              "2                                               NaN            normal   \n",
              "3                                          7.919321      inconclusive   \n",
              "4                                          4.098210               NaN   \n",
              "\n",
              "  Symptom 1 Symptom 2 Symptom 3 Symptom 4  Symptom 5  \\\n",
              "0       1.0       1.0       1.0       1.0        1.0   \n",
              "1       1.0       NaN       1.0       1.0        0.0   \n",
              "2       0.0       1.0       1.0       1.0        1.0   \n",
              "3       0.0       0.0       1.0       0.0        0.0   \n",
              "4       0.0       0.0       0.0       0.0        NaN   \n",
              "\n",
              "                               Genetic Disorder  \\\n",
              "0   Mitochondrial genetic inheritance disorders   \n",
              "1                                           NaN   \n",
              "2  Multifactorial genetic inheritance disorders   \n",
              "3   Mitochondrial genetic inheritance disorders   \n",
              "4  Multifactorial genetic inheritance disorders   \n",
              "\n",
              "                     Disorder Subclass  \n",
              "0  Leber's hereditary optic neuropathy  \n",
              "1                      Cystic fibrosis  \n",
              "2                             Diabetes  \n",
              "3                       Leigh syndrome  \n",
              "4                               Cancer  \n",
              "\n",
              "[5 rows x 45 columns]"
            ],
            "text/html": [
              "\n",
              "  <div id=\"df-b9cd2150-81d6-4248-b931-d8eef66cd761\" class=\"colab-df-container\">\n",
              "    <div>\n",
              "<style scoped>\n",
              "    .dataframe tbody tr th:only-of-type {\n",
              "        vertical-align: middle;\n",
              "    }\n",
              "\n",
              "    .dataframe tbody tr th {\n",
              "        vertical-align: top;\n",
              "    }\n",
              "\n",
              "    .dataframe thead th {\n",
              "        text-align: right;\n",
              "    }\n",
              "</style>\n",
              "<table border=\"1\" class=\"dataframe\">\n",
              "  <thead>\n",
              "    <tr style=\"text-align: right;\">\n",
              "      <th></th>\n",
              "      <th>Patient Id</th>\n",
              "      <th>Patient Age</th>\n",
              "      <th>Genes in mother's side</th>\n",
              "      <th>Inherited from father</th>\n",
              "      <th>Maternal gene</th>\n",
              "      <th>Paternal gene</th>\n",
              "      <th>Blood cell count (mcL)</th>\n",
              "      <th>Patient First Name</th>\n",
              "      <th>Family Name</th>\n",
              "      <th>Father's name</th>\n",
              "      <th>...</th>\n",
              "      <th>Birth defects</th>\n",
              "      <th>White Blood cell count (thousand per microliter)</th>\n",
              "      <th>Blood test result</th>\n",
              "      <th>Symptom 1</th>\n",
              "      <th>Symptom 2</th>\n",
              "      <th>Symptom 3</th>\n",
              "      <th>Symptom 4</th>\n",
              "      <th>Symptom 5</th>\n",
              "      <th>Genetic Disorder</th>\n",
              "      <th>Disorder Subclass</th>\n",
              "    </tr>\n",
              "  </thead>\n",
              "  <tbody>\n",
              "    <tr>\n",
              "      <th>0</th>\n",
              "      <td>PID0x6418</td>\n",
              "      <td>2.0</td>\n",
              "      <td>Yes</td>\n",
              "      <td>No</td>\n",
              "      <td>Yes</td>\n",
              "      <td>No</td>\n",
              "      <td>4.760603</td>\n",
              "      <td>Richard</td>\n",
              "      <td>NaN</td>\n",
              "      <td>Larre</td>\n",
              "      <td>...</td>\n",
              "      <td>NaN</td>\n",
              "      <td>9.857562</td>\n",
              "      <td>NaN</td>\n",
              "      <td>1.0</td>\n",
              "      <td>1.0</td>\n",
              "      <td>1.0</td>\n",
              "      <td>1.0</td>\n",
              "      <td>1.0</td>\n",
              "      <td>Mitochondrial genetic inheritance disorders</td>\n",
              "      <td>Leber's hereditary optic neuropathy</td>\n",
              "    </tr>\n",
              "    <tr>\n",
              "      <th>1</th>\n",
              "      <td>PID0x25d5</td>\n",
              "      <td>4.0</td>\n",
              "      <td>Yes</td>\n",
              "      <td>Yes</td>\n",
              "      <td>No</td>\n",
              "      <td>No</td>\n",
              "      <td>4.910669</td>\n",
              "      <td>Mike</td>\n",
              "      <td>NaN</td>\n",
              "      <td>Brycen</td>\n",
              "      <td>...</td>\n",
              "      <td>Multiple</td>\n",
              "      <td>5.522560</td>\n",
              "      <td>normal</td>\n",
              "      <td>1.0</td>\n",
              "      <td>NaN</td>\n",
              "      <td>1.0</td>\n",
              "      <td>1.0</td>\n",
              "      <td>0.0</td>\n",
              "      <td>NaN</td>\n",
              "      <td>Cystic fibrosis</td>\n",
              "    </tr>\n",
              "    <tr>\n",
              "      <th>2</th>\n",
              "      <td>PID0x4a82</td>\n",
              "      <td>6.0</td>\n",
              "      <td>Yes</td>\n",
              "      <td>No</td>\n",
              "      <td>No</td>\n",
              "      <td>No</td>\n",
              "      <td>4.893297</td>\n",
              "      <td>Kimberly</td>\n",
              "      <td>NaN</td>\n",
              "      <td>Nashon</td>\n",
              "      <td>...</td>\n",
              "      <td>Singular</td>\n",
              "      <td>NaN</td>\n",
              "      <td>normal</td>\n",
              "      <td>0.0</td>\n",
              "      <td>1.0</td>\n",
              "      <td>1.0</td>\n",
              "      <td>1.0</td>\n",
              "      <td>1.0</td>\n",
              "      <td>Multifactorial genetic inheritance disorders</td>\n",
              "      <td>Diabetes</td>\n",
              "    </tr>\n",
              "    <tr>\n",
              "      <th>3</th>\n",
              "      <td>PID0x4ac8</td>\n",
              "      <td>12.0</td>\n",
              "      <td>Yes</td>\n",
              "      <td>No</td>\n",
              "      <td>Yes</td>\n",
              "      <td>No</td>\n",
              "      <td>4.705280</td>\n",
              "      <td>Jeffery</td>\n",
              "      <td>Hoelscher</td>\n",
              "      <td>Aayaan</td>\n",
              "      <td>...</td>\n",
              "      <td>Singular</td>\n",
              "      <td>7.919321</td>\n",
              "      <td>inconclusive</td>\n",
              "      <td>0.0</td>\n",
              "      <td>0.0</td>\n",
              "      <td>1.0</td>\n",
              "      <td>0.0</td>\n",
              "      <td>0.0</td>\n",
              "      <td>Mitochondrial genetic inheritance disorders</td>\n",
              "      <td>Leigh syndrome</td>\n",
              "    </tr>\n",
              "    <tr>\n",
              "      <th>4</th>\n",
              "      <td>PID0x1bf7</td>\n",
              "      <td>11.0</td>\n",
              "      <td>Yes</td>\n",
              "      <td>No</td>\n",
              "      <td>NaN</td>\n",
              "      <td>Yes</td>\n",
              "      <td>4.720703</td>\n",
              "      <td>Johanna</td>\n",
              "      <td>Stutzman</td>\n",
              "      <td>Suave</td>\n",
              "      <td>...</td>\n",
              "      <td>Multiple</td>\n",
              "      <td>4.098210</td>\n",
              "      <td>NaN</td>\n",
              "      <td>0.0</td>\n",
              "      <td>0.0</td>\n",
              "      <td>0.0</td>\n",
              "      <td>0.0</td>\n",
              "      <td>NaN</td>\n",
              "      <td>Multifactorial genetic inheritance disorders</td>\n",
              "      <td>Cancer</td>\n",
              "    </tr>\n",
              "  </tbody>\n",
              "</table>\n",
              "<p>5 rows × 45 columns</p>\n",
              "</div>\n",
              "    <div class=\"colab-df-buttons\">\n",
              "\n",
              "  <div class=\"colab-df-container\">\n",
              "    <button class=\"colab-df-convert\" onclick=\"convertToInteractive('df-b9cd2150-81d6-4248-b931-d8eef66cd761')\"\n",
              "            title=\"Convert this dataframe to an interactive table.\"\n",
              "            style=\"display:none;\">\n",
              "\n",
              "  <svg xmlns=\"http://www.w3.org/2000/svg\" height=\"24px\" viewBox=\"0 -960 960 960\">\n",
              "    <path d=\"M120-120v-720h720v720H120Zm60-500h600v-160H180v160Zm220 220h160v-160H400v160Zm0 220h160v-160H400v160ZM180-400h160v-160H180v160Zm440 0h160v-160H620v160ZM180-180h160v-160H180v160Zm440 0h160v-160H620v160Z\"/>\n",
              "  </svg>\n",
              "    </button>\n",
              "\n",
              "  <style>\n",
              "    .colab-df-container {\n",
              "      display:flex;\n",
              "      gap: 12px;\n",
              "    }\n",
              "\n",
              "    .colab-df-convert {\n",
              "      background-color: #E8F0FE;\n",
              "      border: none;\n",
              "      border-radius: 50%;\n",
              "      cursor: pointer;\n",
              "      display: none;\n",
              "      fill: #1967D2;\n",
              "      height: 32px;\n",
              "      padding: 0 0 0 0;\n",
              "      width: 32px;\n",
              "    }\n",
              "\n",
              "    .colab-df-convert:hover {\n",
              "      background-color: #E2EBFA;\n",
              "      box-shadow: 0px 1px 2px rgba(60, 64, 67, 0.3), 0px 1px 3px 1px rgba(60, 64, 67, 0.15);\n",
              "      fill: #174EA6;\n",
              "    }\n",
              "\n",
              "    .colab-df-buttons div {\n",
              "      margin-bottom: 4px;\n",
              "    }\n",
              "\n",
              "    [theme=dark] .colab-df-convert {\n",
              "      background-color: #3B4455;\n",
              "      fill: #D2E3FC;\n",
              "    }\n",
              "\n",
              "    [theme=dark] .colab-df-convert:hover {\n",
              "      background-color: #434B5C;\n",
              "      box-shadow: 0px 1px 3px 1px rgba(0, 0, 0, 0.15);\n",
              "      filter: drop-shadow(0px 1px 2px rgba(0, 0, 0, 0.3));\n",
              "      fill: #FFFFFF;\n",
              "    }\n",
              "  </style>\n",
              "\n",
              "    <script>\n",
              "      const buttonEl =\n",
              "        document.querySelector('#df-b9cd2150-81d6-4248-b931-d8eef66cd761 button.colab-df-convert');\n",
              "      buttonEl.style.display =\n",
              "        google.colab.kernel.accessAllowed ? 'block' : 'none';\n",
              "\n",
              "      async function convertToInteractive(key) {\n",
              "        const element = document.querySelector('#df-b9cd2150-81d6-4248-b931-d8eef66cd761');\n",
              "        const dataTable =\n",
              "          await google.colab.kernel.invokeFunction('convertToInteractive',\n",
              "                                                    [key], {});\n",
              "        if (!dataTable) return;\n",
              "\n",
              "        const docLinkHtml = 'Like what you see? Visit the ' +\n",
              "          '<a target=\"_blank\" href=https://colab.research.google.com/notebooks/data_table.ipynb>data table notebook</a>'\n",
              "          + ' to learn more about interactive tables.';\n",
              "        element.innerHTML = '';\n",
              "        dataTable['output_type'] = 'display_data';\n",
              "        await google.colab.output.renderOutput(dataTable, element);\n",
              "        const docLink = document.createElement('div');\n",
              "        docLink.innerHTML = docLinkHtml;\n",
              "        element.appendChild(docLink);\n",
              "      }\n",
              "    </script>\n",
              "  </div>\n",
              "\n",
              "\n",
              "<div id=\"df-f2bdc650-4468-451a-ad94-db8ec2a99414\">\n",
              "  <button class=\"colab-df-quickchart\" onclick=\"quickchart('df-f2bdc650-4468-451a-ad94-db8ec2a99414')\"\n",
              "            title=\"Suggest charts\"\n",
              "            style=\"display:none;\">\n",
              "\n",
              "<svg xmlns=\"http://www.w3.org/2000/svg\" height=\"24px\"viewBox=\"0 0 24 24\"\n",
              "     width=\"24px\">\n",
              "    <g>\n",
              "        <path d=\"M19 3H5c-1.1 0-2 .9-2 2v14c0 1.1.9 2 2 2h14c1.1 0 2-.9 2-2V5c0-1.1-.9-2-2-2zM9 17H7v-7h2v7zm4 0h-2V7h2v10zm4 0h-2v-4h2v4z\"/>\n",
              "    </g>\n",
              "</svg>\n",
              "  </button>\n",
              "\n",
              "<style>\n",
              "  .colab-df-quickchart {\n",
              "      --bg-color: #E8F0FE;\n",
              "      --fill-color: #1967D2;\n",
              "      --hover-bg-color: #E2EBFA;\n",
              "      --hover-fill-color: #174EA6;\n",
              "      --disabled-fill-color: #AAA;\n",
              "      --disabled-bg-color: #DDD;\n",
              "  }\n",
              "\n",
              "  [theme=dark] .colab-df-quickchart {\n",
              "      --bg-color: #3B4455;\n",
              "      --fill-color: #D2E3FC;\n",
              "      --hover-bg-color: #434B5C;\n",
              "      --hover-fill-color: #FFFFFF;\n",
              "      --disabled-bg-color: #3B4455;\n",
              "      --disabled-fill-color: #666;\n",
              "  }\n",
              "\n",
              "  .colab-df-quickchart {\n",
              "    background-color: var(--bg-color);\n",
              "    border: none;\n",
              "    border-radius: 50%;\n",
              "    cursor: pointer;\n",
              "    display: none;\n",
              "    fill: var(--fill-color);\n",
              "    height: 32px;\n",
              "    padding: 0;\n",
              "    width: 32px;\n",
              "  }\n",
              "\n",
              "  .colab-df-quickchart:hover {\n",
              "    background-color: var(--hover-bg-color);\n",
              "    box-shadow: 0 1px 2px rgba(60, 64, 67, 0.3), 0 1px 3px 1px rgba(60, 64, 67, 0.15);\n",
              "    fill: var(--button-hover-fill-color);\n",
              "  }\n",
              "\n",
              "  .colab-df-quickchart-complete:disabled,\n",
              "  .colab-df-quickchart-complete:disabled:hover {\n",
              "    background-color: var(--disabled-bg-color);\n",
              "    fill: var(--disabled-fill-color);\n",
              "    box-shadow: none;\n",
              "  }\n",
              "\n",
              "  .colab-df-spinner {\n",
              "    border: 2px solid var(--fill-color);\n",
              "    border-color: transparent;\n",
              "    border-bottom-color: var(--fill-color);\n",
              "    animation:\n",
              "      spin 1s steps(1) infinite;\n",
              "  }\n",
              "\n",
              "  @keyframes spin {\n",
              "    0% {\n",
              "      border-color: transparent;\n",
              "      border-bottom-color: var(--fill-color);\n",
              "      border-left-color: var(--fill-color);\n",
              "    }\n",
              "    20% {\n",
              "      border-color: transparent;\n",
              "      border-left-color: var(--fill-color);\n",
              "      border-top-color: var(--fill-color);\n",
              "    }\n",
              "    30% {\n",
              "      border-color: transparent;\n",
              "      border-left-color: var(--fill-color);\n",
              "      border-top-color: var(--fill-color);\n",
              "      border-right-color: var(--fill-color);\n",
              "    }\n",
              "    40% {\n",
              "      border-color: transparent;\n",
              "      border-right-color: var(--fill-color);\n",
              "      border-top-color: var(--fill-color);\n",
              "    }\n",
              "    60% {\n",
              "      border-color: transparent;\n",
              "      border-right-color: var(--fill-color);\n",
              "    }\n",
              "    80% {\n",
              "      border-color: transparent;\n",
              "      border-right-color: var(--fill-color);\n",
              "      border-bottom-color: var(--fill-color);\n",
              "    }\n",
              "    90% {\n",
              "      border-color: transparent;\n",
              "      border-bottom-color: var(--fill-color);\n",
              "    }\n",
              "  }\n",
              "</style>\n",
              "\n",
              "  <script>\n",
              "    async function quickchart(key) {\n",
              "      const quickchartButtonEl =\n",
              "        document.querySelector('#' + key + ' button');\n",
              "      quickchartButtonEl.disabled = true;  // To prevent multiple clicks.\n",
              "      quickchartButtonEl.classList.add('colab-df-spinner');\n",
              "      try {\n",
              "        const charts = await google.colab.kernel.invokeFunction(\n",
              "            'suggestCharts', [key], {});\n",
              "      } catch (error) {\n",
              "        console.error('Error during call to suggestCharts:', error);\n",
              "      }\n",
              "      quickchartButtonEl.classList.remove('colab-df-spinner');\n",
              "      quickchartButtonEl.classList.add('colab-df-quickchart-complete');\n",
              "    }\n",
              "    (() => {\n",
              "      let quickchartButtonEl =\n",
              "        document.querySelector('#df-f2bdc650-4468-451a-ad94-db8ec2a99414 button');\n",
              "      quickchartButtonEl.style.display =\n",
              "        google.colab.kernel.accessAllowed ? 'block' : 'none';\n",
              "    })();\n",
              "  </script>\n",
              "</div>\n",
              "    </div>\n",
              "  </div>\n"
            ],
            "application/vnd.google.colaboratory.intrinsic+json": {
              "type": "dataframe",
              "variable_name": "raw"
            }
          },
          "metadata": {},
          "execution_count": 3
        }
      ],
      "source": [
        "raw.head()"
      ]
    },
    {
      "cell_type": "code",
      "execution_count": 4,
      "id": "d1ff6665-a146-4bee-afad-7054a9197563",
      "metadata": {
        "id": "d1ff6665-a146-4bee-afad-7054a9197563",
        "outputId": "360221c2-906a-4f4e-f873-3bf14409884b",
        "colab": {
          "base_uri": "https://localhost:8080/"
        }
      },
      "outputs": [
        {
          "output_type": "stream",
          "name": "stdout",
          "text": [
            "<class 'pandas.core.frame.DataFrame'>\n",
            "RangeIndex: 22083 entries, 0 to 22082\n",
            "Data columns (total 45 columns):\n",
            " #   Column                                            Non-Null Count  Dtype  \n",
            "---  ------                                            --------------  -----  \n",
            " 0   Patient Id                                        22083 non-null  object \n",
            " 1   Patient Age                                       20656 non-null  float64\n",
            " 2   Genes in mother's side                            22083 non-null  object \n",
            " 3   Inherited from father                             21777 non-null  object \n",
            " 4   Maternal gene                                     19273 non-null  object \n",
            " 5   Paternal gene                                     22083 non-null  object \n",
            " 6   Blood cell count (mcL)                            22083 non-null  float64\n",
            " 7   Patient First Name                                22083 non-null  object \n",
            " 8   Family Name                                       12392 non-null  object \n",
            " 9   Father's name                                     22083 non-null  object \n",
            " 10  Mother's age                                      16047 non-null  float64\n",
            " 11  Father's age                                      16097 non-null  float64\n",
            " 12  Institute Name                                    16977 non-null  object \n",
            " 13  Location of Institute                             22083 non-null  object \n",
            " 14  Status                                            22083 non-null  object \n",
            " 15  Respiratory Rate (breaths/min)                    19934 non-null  object \n",
            " 16  Heart Rate (rates/min                             19970 non-null  object \n",
            " 17  Test 1                                            19956 non-null  float64\n",
            " 18  Test 2                                            19931 non-null  float64\n",
            " 19  Test 3                                            19936 non-null  float64\n",
            " 20  Test 4                                            19943 non-null  float64\n",
            " 21  Test 5                                            19913 non-null  float64\n",
            " 22  Parental consent                                  19958 non-null  object \n",
            " 23  Follow-up                                         19917 non-null  object \n",
            " 24  Gender                                            19910 non-null  object \n",
            " 25  Birth asphyxia                                    19944 non-null  object \n",
            " 26  Autopsy shows birth defect (if applicable)        17691 non-null  object \n",
            " 27  Place of birth                                    19959 non-null  object \n",
            " 28  Folic acid details (peri-conceptional)            19966 non-null  object \n",
            " 29  H/O serious maternal illness                      19931 non-null  object \n",
            " 30  H/O radiation exposure (x-ray)                    19930 non-null  object \n",
            " 31  H/O substance abuse                               19888 non-null  object \n",
            " 32  Assisted conception IVF/ART                       19961 non-null  object \n",
            " 33  History of anomalies in previous pregnancies      19911 non-null  object \n",
            " 34  No. of previous abortion                          19921 non-null  float64\n",
            " 35  Birth defects                                     19929 non-null  object \n",
            " 36  White Blood cell count (thousand per microliter)  19935 non-null  float64\n",
            " 37  Blood test result                                 19938 non-null  object \n",
            " 38  Symptom 1                                         19928 non-null  float64\n",
            " 39  Symptom 2                                         19861 non-null  float64\n",
            " 40  Symptom 3                                         19982 non-null  float64\n",
            " 41  Symptom 4                                         19970 non-null  float64\n",
            " 42  Symptom 5                                         19930 non-null  float64\n",
            " 43  Genetic Disorder                                  19937 non-null  object \n",
            " 44  Disorder Subclass                                 19915 non-null  object \n",
            "dtypes: float64(16), object(29)\n",
            "memory usage: 7.6+ MB\n"
          ]
        }
      ],
      "source": [
        "raw.info()"
      ]
    },
    {
      "cell_type": "markdown",
      "id": "f7cd5368-01db-4af8-af52-6a50e0f47c16",
      "metadata": {
        "id": "f7cd5368-01db-4af8-af52-6a50e0f47c16"
      },
      "source": [
        "### Data selection"
      ]
    },
    {
      "cell_type": "code",
      "execution_count": 5,
      "id": "6fb22a54-ea44-4d7e-b07c-7132c3c139e7",
      "metadata": {
        "scrolled": true,
        "id": "6fb22a54-ea44-4d7e-b07c-7132c3c139e7"
      },
      "outputs": [],
      "source": [
        "raw.drop([\"Patient Id\",\n",
        "          \"Patient First Name\",\n",
        "          \"Family Name\",\n",
        "          \"Father's name\",\n",
        "          \"Institute Name\",\n",
        "          \"Location of Institute\",\n",
        "          \"Test 1\",\n",
        "          \"Test 2\",\n",
        "          \"Test 3\",\n",
        "          \"Test 4\",\n",
        "          \"Test 5\",\n",
        "          \"Symptom 1\",\n",
        "          \"Symptom 2\",\n",
        "          \"Symptom 3\",\n",
        "          \"Symptom 4\",\n",
        "          \"Symptom 5\",\n",
        "          \"Parental consent\",\n",
        "        ], axis=1, inplace=True)"
      ]
    },
    {
      "cell_type": "code",
      "execution_count": 6,
      "id": "e7a628a3-393a-4988-8295-765a4a4ff430",
      "metadata": {
        "id": "e7a628a3-393a-4988-8295-765a4a4ff430",
        "outputId": "50f55cd2-bd03-4880-d0c7-1207685685e7",
        "colab": {
          "base_uri": "https://localhost:8080/"
        }
      },
      "outputs": [
        {
          "output_type": "stream",
          "name": "stdout",
          "text": [
            "<class 'pandas.core.frame.DataFrame'>\n",
            "RangeIndex: 22083 entries, 0 to 22082\n",
            "Data columns (total 28 columns):\n",
            " #   Column                                            Non-Null Count  Dtype  \n",
            "---  ------                                            --------------  -----  \n",
            " 0   Patient Age                                       20656 non-null  float64\n",
            " 1   Genes in mother's side                            22083 non-null  object \n",
            " 2   Inherited from father                             21777 non-null  object \n",
            " 3   Maternal gene                                     19273 non-null  object \n",
            " 4   Paternal gene                                     22083 non-null  object \n",
            " 5   Blood cell count (mcL)                            22083 non-null  float64\n",
            " 6   Mother's age                                      16047 non-null  float64\n",
            " 7   Father's age                                      16097 non-null  float64\n",
            " 8   Status                                            22083 non-null  object \n",
            " 9   Respiratory Rate (breaths/min)                    19934 non-null  object \n",
            " 10  Heart Rate (rates/min                             19970 non-null  object \n",
            " 11  Follow-up                                         19917 non-null  object \n",
            " 12  Gender                                            19910 non-null  object \n",
            " 13  Birth asphyxia                                    19944 non-null  object \n",
            " 14  Autopsy shows birth defect (if applicable)        17691 non-null  object \n",
            " 15  Place of birth                                    19959 non-null  object \n",
            " 16  Folic acid details (peri-conceptional)            19966 non-null  object \n",
            " 17  H/O serious maternal illness                      19931 non-null  object \n",
            " 18  H/O radiation exposure (x-ray)                    19930 non-null  object \n",
            " 19  H/O substance abuse                               19888 non-null  object \n",
            " 20  Assisted conception IVF/ART                       19961 non-null  object \n",
            " 21  History of anomalies in previous pregnancies      19911 non-null  object \n",
            " 22  No. of previous abortion                          19921 non-null  float64\n",
            " 23  Birth defects                                     19929 non-null  object \n",
            " 24  White Blood cell count (thousand per microliter)  19935 non-null  float64\n",
            " 25  Blood test result                                 19938 non-null  object \n",
            " 26  Genetic Disorder                                  19937 non-null  object \n",
            " 27  Disorder Subclass                                 19915 non-null  object \n",
            "dtypes: float64(6), object(22)\n",
            "memory usage: 4.7+ MB\n"
          ]
        }
      ],
      "source": [
        "raw.info()"
      ]
    },
    {
      "cell_type": "code",
      "execution_count": 7,
      "id": "5bac38c4-b460-4046-8da1-247785ccbd9a",
      "metadata": {
        "id": "5bac38c4-b460-4046-8da1-247785ccbd9a"
      },
      "outputs": [],
      "source": [
        "raw.rename(columns={\n",
        "                    \"Patient Age\":\"Patient_Age\",\n",
        "                    \"Genes in mother's side\":\"Genes_Mother_Side\",\n",
        "                    \"Inherited from father\":\"Inherited_Father\",\n",
        "                    \"Maternal gene\":\"Maternal_Gene\",\n",
        "                    \"Paternal gene\":\"Paternal_Gene\",\n",
        "                    \"Blood cell count (mcL)\":\"Blood_Cell_mcL\",\n",
        "                    \"Mother's age\":\"Mother_Age\",\n",
        "                    \"Father's age\":\"Father_Age\",\n",
        "                    \"Respiratory Rate (breaths/min)\":\"Respiratory_Rate_Breaths_Min\",\n",
        "                    \"Heart Rate (rates/min\":\"Heart_Rates_Min\",\n",
        "                    \"Follow-up\":\"Follow_Up\",\n",
        "                    \"Birth asphyxia\":\"Birth_Asphyxia\",\n",
        "                    \"Autopsy shows birth defect (if applicable)\":\"Autopsy_Birth_Defect\",\n",
        "                    \"Place of birth\":\"Place_Birth\",\n",
        "                    \"Folic acid details (peri-conceptional)\":\"Folic_Acid\",\n",
        "                    \"H/O serious maternal illness\":\"Maternal_Illness\",\n",
        "                    \"H/O radiation exposure (x-ray)\":\"Radiation_Exposure\",\n",
        "                    \"H/O substance abuse\":\"Substance_Abuse\",\n",
        "                    \"Assisted conception IVF/ART\":\"Assisted_Conception\",\n",
        "                    \"History of anomalies in previous pregnancies\":\"History_Previous_Pregnancies\",\n",
        "                    \"No. of previous abortion\":\"Previous_Abortion\",\n",
        "                    \"Birth defects\":\"Birth_Defects\",\n",
        "                    \"White Blood cell count (thousand per microliter)\":\"White_Blood_Cell\",\n",
        "                    \"Blood test result\":\"Blood_Test_Result\",\n",
        "                    \"Genetic Disorder\":\"Genetic_Disorder\",\n",
        "                    \"Disorder Subclass\":\"Disorder_Subclass\"\n",
        "                    }, inplace=True)"
      ]
    },
    {
      "cell_type": "code",
      "execution_count": 8,
      "id": "ce216d77-3523-4771-9976-919415eaa934",
      "metadata": {
        "id": "ce216d77-3523-4771-9976-919415eaa934",
        "outputId": "061717b6-6c33-47c1-c272-3dd9b7133ea7",
        "colab": {
          "base_uri": "https://localhost:8080/",
          "height": 962
        }
      },
      "outputs": [
        {
          "output_type": "execute_result",
          "data": {
            "text/plain": [
              "Patient_Age                        15\n",
              "Genes_Mother_Side                   2\n",
              "Inherited_Father                    2\n",
              "Maternal_Gene                       2\n",
              "Paternal_Gene                       2\n",
              "Blood_Cell_mcL                  22083\n",
              "Mother_Age                         34\n",
              "Father_Age                         45\n",
              "Status                              2\n",
              "Respiratory_Rate_Breaths_Min        2\n",
              "Heart_Rates_Min                     2\n",
              "Follow_Up                           2\n",
              "Gender                              3\n",
              "Birth_Asphyxia                      4\n",
              "Autopsy_Birth_Defect                3\n",
              "Place_Birth                         2\n",
              "Folic_Acid                          2\n",
              "Maternal_Illness                    2\n",
              "Radiation_Exposure                  4\n",
              "Substance_Abuse                     4\n",
              "Assisted_Conception                 2\n",
              "History_Previous_Pregnancies        2\n",
              "Previous_Abortion                   5\n",
              "Birth_Defects                       2\n",
              "White_Blood_Cell                17277\n",
              "Blood_Test_Result                   4\n",
              "Genetic_Disorder                    3\n",
              "Disorder_Subclass                   9\n",
              "dtype: int64"
            ],
            "text/html": [
              "<div>\n",
              "<style scoped>\n",
              "    .dataframe tbody tr th:only-of-type {\n",
              "        vertical-align: middle;\n",
              "    }\n",
              "\n",
              "    .dataframe tbody tr th {\n",
              "        vertical-align: top;\n",
              "    }\n",
              "\n",
              "    .dataframe thead th {\n",
              "        text-align: right;\n",
              "    }\n",
              "</style>\n",
              "<table border=\"1\" class=\"dataframe\">\n",
              "  <thead>\n",
              "    <tr style=\"text-align: right;\">\n",
              "      <th></th>\n",
              "      <th>0</th>\n",
              "    </tr>\n",
              "  </thead>\n",
              "  <tbody>\n",
              "    <tr>\n",
              "      <th>Patient_Age</th>\n",
              "      <td>15</td>\n",
              "    </tr>\n",
              "    <tr>\n",
              "      <th>Genes_Mother_Side</th>\n",
              "      <td>2</td>\n",
              "    </tr>\n",
              "    <tr>\n",
              "      <th>Inherited_Father</th>\n",
              "      <td>2</td>\n",
              "    </tr>\n",
              "    <tr>\n",
              "      <th>Maternal_Gene</th>\n",
              "      <td>2</td>\n",
              "    </tr>\n",
              "    <tr>\n",
              "      <th>Paternal_Gene</th>\n",
              "      <td>2</td>\n",
              "    </tr>\n",
              "    <tr>\n",
              "      <th>Blood_Cell_mcL</th>\n",
              "      <td>22083</td>\n",
              "    </tr>\n",
              "    <tr>\n",
              "      <th>Mother_Age</th>\n",
              "      <td>34</td>\n",
              "    </tr>\n",
              "    <tr>\n",
              "      <th>Father_Age</th>\n",
              "      <td>45</td>\n",
              "    </tr>\n",
              "    <tr>\n",
              "      <th>Status</th>\n",
              "      <td>2</td>\n",
              "    </tr>\n",
              "    <tr>\n",
              "      <th>Respiratory_Rate_Breaths_Min</th>\n",
              "      <td>2</td>\n",
              "    </tr>\n",
              "    <tr>\n",
              "      <th>Heart_Rates_Min</th>\n",
              "      <td>2</td>\n",
              "    </tr>\n",
              "    <tr>\n",
              "      <th>Follow_Up</th>\n",
              "      <td>2</td>\n",
              "    </tr>\n",
              "    <tr>\n",
              "      <th>Gender</th>\n",
              "      <td>3</td>\n",
              "    </tr>\n",
              "    <tr>\n",
              "      <th>Birth_Asphyxia</th>\n",
              "      <td>4</td>\n",
              "    </tr>\n",
              "    <tr>\n",
              "      <th>Autopsy_Birth_Defect</th>\n",
              "      <td>3</td>\n",
              "    </tr>\n",
              "    <tr>\n",
              "      <th>Place_Birth</th>\n",
              "      <td>2</td>\n",
              "    </tr>\n",
              "    <tr>\n",
              "      <th>Folic_Acid</th>\n",
              "      <td>2</td>\n",
              "    </tr>\n",
              "    <tr>\n",
              "      <th>Maternal_Illness</th>\n",
              "      <td>2</td>\n",
              "    </tr>\n",
              "    <tr>\n",
              "      <th>Radiation_Exposure</th>\n",
              "      <td>4</td>\n",
              "    </tr>\n",
              "    <tr>\n",
              "      <th>Substance_Abuse</th>\n",
              "      <td>4</td>\n",
              "    </tr>\n",
              "    <tr>\n",
              "      <th>Assisted_Conception</th>\n",
              "      <td>2</td>\n",
              "    </tr>\n",
              "    <tr>\n",
              "      <th>History_Previous_Pregnancies</th>\n",
              "      <td>2</td>\n",
              "    </tr>\n",
              "    <tr>\n",
              "      <th>Previous_Abortion</th>\n",
              "      <td>5</td>\n",
              "    </tr>\n",
              "    <tr>\n",
              "      <th>Birth_Defects</th>\n",
              "      <td>2</td>\n",
              "    </tr>\n",
              "    <tr>\n",
              "      <th>White_Blood_Cell</th>\n",
              "      <td>17277</td>\n",
              "    </tr>\n",
              "    <tr>\n",
              "      <th>Blood_Test_Result</th>\n",
              "      <td>4</td>\n",
              "    </tr>\n",
              "    <tr>\n",
              "      <th>Genetic_Disorder</th>\n",
              "      <td>3</td>\n",
              "    </tr>\n",
              "    <tr>\n",
              "      <th>Disorder_Subclass</th>\n",
              "      <td>9</td>\n",
              "    </tr>\n",
              "  </tbody>\n",
              "</table>\n",
              "</div><br><label><b>dtype:</b> int64</label>"
            ]
          },
          "metadata": {},
          "execution_count": 8
        }
      ],
      "source": [
        "raw.nunique()"
      ]
    },
    {
      "cell_type": "code",
      "execution_count": 9,
      "id": "c4595f64-900d-46a2-9617-e49bb5c8a348",
      "metadata": {
        "id": "c4595f64-900d-46a2-9617-e49bb5c8a348",
        "outputId": "ba6e431c-b880-4d79-b609-bb0c1d0a72a8",
        "colab": {
          "base_uri": "https://localhost:8080/"
        }
      },
      "outputs": [
        {
          "output_type": "stream",
          "name": "stdout",
          "text": [
            "Genes_Mother_Side\n",
            "Yes    13143\n",
            "No      8940\n",
            "Name: count, dtype: int64\n",
            "\n",
            "Inherited_Father\n",
            "No     13133\n",
            "Yes     8644\n",
            "Name: count, dtype: int64\n",
            "\n",
            "Maternal_Gene\n",
            "Yes    10647\n",
            "No      8626\n",
            "Name: count, dtype: int64\n",
            "\n",
            "Paternal_Gene\n",
            "No     12508\n",
            "Yes     9575\n",
            "Name: count, dtype: int64\n",
            "\n",
            "Status\n",
            "Alive       11083\n",
            "Deceased    11000\n",
            "Name: count, dtype: int64\n",
            "\n",
            "Respiratory_Rate_Breaths_Min\n",
            "Normal (30-60)    10065\n",
            "Tachypnea          9869\n",
            "Name: count, dtype: int64\n",
            "\n",
            "Heart_Rates_Min\n",
            "Normal         10187\n",
            "Tachycardia     9783\n",
            "Name: count, dtype: int64\n",
            "\n",
            "Follow_Up\n",
            "Low     10040\n",
            "High     9877\n",
            "Name: count, dtype: int64\n",
            "\n",
            "Gender\n",
            "Ambiguous    6695\n",
            "Male         6666\n",
            "Female       6549\n",
            "Name: count, dtype: int64\n",
            "\n",
            "Birth_Asphyxia\n",
            "Yes              5106\n",
            "No record        5008\n",
            "Not available    4986\n",
            "No               4844\n",
            "Name: count, dtype: int64\n",
            "\n",
            "Autopsy_Birth_Defect\n",
            "Not applicable    11083\n",
            "Yes                3383\n",
            "No                 3225\n",
            "Name: count, dtype: int64\n",
            "\n",
            "Place_Birth\n",
            "Institute    10073\n",
            "Home          9886\n",
            "Name: count, dtype: int64\n",
            "\n",
            "Folic_Acid\n",
            "Yes    10087\n",
            "No      9879\n",
            "Name: count, dtype: int64\n",
            "\n",
            "Maternal_Illness\n",
            "No     10012\n",
            "Yes     9919\n",
            "Name: count, dtype: int64\n",
            "\n",
            "Radiation_Exposure\n",
            "Not applicable    5029\n",
            "No                5005\n",
            "Yes               4980\n",
            "-                 4916\n",
            "Name: count, dtype: int64\n",
            "\n",
            "Substance_Abuse\n",
            "-                 5042\n",
            "No                5033\n",
            "Yes               4975\n",
            "Not applicable    4838\n",
            "Name: count, dtype: int64\n",
            "\n",
            "Assisted_Conception\n",
            "Yes    10012\n",
            "No      9949\n",
            "Name: count, dtype: int64\n",
            "\n",
            "History_Previous_Pregnancies\n",
            "Yes    10082\n",
            "No      9829\n",
            "Name: count, dtype: int64\n",
            "\n",
            "Birth_Defects\n",
            "Singular    9977\n",
            "Multiple    9952\n",
            "Name: count, dtype: int64\n",
            "\n",
            "Blood_Test_Result\n",
            "slightly abnormal    5128\n",
            "normal               4954\n",
            "inconclusive         4952\n",
            "abnormal             4904\n",
            "Name: count, dtype: int64\n",
            "\n",
            "Genetic_Disorder\n",
            "Mitochondrial genetic inheritance disorders     10202\n",
            "Single-gene inheritance diseases                 7664\n",
            "Multifactorial genetic inheritance disorders     2071\n",
            "Name: count, dtype: int64\n",
            "\n",
            "Disorder_Subclass\n",
            "Leigh syndrome                         5160\n",
            "Mitochondrial myopathy                 4405\n",
            "Cystic fibrosis                        3448\n",
            "Tay-Sachs                              2833\n",
            "Diabetes                               1817\n",
            "Hemochromatosis                        1355\n",
            "Leber's hereditary optic neuropathy     648\n",
            "Alzheimer's                             152\n",
            "Cancer                                   97\n",
            "Name: count, dtype: int64\n",
            "\n"
          ]
        }
      ],
      "source": [
        "_numerical = list(raw.describe().columns)\n",
        "for c in raw.columns:\n",
        "    if(c not in _numerical):\n",
        "        print(raw[c].value_counts())\n",
        "        print()"
      ]
    },
    {
      "cell_type": "code",
      "execution_count": 10,
      "id": "d8299b59-8b9f-48b9-b27e-eceb91624d62",
      "metadata": {
        "id": "d8299b59-8b9f-48b9-b27e-eceb91624d62"
      },
      "outputs": [],
      "source": [
        "raw[\"Birth_Asphyxia\"] = raw[\"Birth_Asphyxia\"].replace(\"No record\",np.NaN)\n",
        "raw[\"Birth_Asphyxia\"] = raw[\"Birth_Asphyxia\"].replace(\"Not available\",np.NaN)\n",
        "raw[\"Autopsy_Birth_Defect\"] = raw[\"Autopsy_Birth_Defect\"].replace(\"None\",np.NaN)\n",
        "raw[\"Radiation_Exposure\"] = raw[\"Radiation_Exposure\"].replace(\"Not applicable\",np.NaN)\n",
        "raw[\"Radiation_Exposure\"] = raw[\"Radiation_Exposure\"].replace(\"-\",np.NaN)\n",
        "raw[\"Substance_Abuse\"] = raw[\"Substance_Abuse\"].replace(\"Not applicable\",np.NaN)\n",
        "raw[\"Substance_Abuse\"] = raw[\"Substance_Abuse\"].replace(\"-\",np.NaN)"
      ]
    },
    {
      "cell_type": "markdown",
      "id": "f34f129e-1188-4297-a637-397886fffb81",
      "metadata": {
        "id": "f34f129e-1188-4297-a637-397886fffb81"
      },
      "source": [
        "### Save cleared data"
      ]
    },
    {
      "cell_type": "code",
      "execution_count": 11,
      "id": "de6b522b-9740-45b0-8f23-0d998806fb2a",
      "metadata": {
        "id": "de6b522b-9740-45b0-8f23-0d998806fb2a"
      },
      "outputs": [],
      "source": [
        "raw.to_csv('Disorders_dataset_cleared.zip',\n",
        "            compression={'method':'zip', 'archive_name':'Disorders_dataset_cleared.csv'})"
      ]
    },
    {
      "cell_type": "markdown",
      "id": "a03ee446-63a9-458e-8c7b-184597a5f6a8",
      "metadata": {
        "jp-MarkdownHeadingCollapsed": true,
        "id": "a03ee446-63a9-458e-8c7b-184597a5f6a8"
      },
      "source": [
        "## Data analysis"
      ]
    },
    {
      "cell_type": "code",
      "execution_count": 12,
      "id": "f4808803-fdae-443f-8814-779dbd2e96da",
      "metadata": {
        "scrolled": true,
        "id": "f4808803-fdae-443f-8814-779dbd2e96da",
        "outputId": "ffd63c90-4616-449e-9e80-a40c59d5ff40",
        "colab": {
          "base_uri": "https://localhost:8080/"
        }
      },
      "outputs": [
        {
          "output_type": "stream",
          "name": "stdout",
          "text": [
            "<class 'pandas.core.frame.DataFrame'>\n",
            "RangeIndex: 22083 entries, 0 to 22082\n",
            "Data columns (total 28 columns):\n",
            " #   Column                        Non-Null Count  Dtype  \n",
            "---  ------                        --------------  -----  \n",
            " 0   Patient_Age                   20656 non-null  float64\n",
            " 1   Genes_Mother_Side             22083 non-null  object \n",
            " 2   Inherited_Father              21777 non-null  object \n",
            " 3   Maternal_Gene                 19273 non-null  object \n",
            " 4   Paternal_Gene                 22083 non-null  object \n",
            " 5   Blood_Cell_mcL                22083 non-null  float64\n",
            " 6   Mother_Age                    16047 non-null  float64\n",
            " 7   Father_Age                    16097 non-null  float64\n",
            " 8   Status                        22083 non-null  object \n",
            " 9   Respiratory_Rate_Breaths_Min  19934 non-null  object \n",
            " 10  Heart_Rates_Min               19970 non-null  object \n",
            " 11  Follow_Up                     19917 non-null  object \n",
            " 12  Gender                        19910 non-null  object \n",
            " 13  Birth_Asphyxia                9950 non-null   object \n",
            " 14  Autopsy_Birth_Defect          17691 non-null  object \n",
            " 15  Place_Birth                   19959 non-null  object \n",
            " 16  Folic_Acid                    19966 non-null  object \n",
            " 17  Maternal_Illness              19931 non-null  object \n",
            " 18  Radiation_Exposure            9985 non-null   object \n",
            " 19  Substance_Abuse               10008 non-null  object \n",
            " 20  Assisted_Conception           19961 non-null  object \n",
            " 21  History_Previous_Pregnancies  19911 non-null  object \n",
            " 22  Previous_Abortion             19921 non-null  float64\n",
            " 23  Birth_Defects                 19929 non-null  object \n",
            " 24  White_Blood_Cell              19935 non-null  float64\n",
            " 25  Blood_Test_Result             19938 non-null  object \n",
            " 26  Genetic_Disorder              19937 non-null  object \n",
            " 27  Disorder_Subclass             19915 non-null  object \n",
            "dtypes: float64(6), object(22)\n",
            "memory usage: 4.7+ MB\n"
          ]
        }
      ],
      "source": [
        "data = pd.read_csv(\"Disorders_dataset_cleared.csv\")\n",
        "data.drop(['Unnamed: 0'], axis=1, inplace=True)\n",
        "data.info()"
      ]
    },
    {
      "cell_type": "code",
      "execution_count": 13,
      "id": "019567be-ba71-4737-871a-ba7b78c682c8",
      "metadata": {
        "scrolled": true,
        "id": "019567be-ba71-4737-871a-ba7b78c682c8"
      },
      "outputs": [],
      "source": [
        "numerical = list(data.describe().columns)\n",
        "categorical = [c for c in data.columns if c not in numerical]"
      ]
    },
    {
      "cell_type": "code",
      "execution_count": 14,
      "id": "af275fc9-fbc2-4376-9117-2f3c73ae8d55",
      "metadata": {
        "id": "af275fc9-fbc2-4376-9117-2f3c73ae8d55",
        "outputId": "967aa721-842c-4226-e158-a3a39ea64627",
        "colab": {
          "base_uri": "https://localhost:8080/"
        }
      },
      "outputs": [
        {
          "output_type": "execute_result",
          "data": {
            "text/plain": [
              "['Patient_Age',\n",
              " 'Blood_Cell_mcL',\n",
              " 'Mother_Age',\n",
              " 'Father_Age',\n",
              " 'Previous_Abortion',\n",
              " 'White_Blood_Cell']"
            ]
          },
          "metadata": {},
          "execution_count": 14
        }
      ],
      "source": [
        "numerical"
      ]
    },
    {
      "cell_type": "code",
      "execution_count": 15,
      "id": "5fed4e79-91d3-4b62-94a1-3a1e83a03fb3",
      "metadata": {
        "id": "5fed4e79-91d3-4b62-94a1-3a1e83a03fb3",
        "outputId": "d9b631f3-97c4-4061-a6cc-da2b1c274bc1",
        "colab": {
          "base_uri": "https://localhost:8080/"
        }
      },
      "outputs": [
        {
          "output_type": "execute_result",
          "data": {
            "text/plain": [
              "['Genes_Mother_Side',\n",
              " 'Inherited_Father',\n",
              " 'Maternal_Gene',\n",
              " 'Paternal_Gene',\n",
              " 'Status',\n",
              " 'Respiratory_Rate_Breaths_Min',\n",
              " 'Heart_Rates_Min',\n",
              " 'Follow_Up',\n",
              " 'Gender',\n",
              " 'Birth_Asphyxia',\n",
              " 'Autopsy_Birth_Defect',\n",
              " 'Place_Birth',\n",
              " 'Folic_Acid',\n",
              " 'Maternal_Illness',\n",
              " 'Radiation_Exposure',\n",
              " 'Substance_Abuse',\n",
              " 'Assisted_Conception',\n",
              " 'History_Previous_Pregnancies',\n",
              " 'Birth_Defects',\n",
              " 'Blood_Test_Result',\n",
              " 'Genetic_Disorder',\n",
              " 'Disorder_Subclass']"
            ]
          },
          "metadata": {},
          "execution_count": 15
        }
      ],
      "source": [
        "categorical"
      ]
    },
    {
      "cell_type": "markdown",
      "id": "e6a20c7f-fd9a-4c84-b409-1e76707941ee",
      "metadata": {
        "id": "e6a20c7f-fd9a-4c84-b409-1e76707941ee"
      },
      "source": [
        "### Calculate missing values %"
      ]
    },
    {
      "cell_type": "code",
      "execution_count": 16,
      "id": "dbff470f-347d-4d5c-b9aa-e93b5eb65a9d",
      "metadata": {
        "id": "dbff470f-347d-4d5c-b9aa-e93b5eb65a9d",
        "outputId": "248ec0fc-1954-454a-c20a-d849a6d24ef0",
        "colab": {
          "base_uri": "https://localhost:8080/",
          "height": 962
        }
      },
      "outputs": [
        {
          "output_type": "execute_result",
          "data": {
            "text/plain": [
              "Birth_Asphyxia                  0.549427\n",
              "Radiation_Exposure              0.547842\n",
              "Substance_Abuse                 0.546801\n",
              "Mother_Age                      0.273332\n",
              "Father_Age                      0.271068\n",
              "Autopsy_Birth_Defect            0.198886\n",
              "Maternal_Gene                   0.127247\n",
              "Gender                          0.098401\n",
              "History_Previous_Pregnancies    0.098356\n",
              "Disorder_Subclass               0.098175\n",
              "Follow_Up                       0.098084\n",
              "Previous_Abortion               0.097903\n",
              "Birth_Defects                   0.097541\n",
              "Maternal_Illness                0.097451\n",
              "Respiratory_Rate_Breaths_Min    0.097315\n",
              "White_Blood_Cell                0.097269\n",
              "Genetic_Disorder                0.097179\n",
              "Blood_Test_Result               0.097134\n",
              "Place_Birth                     0.096183\n",
              "Assisted_Conception             0.096092\n",
              "Folic_Acid                      0.095866\n",
              "Heart_Rates_Min                 0.095684\n",
              "Patient_Age                     0.064620\n",
              "Inherited_Father                0.013857\n",
              "Blood_Cell_mcL                  0.000000\n",
              "Genes_Mother_Side               0.000000\n",
              "Status                          0.000000\n",
              "Paternal_Gene                   0.000000\n",
              "dtype: float64"
            ],
            "text/html": [
              "<div>\n",
              "<style scoped>\n",
              "    .dataframe tbody tr th:only-of-type {\n",
              "        vertical-align: middle;\n",
              "    }\n",
              "\n",
              "    .dataframe tbody tr th {\n",
              "        vertical-align: top;\n",
              "    }\n",
              "\n",
              "    .dataframe thead th {\n",
              "        text-align: right;\n",
              "    }\n",
              "</style>\n",
              "<table border=\"1\" class=\"dataframe\">\n",
              "  <thead>\n",
              "    <tr style=\"text-align: right;\">\n",
              "      <th></th>\n",
              "      <th>0</th>\n",
              "    </tr>\n",
              "  </thead>\n",
              "  <tbody>\n",
              "    <tr>\n",
              "      <th>Birth_Asphyxia</th>\n",
              "      <td>0.549427</td>\n",
              "    </tr>\n",
              "    <tr>\n",
              "      <th>Radiation_Exposure</th>\n",
              "      <td>0.547842</td>\n",
              "    </tr>\n",
              "    <tr>\n",
              "      <th>Substance_Abuse</th>\n",
              "      <td>0.546801</td>\n",
              "    </tr>\n",
              "    <tr>\n",
              "      <th>Mother_Age</th>\n",
              "      <td>0.273332</td>\n",
              "    </tr>\n",
              "    <tr>\n",
              "      <th>Father_Age</th>\n",
              "      <td>0.271068</td>\n",
              "    </tr>\n",
              "    <tr>\n",
              "      <th>Autopsy_Birth_Defect</th>\n",
              "      <td>0.198886</td>\n",
              "    </tr>\n",
              "    <tr>\n",
              "      <th>Maternal_Gene</th>\n",
              "      <td>0.127247</td>\n",
              "    </tr>\n",
              "    <tr>\n",
              "      <th>Gender</th>\n",
              "      <td>0.098401</td>\n",
              "    </tr>\n",
              "    <tr>\n",
              "      <th>History_Previous_Pregnancies</th>\n",
              "      <td>0.098356</td>\n",
              "    </tr>\n",
              "    <tr>\n",
              "      <th>Disorder_Subclass</th>\n",
              "      <td>0.098175</td>\n",
              "    </tr>\n",
              "    <tr>\n",
              "      <th>Follow_Up</th>\n",
              "      <td>0.098084</td>\n",
              "    </tr>\n",
              "    <tr>\n",
              "      <th>Previous_Abortion</th>\n",
              "      <td>0.097903</td>\n",
              "    </tr>\n",
              "    <tr>\n",
              "      <th>Birth_Defects</th>\n",
              "      <td>0.097541</td>\n",
              "    </tr>\n",
              "    <tr>\n",
              "      <th>Maternal_Illness</th>\n",
              "      <td>0.097451</td>\n",
              "    </tr>\n",
              "    <tr>\n",
              "      <th>Respiratory_Rate_Breaths_Min</th>\n",
              "      <td>0.097315</td>\n",
              "    </tr>\n",
              "    <tr>\n",
              "      <th>White_Blood_Cell</th>\n",
              "      <td>0.097269</td>\n",
              "    </tr>\n",
              "    <tr>\n",
              "      <th>Genetic_Disorder</th>\n",
              "      <td>0.097179</td>\n",
              "    </tr>\n",
              "    <tr>\n",
              "      <th>Blood_Test_Result</th>\n",
              "      <td>0.097134</td>\n",
              "    </tr>\n",
              "    <tr>\n",
              "      <th>Place_Birth</th>\n",
              "      <td>0.096183</td>\n",
              "    </tr>\n",
              "    <tr>\n",
              "      <th>Assisted_Conception</th>\n",
              "      <td>0.096092</td>\n",
              "    </tr>\n",
              "    <tr>\n",
              "      <th>Folic_Acid</th>\n",
              "      <td>0.095866</td>\n",
              "    </tr>\n",
              "    <tr>\n",
              "      <th>Heart_Rates_Min</th>\n",
              "      <td>0.095684</td>\n",
              "    </tr>\n",
              "    <tr>\n",
              "      <th>Patient_Age</th>\n",
              "      <td>0.064620</td>\n",
              "    </tr>\n",
              "    <tr>\n",
              "      <th>Inherited_Father</th>\n",
              "      <td>0.013857</td>\n",
              "    </tr>\n",
              "    <tr>\n",
              "      <th>Blood_Cell_mcL</th>\n",
              "      <td>0.000000</td>\n",
              "    </tr>\n",
              "    <tr>\n",
              "      <th>Genes_Mother_Side</th>\n",
              "      <td>0.000000</td>\n",
              "    </tr>\n",
              "    <tr>\n",
              "      <th>Status</th>\n",
              "      <td>0.000000</td>\n",
              "    </tr>\n",
              "    <tr>\n",
              "      <th>Paternal_Gene</th>\n",
              "      <td>0.000000</td>\n",
              "    </tr>\n",
              "  </tbody>\n",
              "</table>\n",
              "</div><br><label><b>dtype:</b> float64</label>"
            ]
          },
          "metadata": {},
          "execution_count": 16
        }
      ],
      "source": [
        "data.isna().mean().sort_values(ascending=False)"
      ]
    },
    {
      "cell_type": "code",
      "execution_count": 17,
      "id": "0e032ed9-48c1-4abd-be25-a1ff1ff76e63",
      "metadata": {
        "id": "0e032ed9-48c1-4abd-be25-a1ff1ff76e63",
        "outputId": "e859876d-13d1-45ad-e552-8f66155db5ee",
        "colab": {
          "base_uri": "https://localhost:8080/"
        }
      },
      "outputs": [
        {
          "output_type": "stream",
          "name": "stdout",
          "text": [
            " 14.47% is missing\n"
          ]
        }
      ],
      "source": [
        "print(f'{data.isna().sum().sum() / (data.shape[0] * data.shape[1])*100 : .2f}% is missing')"
      ]
    },
    {
      "cell_type": "code",
      "execution_count": 18,
      "id": "4bc3e21c-5938-4d66-8495-89748fdda5c4",
      "metadata": {
        "id": "4bc3e21c-5938-4d66-8495-89748fdda5c4",
        "outputId": "6689b4c2-bca4-4b54-ccc3-65e3e3287af1",
        "colab": {
          "base_uri": "https://localhost:8080/",
          "height": 227
        }
      },
      "outputs": [
        {
          "output_type": "stream",
          "name": "stdout",
          "text": [
            "N/A  0.09717882534075986\n"
          ]
        },
        {
          "output_type": "execute_result",
          "data": {
            "text/plain": [
              "Genetic_Disorder\n",
              "Mitochondrial genetic inheritance disorders     0.461984\n",
              "Single-gene inheritance diseases                0.347054\n",
              "Multifactorial genetic inheritance disorders    0.093783\n",
              "Name: count, dtype: float64"
            ],
            "text/html": [
              "<div>\n",
              "<style scoped>\n",
              "    .dataframe tbody tr th:only-of-type {\n",
              "        vertical-align: middle;\n",
              "    }\n",
              "\n",
              "    .dataframe tbody tr th {\n",
              "        vertical-align: top;\n",
              "    }\n",
              "\n",
              "    .dataframe thead th {\n",
              "        text-align: right;\n",
              "    }\n",
              "</style>\n",
              "<table border=\"1\" class=\"dataframe\">\n",
              "  <thead>\n",
              "    <tr style=\"text-align: right;\">\n",
              "      <th></th>\n",
              "      <th>count</th>\n",
              "    </tr>\n",
              "    <tr>\n",
              "      <th>Genetic_Disorder</th>\n",
              "      <th></th>\n",
              "    </tr>\n",
              "  </thead>\n",
              "  <tbody>\n",
              "    <tr>\n",
              "      <th>Mitochondrial genetic inheritance disorders</th>\n",
              "      <td>0.461984</td>\n",
              "    </tr>\n",
              "    <tr>\n",
              "      <th>Single-gene inheritance diseases</th>\n",
              "      <td>0.347054</td>\n",
              "    </tr>\n",
              "    <tr>\n",
              "      <th>Multifactorial genetic inheritance disorders</th>\n",
              "      <td>0.093783</td>\n",
              "    </tr>\n",
              "  </tbody>\n",
              "</table>\n",
              "</div><br><label><b>dtype:</b> float64</label>"
            ]
          },
          "metadata": {},
          "execution_count": 18
        }
      ],
      "source": [
        "print('N/A ', data[\"Genetic_Disorder\"].isna().sum() / data.shape[0])\n",
        "data[\"Genetic_Disorder\"].value_counts() / data.shape[0]"
      ]
    },
    {
      "cell_type": "code",
      "execution_count": 19,
      "id": "adbb056a-fce8-428a-851b-1648c3bd9280",
      "metadata": {
        "id": "adbb056a-fce8-428a-851b-1648c3bd9280",
        "outputId": "d4141f10-35a0-4766-ce7a-01bc4b7d4bda",
        "colab": {
          "base_uri": "https://localhost:8080/",
          "height": 416
        }
      },
      "outputs": [
        {
          "output_type": "stream",
          "name": "stdout",
          "text": [
            "N/A  0.09817506679346104\n"
          ]
        },
        {
          "output_type": "execute_result",
          "data": {
            "text/plain": [
              "Disorder_Subclass\n",
              "Leigh syndrome                         0.233664\n",
              "Mitochondrial myopathy                 0.199475\n",
              "Cystic fibrosis                        0.156138\n",
              "Tay-Sachs                              0.128289\n",
              "Diabetes                               0.082280\n",
              "Hemochromatosis                        0.061359\n",
              "Leber's hereditary optic neuropathy    0.029344\n",
              "Alzheimer's                            0.006883\n",
              "Cancer                                 0.004393\n",
              "Name: count, dtype: float64"
            ],
            "text/html": [
              "<div>\n",
              "<style scoped>\n",
              "    .dataframe tbody tr th:only-of-type {\n",
              "        vertical-align: middle;\n",
              "    }\n",
              "\n",
              "    .dataframe tbody tr th {\n",
              "        vertical-align: top;\n",
              "    }\n",
              "\n",
              "    .dataframe thead th {\n",
              "        text-align: right;\n",
              "    }\n",
              "</style>\n",
              "<table border=\"1\" class=\"dataframe\">\n",
              "  <thead>\n",
              "    <tr style=\"text-align: right;\">\n",
              "      <th></th>\n",
              "      <th>count</th>\n",
              "    </tr>\n",
              "    <tr>\n",
              "      <th>Disorder_Subclass</th>\n",
              "      <th></th>\n",
              "    </tr>\n",
              "  </thead>\n",
              "  <tbody>\n",
              "    <tr>\n",
              "      <th>Leigh syndrome</th>\n",
              "      <td>0.233664</td>\n",
              "    </tr>\n",
              "    <tr>\n",
              "      <th>Mitochondrial myopathy</th>\n",
              "      <td>0.199475</td>\n",
              "    </tr>\n",
              "    <tr>\n",
              "      <th>Cystic fibrosis</th>\n",
              "      <td>0.156138</td>\n",
              "    </tr>\n",
              "    <tr>\n",
              "      <th>Tay-Sachs</th>\n",
              "      <td>0.128289</td>\n",
              "    </tr>\n",
              "    <tr>\n",
              "      <th>Diabetes</th>\n",
              "      <td>0.082280</td>\n",
              "    </tr>\n",
              "    <tr>\n",
              "      <th>Hemochromatosis</th>\n",
              "      <td>0.061359</td>\n",
              "    </tr>\n",
              "    <tr>\n",
              "      <th>Leber's hereditary optic neuropathy</th>\n",
              "      <td>0.029344</td>\n",
              "    </tr>\n",
              "    <tr>\n",
              "      <th>Alzheimer's</th>\n",
              "      <td>0.006883</td>\n",
              "    </tr>\n",
              "    <tr>\n",
              "      <th>Cancer</th>\n",
              "      <td>0.004393</td>\n",
              "    </tr>\n",
              "  </tbody>\n",
              "</table>\n",
              "</div><br><label><b>dtype:</b> float64</label>"
            ]
          },
          "metadata": {},
          "execution_count": 19
        }
      ],
      "source": [
        "print('N/A ', data[\"Disorder_Subclass\"].isna().sum() / data.shape[0])\n",
        "data[\"Disorder_Subclass\"].value_counts() / data.shape[0]"
      ]
    },
    {
      "cell_type": "markdown",
      "id": "50b1dfda-1625-41c9-baa9-0c55c6e374ec",
      "metadata": {
        "id": "50b1dfda-1625-41c9-baa9-0c55c6e374ec"
      },
      "source": [
        "### Numerical data analysis"
      ]
    },
    {
      "cell_type": "code",
      "execution_count": 20,
      "id": "243e16a6-d4cb-4468-874d-9b8ea84d2858",
      "metadata": {
        "id": "243e16a6-d4cb-4468-874d-9b8ea84d2858",
        "outputId": "cd3c8f71-a1d0-46ce-e4c5-08b25e02ec1f",
        "colab": {
          "base_uri": "https://localhost:8080/",
          "height": 300
        }
      },
      "outputs": [
        {
          "output_type": "execute_result",
          "data": {
            "text/plain": [
              "        Patient_Age  Blood_Cell_mcL    Mother_Age    Father_Age  \\\n",
              "count  20656.000000    22083.000000  16047.000000  16097.000000   \n",
              "mean       6.974148        4.898871     34.526454     41.972852   \n",
              "std        4.319475        0.199663      9.852598     13.035501   \n",
              "min        0.000000        4.092727     18.000000     20.000000   \n",
              "25%        3.000000        4.763109     26.000000     31.000000   \n",
              "50%        7.000000        4.899399     35.000000     42.000000   \n",
              "75%       11.000000        5.033830     43.000000     53.000000   \n",
              "max       14.000000        5.609829     51.000000     64.000000   \n",
              "\n",
              "       Previous_Abortion  White_Blood_Cell  \n",
              "count       19921.000000      19935.000000  \n",
              "mean            2.003062          7.486224  \n",
              "std             1.411919          2.653393  \n",
              "min             0.000000          3.000000  \n",
              "25%             1.000000          5.424703  \n",
              "50%             2.000000          7.477132  \n",
              "75%             3.000000          9.526152  \n",
              "max             4.000000         12.000000  "
            ],
            "text/html": [
              "\n",
              "  <div id=\"df-302bea0a-4cc4-428c-ad1d-e05f2c3c585e\" class=\"colab-df-container\">\n",
              "    <div>\n",
              "<style scoped>\n",
              "    .dataframe tbody tr th:only-of-type {\n",
              "        vertical-align: middle;\n",
              "    }\n",
              "\n",
              "    .dataframe tbody tr th {\n",
              "        vertical-align: top;\n",
              "    }\n",
              "\n",
              "    .dataframe thead th {\n",
              "        text-align: right;\n",
              "    }\n",
              "</style>\n",
              "<table border=\"1\" class=\"dataframe\">\n",
              "  <thead>\n",
              "    <tr style=\"text-align: right;\">\n",
              "      <th></th>\n",
              "      <th>Patient_Age</th>\n",
              "      <th>Blood_Cell_mcL</th>\n",
              "      <th>Mother_Age</th>\n",
              "      <th>Father_Age</th>\n",
              "      <th>Previous_Abortion</th>\n",
              "      <th>White_Blood_Cell</th>\n",
              "    </tr>\n",
              "  </thead>\n",
              "  <tbody>\n",
              "    <tr>\n",
              "      <th>count</th>\n",
              "      <td>20656.000000</td>\n",
              "      <td>22083.000000</td>\n",
              "      <td>16047.000000</td>\n",
              "      <td>16097.000000</td>\n",
              "      <td>19921.000000</td>\n",
              "      <td>19935.000000</td>\n",
              "    </tr>\n",
              "    <tr>\n",
              "      <th>mean</th>\n",
              "      <td>6.974148</td>\n",
              "      <td>4.898871</td>\n",
              "      <td>34.526454</td>\n",
              "      <td>41.972852</td>\n",
              "      <td>2.003062</td>\n",
              "      <td>7.486224</td>\n",
              "    </tr>\n",
              "    <tr>\n",
              "      <th>std</th>\n",
              "      <td>4.319475</td>\n",
              "      <td>0.199663</td>\n",
              "      <td>9.852598</td>\n",
              "      <td>13.035501</td>\n",
              "      <td>1.411919</td>\n",
              "      <td>2.653393</td>\n",
              "    </tr>\n",
              "    <tr>\n",
              "      <th>min</th>\n",
              "      <td>0.000000</td>\n",
              "      <td>4.092727</td>\n",
              "      <td>18.000000</td>\n",
              "      <td>20.000000</td>\n",
              "      <td>0.000000</td>\n",
              "      <td>3.000000</td>\n",
              "    </tr>\n",
              "    <tr>\n",
              "      <th>25%</th>\n",
              "      <td>3.000000</td>\n",
              "      <td>4.763109</td>\n",
              "      <td>26.000000</td>\n",
              "      <td>31.000000</td>\n",
              "      <td>1.000000</td>\n",
              "      <td>5.424703</td>\n",
              "    </tr>\n",
              "    <tr>\n",
              "      <th>50%</th>\n",
              "      <td>7.000000</td>\n",
              "      <td>4.899399</td>\n",
              "      <td>35.000000</td>\n",
              "      <td>42.000000</td>\n",
              "      <td>2.000000</td>\n",
              "      <td>7.477132</td>\n",
              "    </tr>\n",
              "    <tr>\n",
              "      <th>75%</th>\n",
              "      <td>11.000000</td>\n",
              "      <td>5.033830</td>\n",
              "      <td>43.000000</td>\n",
              "      <td>53.000000</td>\n",
              "      <td>3.000000</td>\n",
              "      <td>9.526152</td>\n",
              "    </tr>\n",
              "    <tr>\n",
              "      <th>max</th>\n",
              "      <td>14.000000</td>\n",
              "      <td>5.609829</td>\n",
              "      <td>51.000000</td>\n",
              "      <td>64.000000</td>\n",
              "      <td>4.000000</td>\n",
              "      <td>12.000000</td>\n",
              "    </tr>\n",
              "  </tbody>\n",
              "</table>\n",
              "</div>\n",
              "    <div class=\"colab-df-buttons\">\n",
              "\n",
              "  <div class=\"colab-df-container\">\n",
              "    <button class=\"colab-df-convert\" onclick=\"convertToInteractive('df-302bea0a-4cc4-428c-ad1d-e05f2c3c585e')\"\n",
              "            title=\"Convert this dataframe to an interactive table.\"\n",
              "            style=\"display:none;\">\n",
              "\n",
              "  <svg xmlns=\"http://www.w3.org/2000/svg\" height=\"24px\" viewBox=\"0 -960 960 960\">\n",
              "    <path d=\"M120-120v-720h720v720H120Zm60-500h600v-160H180v160Zm220 220h160v-160H400v160Zm0 220h160v-160H400v160ZM180-400h160v-160H180v160Zm440 0h160v-160H620v160ZM180-180h160v-160H180v160Zm440 0h160v-160H620v160Z\"/>\n",
              "  </svg>\n",
              "    </button>\n",
              "\n",
              "  <style>\n",
              "    .colab-df-container {\n",
              "      display:flex;\n",
              "      gap: 12px;\n",
              "    }\n",
              "\n",
              "    .colab-df-convert {\n",
              "      background-color: #E8F0FE;\n",
              "      border: none;\n",
              "      border-radius: 50%;\n",
              "      cursor: pointer;\n",
              "      display: none;\n",
              "      fill: #1967D2;\n",
              "      height: 32px;\n",
              "      padding: 0 0 0 0;\n",
              "      width: 32px;\n",
              "    }\n",
              "\n",
              "    .colab-df-convert:hover {\n",
              "      background-color: #E2EBFA;\n",
              "      box-shadow: 0px 1px 2px rgba(60, 64, 67, 0.3), 0px 1px 3px 1px rgba(60, 64, 67, 0.15);\n",
              "      fill: #174EA6;\n",
              "    }\n",
              "\n",
              "    .colab-df-buttons div {\n",
              "      margin-bottom: 4px;\n",
              "    }\n",
              "\n",
              "    [theme=dark] .colab-df-convert {\n",
              "      background-color: #3B4455;\n",
              "      fill: #D2E3FC;\n",
              "    }\n",
              "\n",
              "    [theme=dark] .colab-df-convert:hover {\n",
              "      background-color: #434B5C;\n",
              "      box-shadow: 0px 1px 3px 1px rgba(0, 0, 0, 0.15);\n",
              "      filter: drop-shadow(0px 1px 2px rgba(0, 0, 0, 0.3));\n",
              "      fill: #FFFFFF;\n",
              "    }\n",
              "  </style>\n",
              "\n",
              "    <script>\n",
              "      const buttonEl =\n",
              "        document.querySelector('#df-302bea0a-4cc4-428c-ad1d-e05f2c3c585e button.colab-df-convert');\n",
              "      buttonEl.style.display =\n",
              "        google.colab.kernel.accessAllowed ? 'block' : 'none';\n",
              "\n",
              "      async function convertToInteractive(key) {\n",
              "        const element = document.querySelector('#df-302bea0a-4cc4-428c-ad1d-e05f2c3c585e');\n",
              "        const dataTable =\n",
              "          await google.colab.kernel.invokeFunction('convertToInteractive',\n",
              "                                                    [key], {});\n",
              "        if (!dataTable) return;\n",
              "\n",
              "        const docLinkHtml = 'Like what you see? Visit the ' +\n",
              "          '<a target=\"_blank\" href=https://colab.research.google.com/notebooks/data_table.ipynb>data table notebook</a>'\n",
              "          + ' to learn more about interactive tables.';\n",
              "        element.innerHTML = '';\n",
              "        dataTable['output_type'] = 'display_data';\n",
              "        await google.colab.output.renderOutput(dataTable, element);\n",
              "        const docLink = document.createElement('div');\n",
              "        docLink.innerHTML = docLinkHtml;\n",
              "        element.appendChild(docLink);\n",
              "      }\n",
              "    </script>\n",
              "  </div>\n",
              "\n",
              "\n",
              "<div id=\"df-80f0e115-5d2e-4d9a-af7d-34720261e781\">\n",
              "  <button class=\"colab-df-quickchart\" onclick=\"quickchart('df-80f0e115-5d2e-4d9a-af7d-34720261e781')\"\n",
              "            title=\"Suggest charts\"\n",
              "            style=\"display:none;\">\n",
              "\n",
              "<svg xmlns=\"http://www.w3.org/2000/svg\" height=\"24px\"viewBox=\"0 0 24 24\"\n",
              "     width=\"24px\">\n",
              "    <g>\n",
              "        <path d=\"M19 3H5c-1.1 0-2 .9-2 2v14c0 1.1.9 2 2 2h14c1.1 0 2-.9 2-2V5c0-1.1-.9-2-2-2zM9 17H7v-7h2v7zm4 0h-2V7h2v10zm4 0h-2v-4h2v4z\"/>\n",
              "    </g>\n",
              "</svg>\n",
              "  </button>\n",
              "\n",
              "<style>\n",
              "  .colab-df-quickchart {\n",
              "      --bg-color: #E8F0FE;\n",
              "      --fill-color: #1967D2;\n",
              "      --hover-bg-color: #E2EBFA;\n",
              "      --hover-fill-color: #174EA6;\n",
              "      --disabled-fill-color: #AAA;\n",
              "      --disabled-bg-color: #DDD;\n",
              "  }\n",
              "\n",
              "  [theme=dark] .colab-df-quickchart {\n",
              "      --bg-color: #3B4455;\n",
              "      --fill-color: #D2E3FC;\n",
              "      --hover-bg-color: #434B5C;\n",
              "      --hover-fill-color: #FFFFFF;\n",
              "      --disabled-bg-color: #3B4455;\n",
              "      --disabled-fill-color: #666;\n",
              "  }\n",
              "\n",
              "  .colab-df-quickchart {\n",
              "    background-color: var(--bg-color);\n",
              "    border: none;\n",
              "    border-radius: 50%;\n",
              "    cursor: pointer;\n",
              "    display: none;\n",
              "    fill: var(--fill-color);\n",
              "    height: 32px;\n",
              "    padding: 0;\n",
              "    width: 32px;\n",
              "  }\n",
              "\n",
              "  .colab-df-quickchart:hover {\n",
              "    background-color: var(--hover-bg-color);\n",
              "    box-shadow: 0 1px 2px rgba(60, 64, 67, 0.3), 0 1px 3px 1px rgba(60, 64, 67, 0.15);\n",
              "    fill: var(--button-hover-fill-color);\n",
              "  }\n",
              "\n",
              "  .colab-df-quickchart-complete:disabled,\n",
              "  .colab-df-quickchart-complete:disabled:hover {\n",
              "    background-color: var(--disabled-bg-color);\n",
              "    fill: var(--disabled-fill-color);\n",
              "    box-shadow: none;\n",
              "  }\n",
              "\n",
              "  .colab-df-spinner {\n",
              "    border: 2px solid var(--fill-color);\n",
              "    border-color: transparent;\n",
              "    border-bottom-color: var(--fill-color);\n",
              "    animation:\n",
              "      spin 1s steps(1) infinite;\n",
              "  }\n",
              "\n",
              "  @keyframes spin {\n",
              "    0% {\n",
              "      border-color: transparent;\n",
              "      border-bottom-color: var(--fill-color);\n",
              "      border-left-color: var(--fill-color);\n",
              "    }\n",
              "    20% {\n",
              "      border-color: transparent;\n",
              "      border-left-color: var(--fill-color);\n",
              "      border-top-color: var(--fill-color);\n",
              "    }\n",
              "    30% {\n",
              "      border-color: transparent;\n",
              "      border-left-color: var(--fill-color);\n",
              "      border-top-color: var(--fill-color);\n",
              "      border-right-color: var(--fill-color);\n",
              "    }\n",
              "    40% {\n",
              "      border-color: transparent;\n",
              "      border-right-color: var(--fill-color);\n",
              "      border-top-color: var(--fill-color);\n",
              "    }\n",
              "    60% {\n",
              "      border-color: transparent;\n",
              "      border-right-color: var(--fill-color);\n",
              "    }\n",
              "    80% {\n",
              "      border-color: transparent;\n",
              "      border-right-color: var(--fill-color);\n",
              "      border-bottom-color: var(--fill-color);\n",
              "    }\n",
              "    90% {\n",
              "      border-color: transparent;\n",
              "      border-bottom-color: var(--fill-color);\n",
              "    }\n",
              "  }\n",
              "</style>\n",
              "\n",
              "  <script>\n",
              "    async function quickchart(key) {\n",
              "      const quickchartButtonEl =\n",
              "        document.querySelector('#' + key + ' button');\n",
              "      quickchartButtonEl.disabled = true;  // To prevent multiple clicks.\n",
              "      quickchartButtonEl.classList.add('colab-df-spinner');\n",
              "      try {\n",
              "        const charts = await google.colab.kernel.invokeFunction(\n",
              "            'suggestCharts', [key], {});\n",
              "      } catch (error) {\n",
              "        console.error('Error during call to suggestCharts:', error);\n",
              "      }\n",
              "      quickchartButtonEl.classList.remove('colab-df-spinner');\n",
              "      quickchartButtonEl.classList.add('colab-df-quickchart-complete');\n",
              "    }\n",
              "    (() => {\n",
              "      let quickchartButtonEl =\n",
              "        document.querySelector('#df-80f0e115-5d2e-4d9a-af7d-34720261e781 button');\n",
              "      quickchartButtonEl.style.display =\n",
              "        google.colab.kernel.accessAllowed ? 'block' : 'none';\n",
              "    })();\n",
              "  </script>\n",
              "</div>\n",
              "    </div>\n",
              "  </div>\n"
            ],
            "application/vnd.google.colaboratory.intrinsic+json": {
              "type": "dataframe",
              "summary": "{\n  \"name\": \"data\",\n  \"rows\": 8,\n  \"fields\": [\n    {\n      \"column\": \"Patient_Age\",\n      \"properties\": {\n        \"dtype\": \"number\",\n        \"std\": 7300.661987010104,\n        \"min\": 0.0,\n        \"max\": 20656.0,\n        \"num_unique_values\": 8,\n        \"samples\": [\n          6.974147947327653,\n          7.0,\n          20656.0\n        ],\n        \"semantic_type\": \"\",\n        \"description\": \"\"\n      }\n    },\n    {\n      \"column\": \"Blood_Cell_mcL\",\n      \"properties\": {\n        \"dtype\": \"number\",\n        \"std\": 7806.029862326002,\n        \"min\": 0.1996628593278211,\n        \"max\": 22083.0,\n        \"num_unique_values\": 8,\n        \"samples\": [\n          4.8988710784395915,\n          4.899398760778927,\n          22083.0\n        ],\n        \"semantic_type\": \"\",\n        \"description\": \"\"\n      }\n    },\n    {\n      \"column\": \"Mother_Age\",\n      \"properties\": {\n        \"dtype\": \"number\",\n        \"std\": 5662.507267815499,\n        \"min\": 9.852598421454038,\n        \"max\": 16047.0,\n        \"num_unique_values\": 8,\n        \"samples\": [\n          34.526453542718265,\n          35.0,\n          16047.0\n        ],\n        \"semantic_type\": \"\",\n        \"description\": \"\"\n      }\n    },\n    {\n      \"column\": \"Father_Age\",\n      \"properties\": {\n        \"dtype\": \"number\",\n        \"std\": 5677.788251196886,\n        \"min\": 13.035500579967351,\n        \"max\": 16097.0,\n        \"num_unique_values\": 8,\n        \"samples\": [\n          41.9728520842393,\n          42.0,\n          16097.0\n        ],\n        \"semantic_type\": \"\",\n        \"description\": \"\"\n      }\n    },\n    {\n      \"column\": \"Previous_Abortion\",\n      \"properties\": {\n        \"dtype\": \"number\",\n        \"std\": 7042.459639591397,\n        \"min\": 0.0,\n        \"max\": 19921.0,\n        \"num_unique_values\": 8,\n        \"samples\": [\n          2.0030620952763414,\n          2.0,\n          19921.0\n        ],\n        \"semantic_type\": \"\",\n        \"description\": \"\"\n      }\n    },\n    {\n      \"column\": \"White_Blood_Cell\",\n      \"properties\": {\n        \"dtype\": \"number\",\n        \"std\": 7045.685013453951,\n        \"min\": 2.6533926523006097,\n        \"max\": 19935.0,\n        \"num_unique_values\": 8,\n        \"samples\": [\n          7.486223987209423,\n          7.477132167319063,\n          19935.0\n        ],\n        \"semantic_type\": \"\",\n        \"description\": \"\"\n      }\n    }\n  ]\n}"
            }
          },
          "metadata": {},
          "execution_count": 20
        }
      ],
      "source": [
        "data.describe()"
      ]
    },
    {
      "cell_type": "code",
      "source": [
        "data[numerical].plot(kind='box', subplots=True, sharey=False, figsize=(10, 5))\n",
        "plt.subplots_adjust(wspace=0.5)"
      ],
      "metadata": {
        "colab": {
          "base_uri": "https://localhost:8080/",
          "height": 445
        },
        "id": "k05zemjHm0zF",
        "outputId": "99cda438-4fd5-44b5-edb2-3719b00be7b7"
      },
      "id": "k05zemjHm0zF",
      "execution_count": 21,
      "outputs": [
        {
          "output_type": "display_data",
          "data": {
            "text/plain": [
              "<Figure size 1000x500 with 6 Axes>"
            ],
            "image/png": "[encoded data removed]"
          },
          "metadata": {}
        }
      ]
    },
    {
      "cell_type": "code",
      "execution_count": 22,
      "id": "fbba0cef-d87d-4338-bd7d-a62446fd127e",
      "metadata": {
        "id": "fbba0cef-d87d-4338-bd7d-a62446fd127e",
        "outputId": "466dfe13-c74f-47c3-c8b7-49e730b68560",
        "colab": {
          "base_uri": "https://localhost:8080/",
          "height": 564
        }
      },
      "outputs": [
        {
          "output_type": "execute_result",
          "data": {
            "text/plain": [
              "<Axes: >"
            ]
          },
          "metadata": {},
          "execution_count": 22
        },
        {
          "output_type": "display_data",
          "data": {
            "text/plain": [
              "<Figure size 640x480 with 2 Axes>"
            ],
            "image/png": "[encoded data removed]"
          },
          "metadata": {}
        }
      ],
      "source": [
        "corr_mat = data.corr(numeric_only=True)\n",
        "sns.heatmap(corr_mat, square=True, vmin=-1, vmax=1, cmap='coolwarm')"
      ]
    },
    {
      "cell_type": "markdown",
      "id": "21fd68ee-b1fe-4239-b869-656d444a8ee5",
      "metadata": {
        "id": "21fd68ee-b1fe-4239-b869-656d444a8ee5"
      },
      "source": [
        "- As we can see there is no correlation between numerical data."
      ]
    },
    {
      "cell_type": "markdown",
      "id": "ac37638a-25db-4682-a963-0d2566316c3c",
      "metadata": {
        "id": "ac37638a-25db-4682-a963-0d2566316c3c"
      },
      "source": [
        "### Check and remove outliers"
      ]
    },
    {
      "cell_type": "code",
      "execution_count": 23,
      "id": "9fba65f0-822c-4cba-b8a7-c26715b74a82",
      "metadata": {
        "id": "9fba65f0-822c-4cba-b8a7-c26715b74a82",
        "outputId": "d861ffb2-4843-4eee-f6b5-4498c9972718",
        "colab": {
          "base_uri": "https://localhost:8080/"
        }
      },
      "outputs": [
        {
          "output_type": "stream",
          "name": "stdout",
          "text": [
            "Patient_Age          0\n",
            "Blood_Cell_mcL       143\n",
            "Mother_Age           0\n",
            "Father_Age           0\n",
            "Previous_Abortion    0\n",
            "White_Blood_Cell     0\n"
          ]
        }
      ],
      "source": [
        "for c in numerical:\n",
        "    num = data[c]\n",
        "    Q1 = num.quantile(0.25)\n",
        "    Q3 = num.quantile(0.75)\n",
        "    IQR = Q3 - Q1\n",
        "    out = num[((num < (Q1 - 1.5 * IQR)) | (num > (Q3 + 1.5 * IQR)))]\n",
        "    print(f'{c : <20}', len(out))"
      ]
    },
    {
      "cell_type": "code",
      "execution_count": 24,
      "id": "679cf031-e10c-4930-b40f-fd02906bc2e8",
      "metadata": {
        "id": "679cf031-e10c-4930-b40f-fd02906bc2e8"
      },
      "outputs": [],
      "source": [
        "col = data[\"Blood_Cell_mcL\"]\n",
        "Q1 = col.quantile(0.25)\n",
        "Q3 = col.quantile(0.75)\n",
        "IQR = Q3 - Q1\n",
        "rows_to_drop = col[((col < (Q1 - 1.5 * IQR)) | (col > (Q3 + 1.5 * IQR)))].index\n",
        "data.drop(rows_to_drop, inplace=True)"
      ]
    },
    {
      "cell_type": "code",
      "execution_count": 25,
      "id": "6a5edba4-9867-48e0-9879-5c3a212aa203",
      "metadata": {
        "id": "6a5edba4-9867-48e0-9879-5c3a212aa203",
        "outputId": "caafbf73-55ad-4c61-bda0-b0694386becb",
        "colab": {
          "base_uri": "https://localhost:8080/"
        }
      },
      "outputs": [
        {
          "output_type": "execute_result",
          "data": {
            "text/plain": [
              "(21940, 28)"
            ]
          },
          "metadata": {},
          "execution_count": 25
        }
      ],
      "source": [
        "data.shape"
      ]
    },
    {
      "cell_type": "markdown",
      "id": "2a2d52f6-55f6-44a7-9a66-15782e9b0b07",
      "metadata": {
        "id": "2a2d52f6-55f6-44a7-9a66-15782e9b0b07"
      },
      "source": [
        "## Fill N/A data"
      ]
    },
    {
      "cell_type": "code",
      "execution_count": 26,
      "id": "c2ce11ce-4897-484a-be61-31508767c175",
      "metadata": {
        "id": "c2ce11ce-4897-484a-be61-31508767c175",
        "outputId": "c25d09ad-9665-42a0-d202-7845336f1bee",
        "colab": {
          "base_uri": "https://localhost:8080/",
          "height": 962
        }
      },
      "outputs": [
        {
          "output_type": "execute_result",
          "data": {
            "text/plain": [
              "Patient_Age                      1415\n",
              "Genes_Mother_Side                   0\n",
              "Inherited_Father                  305\n",
              "Maternal_Gene                    2795\n",
              "Paternal_Gene                       0\n",
              "Blood_Cell_mcL                      0\n",
              "Mother_Age                       5995\n",
              "Father_Age                       5947\n",
              "Status                              0\n",
              "Respiratory_Rate_Breaths_Min     2134\n",
              "Heart_Rates_Min                  2100\n",
              "Follow_Up                        2158\n",
              "Gender                           2163\n",
              "Birth_Asphyxia                  12064\n",
              "Autopsy_Birth_Defect             4371\n",
              "Place_Birth                      2117\n",
              "Folic_Acid                       2103\n",
              "Maternal_Illness                 2140\n",
              "Radiation_Exposure              12024\n",
              "Substance_Abuse                 11994\n",
              "Assisted_Conception              2103\n",
              "History_Previous_Pregnancies     2159\n",
              "Previous_Abortion                2145\n",
              "Birth_Defects                    2138\n",
              "White_Blood_Cell                 2136\n",
              "Blood_Test_Result                2132\n",
              "Genetic_Disorder                 2132\n",
              "Disorder_Subclass                2156\n",
              "dtype: int64"
            ],
            "text/html": [
              "<div>\n",
              "<style scoped>\n",
              "    .dataframe tbody tr th:only-of-type {\n",
              "        vertical-align: middle;\n",
              "    }\n",
              "\n",
              "    .dataframe tbody tr th {\n",
              "        vertical-align: top;\n",
              "    }\n",
              "\n",
              "    .dataframe thead th {\n",
              "        text-align: right;\n",
              "    }\n",
              "</style>\n",
              "<table border=\"1\" class=\"dataframe\">\n",
              "  <thead>\n",
              "    <tr style=\"text-align: right;\">\n",
              "      <th></th>\n",
              "      <th>0</th>\n",
              "    </tr>\n",
              "  </thead>\n",
              "  <tbody>\n",
              "    <tr>\n",
              "      <th>Patient_Age</th>\n",
              "      <td>1415</td>\n",
              "    </tr>\n",
              "    <tr>\n",
              "      <th>Genes_Mother_Side</th>\n",
              "      <td>0</td>\n",
              "    </tr>\n",
              "    <tr>\n",
              "      <th>Inherited_Father</th>\n",
              "      <td>305</td>\n",
              "    </tr>\n",
              "    <tr>\n",
              "      <th>Maternal_Gene</th>\n",
              "      <td>2795</td>\n",
              "    </tr>\n",
              "    <tr>\n",
              "      <th>Paternal_Gene</th>\n",
              "      <td>0</td>\n",
              "    </tr>\n",
              "    <tr>\n",
              "      <th>Blood_Cell_mcL</th>\n",
              "      <td>0</td>\n",
              "    </tr>\n",
              "    <tr>\n",
              "      <th>Mother_Age</th>\n",
              "      <td>5995</td>\n",
              "    </tr>\n",
              "    <tr>\n",
              "      <th>Father_Age</th>\n",
              "      <td>5947</td>\n",
              "    </tr>\n",
              "    <tr>\n",
              "      <th>Status</th>\n",
              "      <td>0</td>\n",
              "    </tr>\n",
              "    <tr>\n",
              "      <th>Respiratory_Rate_Breaths_Min</th>\n",
              "      <td>2134</td>\n",
              "    </tr>\n",
              "    <tr>\n",
              "      <th>Heart_Rates_Min</th>\n",
              "      <td>2100</td>\n",
              "    </tr>\n",
              "    <tr>\n",
              "      <th>Follow_Up</th>\n",
              "      <td>2158</td>\n",
              "    </tr>\n",
              "    <tr>\n",
              "      <th>Gender</th>\n",
              "      <td>2163</td>\n",
              "    </tr>\n",
              "    <tr>\n",
              "      <th>Birth_Asphyxia</th>\n",
              "      <td>12064</td>\n",
              "    </tr>\n",
              "    <tr>\n",
              "      <th>Autopsy_Birth_Defect</th>\n",
              "      <td>4371</td>\n",
              "    </tr>\n",
              "    <tr>\n",
              "      <th>Place_Birth</th>\n",
              "      <td>2117</td>\n",
              "    </tr>\n",
              "    <tr>\n",
              "      <th>Folic_Acid</th>\n",
              "      <td>2103</td>\n",
              "    </tr>\n",
              "    <tr>\n",
              "      <th>Maternal_Illness</th>\n",
              "      <td>2140</td>\n",
              "    </tr>\n",
              "    <tr>\n",
              "      <th>Radiation_Exposure</th>\n",
              "      <td>12024</td>\n",
              "    </tr>\n",
              "    <tr>\n",
              "      <th>Substance_Abuse</th>\n",
              "      <td>11994</td>\n",
              "    </tr>\n",
              "    <tr>\n",
              "      <th>Assisted_Conception</th>\n",
              "      <td>2103</td>\n",
              "    </tr>\n",
              "    <tr>\n",
              "      <th>History_Previous_Pregnancies</th>\n",
              "      <td>2159</td>\n",
              "    </tr>\n",
              "    <tr>\n",
              "      <th>Previous_Abortion</th>\n",
              "      <td>2145</td>\n",
              "    </tr>\n",
              "    <tr>\n",
              "      <th>Birth_Defects</th>\n",
              "      <td>2138</td>\n",
              "    </tr>\n",
              "    <tr>\n",
              "      <th>White_Blood_Cell</th>\n",
              "      <td>2136</td>\n",
              "    </tr>\n",
              "    <tr>\n",
              "      <th>Blood_Test_Result</th>\n",
              "      <td>2132</td>\n",
              "    </tr>\n",
              "    <tr>\n",
              "      <th>Genetic_Disorder</th>\n",
              "      <td>2132</td>\n",
              "    </tr>\n",
              "    <tr>\n",
              "      <th>Disorder_Subclass</th>\n",
              "      <td>2156</td>\n",
              "    </tr>\n",
              "  </tbody>\n",
              "</table>\n",
              "</div><br><label><b>dtype:</b> int64</label>"
            ]
          },
          "metadata": {},
          "execution_count": 26
        }
      ],
      "source": [
        "data.isna().sum()"
      ]
    },
    {
      "cell_type": "code",
      "execution_count": 27,
      "id": "5d2d943d-5f9f-4012-aa55-32c9c2283ba3",
      "metadata": {
        "id": "5d2d943d-5f9f-4012-aa55-32c9c2283ba3"
      },
      "outputs": [],
      "source": [
        "data.drop(columns=[\"Genetic_Disorder\"], inplace=True)"
      ]
    },
    {
      "cell_type": "code",
      "execution_count": 28,
      "id": "afd1633b-3a26-43c9-a842-87ac1f11ca70",
      "metadata": {
        "id": "afd1633b-3a26-43c9-a842-87ac1f11ca70",
        "outputId": "61712818-23f6-4b20-f9d3-b012e8446dc6",
        "colab": {
          "base_uri": "https://localhost:8080/"
        }
      },
      "outputs": [
        {
          "output_type": "stream",
          "name": "stdout",
          "text": [
            "Patient_Age                    4.0\n",
            "Genes_Mother_Side              Yes\n",
            "Inherited_Father               No\n",
            "Maternal_Gene                  Yes\n",
            "Paternal_Gene                  No\n",
            "Blood_Cell_mcL                 4.357634000828609\n",
            "Mother_Age                     23.0\n",
            "Father_Age                     20.0\n",
            "Status                         Alive\n",
            "Respiratory_Rate_Breaths_Min   Normal (30-60)\n",
            "Heart_Rates_Min                Normal\n",
            "Follow_Up                      Low\n",
            "Gender                         Ambiguous\n",
            "Birth_Asphyxia                 Yes\n",
            "Autopsy_Birth_Defect           Not applicable\n",
            "Place_Birth                    Institute\n",
            "Folic_Acid                     Yes\n",
            "Maternal_Illness               No\n",
            "Radiation_Exposure             No\n",
            "Substance_Abuse                No\n",
            "Assisted_Conception            Yes\n",
            "History_Previous_Pregnancies   Yes\n",
            "Previous_Abortion              2.0\n",
            "Birth_Defects                  Singular\n",
            "White_Blood_Cell               3.0\n",
            "Blood_Test_Result              slightly abnormal\n",
            "Disorder_Subclass              Leigh syndrome\n"
          ]
        }
      ],
      "source": [
        "for c in data.columns:\n",
        "    print(f'{c : <30}', data[c].mode()[0])"
      ]
    },
    {
      "cell_type": "code",
      "execution_count": 29,
      "id": "08610742-35e4-4ca0-8b53-7ef5e1d6ba3d",
      "metadata": {
        "id": "08610742-35e4-4ca0-8b53-7ef5e1d6ba3d",
        "colab": {
          "base_uri": "https://localhost:8080/"
        },
        "collapsed": true,
        "outputId": "1a1f32f8-bd60-475a-e3a6-0a609e9cb563"
      },
      "outputs": [
        {
          "output_type": "stream",
          "name": "stderr",
          "text": [
            "<ipython-input-29-6af8dcc71e5e>:4: FutureWarning: A value is trying to be set on a copy of a DataFrame or Series through chained assignment using an inplace method.\n",
            "The behavior will change in pandas 3.0. This inplace method will never work because the intermediate object on which we are setting values always behaves as a copy.\n",
            "\n",
            "For example, when doing 'df[col].method(value, inplace=True)', try using 'df.method({col: value}, inplace=True)' or df[col] = df[col].method(value) instead, to perform the operation inplace on the original object.\n",
            "\n",
            "\n",
            "  data[c].fillna(data[c].mode()[0], inplace=True)\n"
          ]
        }
      ],
      "source": [
        "categorical.remove(\"Genetic_Disorder\")\n",
        "for c in categorical:\n",
        "    if(c != \"Disorder_Subclass\"):\n",
        "        data[c].fillna(data[c].mode()[0], inplace=True)"
      ]
    },
    {
      "cell_type": "code",
      "execution_count": 30,
      "id": "aae8c146-6ed8-41a1-8154-cca7454e08b6",
      "metadata": {
        "id": "aae8c146-6ed8-41a1-8154-cca7454e08b6",
        "colab": {
          "base_uri": "https://localhost:8080/"
        },
        "collapsed": true,
        "outputId": "ad50a8bd-eef9-4ce0-be6e-a9b9d2b3d01f"
      },
      "outputs": [
        {
          "output_type": "stream",
          "name": "stderr",
          "text": [
            "<ipython-input-30-d7681c258840>:2: FutureWarning: A value is trying to be set on a copy of a DataFrame or Series through chained assignment using an inplace method.\n",
            "The behavior will change in pandas 3.0. This inplace method will never work because the intermediate object on which we are setting values always behaves as a copy.\n",
            "\n",
            "For example, when doing 'df[col].method(value, inplace=True)', try using 'df.method({col: value}, inplace=True)' or df[col] = df[col].method(value) instead, to perform the operation inplace on the original object.\n",
            "\n",
            "\n",
            "  data[c].fillna(data.groupby([\"Disorder_Subclass\"])[c].transform('mean') , inplace=True)\n",
            "<ipython-input-30-d7681c258840>:2: FutureWarning: A value is trying to be set on a copy of a DataFrame or Series through chained assignment using an inplace method.\n",
            "The behavior will change in pandas 3.0. This inplace method will never work because the intermediate object on which we are setting values always behaves as a copy.\n",
            "\n",
            "For example, when doing 'df[col].method(value, inplace=True)', try using 'df.method({col: value}, inplace=True)' or df[col] = df[col].method(value) instead, to perform the operation inplace on the original object.\n",
            "\n",
            "\n",
            "  data[c].fillna(data.groupby([\"Disorder_Subclass\"])[c].transform('mean') , inplace=True)\n",
            "<ipython-input-30-d7681c258840>:2: FutureWarning: A value is trying to be set on a copy of a DataFrame or Series through chained assignment using an inplace method.\n",
            "The behavior will change in pandas 3.0. This inplace method will never work because the intermediate object on which we are setting values always behaves as a copy.\n",
            "\n",
            "For example, when doing 'df[col].method(value, inplace=True)', try using 'df.method({col: value}, inplace=True)' or df[col] = df[col].method(value) instead, to perform the operation inplace on the original object.\n",
            "\n",
            "\n",
            "  data[c].fillna(data.groupby([\"Disorder_Subclass\"])[c].transform('mean') , inplace=True)\n",
            "<ipython-input-30-d7681c258840>:2: FutureWarning: A value is trying to be set on a copy of a DataFrame or Series through chained assignment using an inplace method.\n",
            "The behavior will change in pandas 3.0. This inplace method will never work because the intermediate object on which we are setting values always behaves as a copy.\n",
            "\n",
            "For example, when doing 'df[col].method(value, inplace=True)', try using 'df.method({col: value}, inplace=True)' or df[col] = df[col].method(value) instead, to perform the operation inplace on the original object.\n",
            "\n",
            "\n",
            "  data[c].fillna(data.groupby([\"Disorder_Subclass\"])[c].transform('mean') , inplace=True)\n",
            "<ipython-input-30-d7681c258840>:2: FutureWarning: A value is trying to be set on a copy of a DataFrame or Series through chained assignment using an inplace method.\n",
            "The behavior will change in pandas 3.0. This inplace method will never work because the intermediate object on which we are setting values always behaves as a copy.\n",
            "\n",
            "For example, when doing 'df[col].method(value, inplace=True)', try using 'df.method({col: value}, inplace=True)' or df[col] = df[col].method(value) instead, to perform the operation inplace on the original object.\n",
            "\n",
            "\n",
            "  data[c].fillna(data.groupby([\"Disorder_Subclass\"])[c].transform('mean') , inplace=True)\n",
            "<ipython-input-30-d7681c258840>:2: FutureWarning: A value is trying to be set on a copy of a DataFrame or Series through chained assignment using an inplace method.\n",
            "The behavior will change in pandas 3.0. This inplace method will never work because the intermediate object on which we are setting values always behaves as a copy.\n",
            "\n",
            "For example, when doing 'df[col].method(value, inplace=True)', try using 'df.method({col: value}, inplace=True)' or df[col] = df[col].method(value) instead, to perform the operation inplace on the original object.\n",
            "\n",
            "\n",
            "  data[c].fillna(data.groupby([\"Disorder_Subclass\"])[c].transform('mean') , inplace=True)\n"
          ]
        }
      ],
      "source": [
        "for c in numerical:\n",
        "    data[c].fillna(data.groupby([\"Disorder_Subclass\"])[c].transform('mean') , inplace=True)"
      ]
    },
    {
      "cell_type": "code",
      "execution_count": 31,
      "id": "155de07a-57e5-433c-b69f-2e48b046e76f",
      "metadata": {
        "id": "155de07a-57e5-433c-b69f-2e48b046e76f",
        "outputId": "6a461987-8a5f-47d8-8639-a237aaec45a0",
        "colab": {
          "base_uri": "https://localhost:8080/"
        }
      },
      "outputs": [
        {
          "output_type": "execute_result",
          "data": {
            "text/plain": [
              "0"
            ]
          },
          "metadata": {},
          "execution_count": 31
        }
      ],
      "source": [
        "data.dropna(axis=0, inplace=True)\n",
        "data.isna().sum().sum()"
      ]
    },
    {
      "cell_type": "code",
      "execution_count": 32,
      "id": "7cb072a2-545c-4ece-b27d-5ad3e91ccb96",
      "metadata": {
        "id": "7cb072a2-545c-4ece-b27d-5ad3e91ccb96",
        "outputId": "c9410684-d1f4-4f77-a371-23082414f390",
        "colab": {
          "base_uri": "https://localhost:8080/"
        }
      },
      "outputs": [
        {
          "output_type": "stream",
          "name": "stdout",
          "text": [
            "<class 'pandas.core.frame.DataFrame'>\n",
            "Index: 19784 entries, 0 to 22082\n",
            "Data columns (total 27 columns):\n",
            " #   Column                        Non-Null Count  Dtype  \n",
            "---  ------                        --------------  -----  \n",
            " 0   Patient_Age                   19784 non-null  float64\n",
            " 1   Genes_Mother_Side             19784 non-null  object \n",
            " 2   Inherited_Father              19784 non-null  object \n",
            " 3   Maternal_Gene                 19784 non-null  object \n",
            " 4   Paternal_Gene                 19784 non-null  object \n",
            " 5   Blood_Cell_mcL                19784 non-null  float64\n",
            " 6   Mother_Age                    19784 non-null  float64\n",
            " 7   Father_Age                    19784 non-null  float64\n",
            " 8   Status                        19784 non-null  object \n",
            " 9   Respiratory_Rate_Breaths_Min  19784 non-null  object \n",
            " 10  Heart_Rates_Min               19784 non-null  object \n",
            " 11  Follow_Up                     19784 non-null  object \n",
            " 12  Gender                        19784 non-null  object \n",
            " 13  Birth_Asphyxia                19784 non-null  object \n",
            " 14  Autopsy_Birth_Defect          19784 non-null  object \n",
            " 15  Place_Birth                   19784 non-null  object \n",
            " 16  Folic_Acid                    19784 non-null  object \n",
            " 17  Maternal_Illness              19784 non-null  object \n",
            " 18  Radiation_Exposure            19784 non-null  object \n",
            " 19  Substance_Abuse               19784 non-null  object \n",
            " 20  Assisted_Conception           19784 non-null  object \n",
            " 21  History_Previous_Pregnancies  19784 non-null  object \n",
            " 22  Previous_Abortion             19784 non-null  float64\n",
            " 23  Birth_Defects                 19784 non-null  object \n",
            " 24  White_Blood_Cell              19784 non-null  float64\n",
            " 25  Blood_Test_Result             19784 non-null  object \n",
            " 26  Disorder_Subclass             19784 non-null  object \n",
            "dtypes: float64(6), object(21)\n",
            "memory usage: 4.2+ MB\n"
          ]
        }
      ],
      "source": [
        "data.info()"
      ]
    },
    {
      "cell_type": "markdown",
      "id": "46de26f3-bab5-4cc8-a62d-0409ccfc0f1b",
      "metadata": {
        "id": "46de26f3-bab5-4cc8-a62d-0409ccfc0f1b"
      },
      "source": [
        "### Vectorization of categorical data"
      ]
    },
    {
      "cell_type": "code",
      "execution_count": 33,
      "id": "c46fd58a-e30b-4a11-a104-c3be91e61beb",
      "metadata": {
        "id": "c46fd58a-e30b-4a11-a104-c3be91e61beb",
        "outputId": "ee91bf2b-cead-4fe1-a6e4-32b1bf97a443",
        "colab": {
          "base_uri": "https://localhost:8080/",
          "height": 742
        }
      },
      "outputs": [
        {
          "output_type": "execute_result",
          "data": {
            "text/plain": [
              "Genes_Mother_Side               2\n",
              "Inherited_Father                2\n",
              "Maternal_Gene                   2\n",
              "Paternal_Gene                   2\n",
              "Status                          2\n",
              "Respiratory_Rate_Breaths_Min    2\n",
              "Heart_Rates_Min                 2\n",
              "Follow_Up                       2\n",
              "Gender                          3\n",
              "Birth_Asphyxia                  2\n",
              "Autopsy_Birth_Defect            3\n",
              "Place_Birth                     2\n",
              "Folic_Acid                      2\n",
              "Maternal_Illness                2\n",
              "Radiation_Exposure              2\n",
              "Substance_Abuse                 2\n",
              "Assisted_Conception             2\n",
              "History_Previous_Pregnancies    2\n",
              "Birth_Defects                   2\n",
              "Blood_Test_Result               4\n",
              "Disorder_Subclass               9\n",
              "dtype: int64"
            ],
            "text/html": [
              "<div>\n",
              "<style scoped>\n",
              "    .dataframe tbody tr th:only-of-type {\n",
              "        vertical-align: middle;\n",
              "    }\n",
              "\n",
              "    .dataframe tbody tr th {\n",
              "        vertical-align: top;\n",
              "    }\n",
              "\n",
              "    .dataframe thead th {\n",
              "        text-align: right;\n",
              "    }\n",
              "</style>\n",
              "<table border=\"1\" class=\"dataframe\">\n",
              "  <thead>\n",
              "    <tr style=\"text-align: right;\">\n",
              "      <th></th>\n",
              "      <th>0</th>\n",
              "    </tr>\n",
              "  </thead>\n",
              "  <tbody>\n",
              "    <tr>\n",
              "      <th>Genes_Mother_Side</th>\n",
              "      <td>2</td>\n",
              "    </tr>\n",
              "    <tr>\n",
              "      <th>Inherited_Father</th>\n",
              "      <td>2</td>\n",
              "    </tr>\n",
              "    <tr>\n",
              "      <th>Maternal_Gene</th>\n",
              "      <td>2</td>\n",
              "    </tr>\n",
              "    <tr>\n",
              "      <th>Paternal_Gene</th>\n",
              "      <td>2</td>\n",
              "    </tr>\n",
              "    <tr>\n",
              "      <th>Status</th>\n",
              "      <td>2</td>\n",
              "    </tr>\n",
              "    <tr>\n",
              "      <th>Respiratory_Rate_Breaths_Min</th>\n",
              "      <td>2</td>\n",
              "    </tr>\n",
              "    <tr>\n",
              "      <th>Heart_Rates_Min</th>\n",
              "      <td>2</td>\n",
              "    </tr>\n",
              "    <tr>\n",
              "      <th>Follow_Up</th>\n",
              "      <td>2</td>\n",
              "    </tr>\n",
              "    <tr>\n",
              "      <th>Gender</th>\n",
              "      <td>3</td>\n",
              "    </tr>\n",
              "    <tr>\n",
              "      <th>Birth_Asphyxia</th>\n",
              "      <td>2</td>\n",
              "    </tr>\n",
              "    <tr>\n",
              "      <th>Autopsy_Birth_Defect</th>\n",
              "      <td>3</td>\n",
              "    </tr>\n",
              "    <tr>\n",
              "      <th>Place_Birth</th>\n",
              "      <td>2</td>\n",
              "    </tr>\n",
              "    <tr>\n",
              "      <th>Folic_Acid</th>\n",
              "      <td>2</td>\n",
              "    </tr>\n",
              "    <tr>\n",
              "      <th>Maternal_Illness</th>\n",
              "      <td>2</td>\n",
              "    </tr>\n",
              "    <tr>\n",
              "      <th>Radiation_Exposure</th>\n",
              "      <td>2</td>\n",
              "    </tr>\n",
              "    <tr>\n",
              "      <th>Substance_Abuse</th>\n",
              "      <td>2</td>\n",
              "    </tr>\n",
              "    <tr>\n",
              "      <th>Assisted_Conception</th>\n",
              "      <td>2</td>\n",
              "    </tr>\n",
              "    <tr>\n",
              "      <th>History_Previous_Pregnancies</th>\n",
              "      <td>2</td>\n",
              "    </tr>\n",
              "    <tr>\n",
              "      <th>Birth_Defects</th>\n",
              "      <td>2</td>\n",
              "    </tr>\n",
              "    <tr>\n",
              "      <th>Blood_Test_Result</th>\n",
              "      <td>4</td>\n",
              "    </tr>\n",
              "    <tr>\n",
              "      <th>Disorder_Subclass</th>\n",
              "      <td>9</td>\n",
              "    </tr>\n",
              "  </tbody>\n",
              "</table>\n",
              "</div><br><label><b>dtype:</b> int64</label>"
            ]
          },
          "metadata": {},
          "execution_count": 33
        }
      ],
      "source": [
        "data[categorical].nunique()"
      ]
    },
    {
      "cell_type": "code",
      "execution_count": 34,
      "id": "bdcc174a-ede8-4128-909a-3212359aa5fd",
      "metadata": {
        "id": "bdcc174a-ede8-4128-909a-3212359aa5fd",
        "outputId": "6936bfab-818d-408d-c25d-2f6c98193faa",
        "colab": {
          "base_uri": "https://localhost:8080/"
        }
      },
      "outputs": [
        {
          "output_type": "execute_result",
          "data": {
            "text/plain": [
              "['Gender', 'Autopsy_Birth_Defect', 'Blood_Test_Result']"
            ]
          },
          "metadata": {},
          "execution_count": 34
        }
      ],
      "source": [
        "binary = [c for c in categorical if len(data[c].unique()) == 2]\n",
        "nonbinary = [c for c in categorical if len(data[c].unique()) > 2]\n",
        "nonbinary.remove(\"Disorder_Subclass\")\n",
        "nonbinary"
      ]
    },
    {
      "cell_type": "code",
      "execution_count": 35,
      "id": "807d3099-de34-438f-aedd-a6d7f9d3387c",
      "metadata": {
        "id": "807d3099-de34-438f-aedd-a6d7f9d3387c",
        "colab": {
          "base_uri": "https://localhost:8080/"
        },
        "collapsed": true,
        "outputId": "df57e3fa-684b-49f9-a81f-8143ae5d6557"
      },
      "outputs": [
        {
          "output_type": "stream",
          "name": "stderr",
          "text": [
            "<ipython-input-35-6c873b24b99e>:3: FutureWarning: A value is trying to be set on a copy of a DataFrame or Series through chained assignment using an inplace method.\n",
            "The behavior will change in pandas 3.0. This inplace method will never work because the intermediate object on which we are setting values always behaves as a copy.\n",
            "\n",
            "For example, when doing 'df[col].method(value, inplace=True)', try using 'df.method({col: value}, inplace=True)' or df[col] = df[col].method(value) instead, to perform the operation inplace on the original object.\n",
            "\n",
            "\n",
            "  data[c].replace(n[0], 0, inplace=True)\n",
            "<ipython-input-35-6c873b24b99e>:4: FutureWarning: A value is trying to be set on a copy of a DataFrame or Series through chained assignment using an inplace method.\n",
            "The behavior will change in pandas 3.0. This inplace method will never work because the intermediate object on which we are setting values always behaves as a copy.\n",
            "\n",
            "For example, when doing 'df[col].method(value, inplace=True)', try using 'df.method({col: value}, inplace=True)' or df[col] = df[col].method(value) instead, to perform the operation inplace on the original object.\n",
            "\n",
            "\n",
            "  data[c].replace(n[1], 1, inplace=True)\n",
            "<ipython-input-35-6c873b24b99e>:4: FutureWarning: Downcasting behavior in `replace` is deprecated and will be removed in a future version. To retain the old behavior, explicitly call `result.infer_objects(copy=False)`. To opt-in to the future behavior, set `pd.set_option('future.no_silent_downcasting', True)`\n",
            "  data[c].replace(n[1], 1, inplace=True)\n"
          ]
        }
      ],
      "source": [
        "for c in binary:\n",
        "    n = data[c].unique()\n",
        "    data[c].replace(n[0], 0, inplace=True)\n",
        "    data[c].replace(n[1], 1, inplace=True)"
      ]
    },
    {
      "cell_type": "code",
      "execution_count": 36,
      "id": "bae262fa-e9ba-499a-b1a5-d01f184bbc1f",
      "metadata": {
        "id": "bae262fa-e9ba-499a-b1a5-d01f184bbc1f",
        "outputId": "b1edf5cf-350e-413d-e2c1-1de03889911a",
        "colab": {
          "base_uri": "https://localhost:8080/"
        }
      },
      "outputs": [
        {
          "output_type": "stream",
          "name": "stdout",
          "text": [
            "Index(['Gender_Ambiguous', 'Gender_Female', 'Gender_Male',\n",
            "       'Autopsy_Birth_Defect_No', 'Autopsy_Birth_Defect_Not applicable',\n",
            "       'Autopsy_Birth_Defect_Yes', 'Blood_Test_Result_abnormal',\n",
            "       'Blood_Test_Result_inconclusive', 'Blood_Test_Result_normal',\n",
            "       'Blood_Test_Result_slightly abnormal'],\n",
            "      dtype='object')\n"
          ]
        }
      ],
      "source": [
        "data_nonbinary = pd.get_dummies(data[nonbinary])\n",
        "print(data_nonbinary.columns)"
      ]
    },
    {
      "cell_type": "code",
      "execution_count": 37,
      "id": "5c2c83d4-9a81-4125-8a3f-529f43c2aa56",
      "metadata": {
        "id": "5c2c83d4-9a81-4125-8a3f-529f43c2aa56",
        "outputId": "d271160e-a4dd-45e0-b94d-f56a1d832681",
        "colab": {
          "base_uri": "https://localhost:8080/",
          "height": 243
        }
      },
      "outputs": [
        {
          "output_type": "execute_result",
          "data": {
            "text/plain": [
              "   Gender_Ambiguous  Gender_Female  Gender_Male  Autopsy_Birth_Defect_No  \\\n",
              "0              True          False        False                    False   \n",
              "1              True          False        False                    False   \n",
              "2              True          False        False                    False   \n",
              "3             False          False         True                     True   \n",
              "4             False          False         True                    False   \n",
              "\n",
              "   Autopsy_Birth_Defect_Not applicable  Autopsy_Birth_Defect_Yes  \\\n",
              "0                                 True                     False   \n",
              "1                                 True                     False   \n",
              "2                                 True                     False   \n",
              "3                                False                     False   \n",
              "4                                 True                     False   \n",
              "\n",
              "   Blood_Test_Result_abnormal  Blood_Test_Result_inconclusive  \\\n",
              "0                       False                           False   \n",
              "1                       False                           False   \n",
              "2                       False                           False   \n",
              "3                       False                            True   \n",
              "4                       False                           False   \n",
              "\n",
              "   Blood_Test_Result_normal  Blood_Test_Result_slightly abnormal  \n",
              "0                     False                                 True  \n",
              "1                      True                                False  \n",
              "2                      True                                False  \n",
              "3                     False                                False  \n",
              "4                     False                                 True  "
            ],
            "text/html": [
              "\n",
              "  <div id=\"df-30a82908-80ee-46a1-a549-c608d1082e68\" class=\"colab-df-container\">\n",
              "    <div>\n",
              "<style scoped>\n",
              "    .dataframe tbody tr th:only-of-type {\n",
              "        vertical-align: middle;\n",
              "    }\n",
              "\n",
              "    .dataframe tbody tr th {\n",
              "        vertical-align: top;\n",
              "    }\n",
              "\n",
              "    .dataframe thead th {\n",
              "        text-align: right;\n",
              "    }\n",
              "</style>\n",
              "<table border=\"1\" class=\"dataframe\">\n",
              "  <thead>\n",
              "    <tr style=\"text-align: right;\">\n",
              "      <th></th>\n",
              "      <th>Gender_Ambiguous</th>\n",
              "      <th>Gender_Female</th>\n",
              "      <th>Gender_Male</th>\n",
              "      <th>Autopsy_Birth_Defect_No</th>\n",
              "      <th>Autopsy_Birth_Defect_Not applicable</th>\n",
              "      <th>Autopsy_Birth_Defect_Yes</th>\n",
              "      <th>Blood_Test_Result_abnormal</th>\n",
              "      <th>Blood_Test_Result_inconclusive</th>\n",
              "      <th>Blood_Test_Result_normal</th>\n",
              "      <th>Blood_Test_Result_slightly abnormal</th>\n",
              "    </tr>\n",
              "  </thead>\n",
              "  <tbody>\n",
              "    <tr>\n",
              "      <th>0</th>\n",
              "      <td>True</td>\n",
              "      <td>False</td>\n",
              "      <td>False</td>\n",
              "      <td>False</td>\n",
              "      <td>True</td>\n",
              "      <td>False</td>\n",
              "      <td>False</td>\n",
              "      <td>False</td>\n",
              "      <td>False</td>\n",
              "      <td>True</td>\n",
              "    </tr>\n",
              "    <tr>\n",
              "      <th>1</th>\n",
              "      <td>True</td>\n",
              "      <td>False</td>\n",
              "      <td>False</td>\n",
              "      <td>False</td>\n",
              "      <td>True</td>\n",
              "      <td>False</td>\n",
              "      <td>False</td>\n",
              "      <td>False</td>\n",
              "      <td>True</td>\n",
              "      <td>False</td>\n",
              "    </tr>\n",
              "    <tr>\n",
              "      <th>2</th>\n",
              "      <td>True</td>\n",
              "      <td>False</td>\n",
              "      <td>False</td>\n",
              "      <td>False</td>\n",
              "      <td>True</td>\n",
              "      <td>False</td>\n",
              "      <td>False</td>\n",
              "      <td>False</td>\n",
              "      <td>True</td>\n",
              "      <td>False</td>\n",
              "    </tr>\n",
              "    <tr>\n",
              "      <th>3</th>\n",
              "      <td>False</td>\n",
              "      <td>False</td>\n",
              "      <td>True</td>\n",
              "      <td>True</td>\n",
              "      <td>False</td>\n",
              "      <td>False</td>\n",
              "      <td>False</td>\n",
              "      <td>True</td>\n",
              "      <td>False</td>\n",
              "      <td>False</td>\n",
              "    </tr>\n",
              "    <tr>\n",
              "      <th>4</th>\n",
              "      <td>False</td>\n",
              "      <td>False</td>\n",
              "      <td>True</td>\n",
              "      <td>False</td>\n",
              "      <td>True</td>\n",
              "      <td>False</td>\n",
              "      <td>False</td>\n",
              "      <td>False</td>\n",
              "      <td>False</td>\n",
              "      <td>True</td>\n",
              "    </tr>\n",
              "  </tbody>\n",
              "</table>\n",
              "</div>\n",
              "    <div class=\"colab-df-buttons\">\n",
              "\n",
              "  <div class=\"colab-df-container\">\n",
              "    <button class=\"colab-df-convert\" onclick=\"convertToInteractive('df-30a82908-80ee-46a1-a549-c608d1082e68')\"\n",
              "            title=\"Convert this dataframe to an interactive table.\"\n",
              "            style=\"display:none;\">\n",
              "\n",
              "  <svg xmlns=\"http://www.w3.org/2000/svg\" height=\"24px\" viewBox=\"0 -960 960 960\">\n",
              "    <path d=\"M120-120v-720h720v720H120Zm60-500h600v-160H180v160Zm220 220h160v-160H400v160Zm0 220h160v-160H400v160ZM180-400h160v-160H180v160Zm440 0h160v-160H620v160ZM180-180h160v-160H180v160Zm440 0h160v-160H620v160Z\"/>\n",
              "  </svg>\n",
              "    </button>\n",
              "\n",
              "  <style>\n",
              "    .colab-df-container {\n",
              "      display:flex;\n",
              "      gap: 12px;\n",
              "    }\n",
              "\n",
              "    .colab-df-convert {\n",
              "      background-color: #E8F0FE;\n",
              "      border: none;\n",
              "      border-radius: 50%;\n",
              "      cursor: pointer;\n",
              "      display: none;\n",
              "      fill: #1967D2;\n",
              "      height: 32px;\n",
              "      padding: 0 0 0 0;\n",
              "      width: 32px;\n",
              "    }\n",
              "\n",
              "    .colab-df-convert:hover {\n",
              "      background-color: #E2EBFA;\n",
              "      box-shadow: 0px 1px 2px rgba(60, 64, 67, 0.3), 0px 1px 3px 1px rgba(60, 64, 67, 0.15);\n",
              "      fill: #174EA6;\n",
              "    }\n",
              "\n",
              "    .colab-df-buttons div {\n",
              "      margin-bottom: 4px;\n",
              "    }\n",
              "\n",
              "    [theme=dark] .colab-df-convert {\n",
              "      background-color: #3B4455;\n",
              "      fill: #D2E3FC;\n",
              "    }\n",
              "\n",
              "    [theme=dark] .colab-df-convert:hover {\n",
              "      background-color: #434B5C;\n",
              "      box-shadow: 0px 1px 3px 1px rgba(0, 0, 0, 0.15);\n",
              "      filter: drop-shadow(0px 1px 2px rgba(0, 0, 0, 0.3));\n",
              "      fill: #FFFFFF;\n",
              "    }\n",
              "  </style>\n",
              "\n",
              "    <script>\n",
              "      const buttonEl =\n",
              "        document.querySelector('#df-30a82908-80ee-46a1-a549-c608d1082e68 button.colab-df-convert');\n",
              "      buttonEl.style.display =\n",
              "        google.colab.kernel.accessAllowed ? 'block' : 'none';\n",
              "\n",
              "      async function convertToInteractive(key) {\n",
              "        const element = document.querySelector('#df-30a82908-80ee-46a1-a549-c608d1082e68');\n",
              "        const dataTable =\n",
              "          await google.colab.kernel.invokeFunction('convertToInteractive',\n",
              "                                                    [key], {});\n",
              "        if (!dataTable) return;\n",
              "\n",
              "        const docLinkHtml = 'Like what you see? Visit the ' +\n",
              "          '<a target=\"_blank\" href=https://colab.research.google.com/notebooks/data_table.ipynb>data table notebook</a>'\n",
              "          + ' to learn more about interactive tables.';\n",
              "        element.innerHTML = '';\n",
              "        dataTable['output_type'] = 'display_data';\n",
              "        await google.colab.output.renderOutput(dataTable, element);\n",
              "        const docLink = document.createElement('div');\n",
              "        docLink.innerHTML = docLinkHtml;\n",
              "        element.appendChild(docLink);\n",
              "      }\n",
              "    </script>\n",
              "  </div>\n",
              "\n",
              "\n",
              "<div id=\"df-bf5abe11-3f62-4fb7-b12e-93fa3594e62d\">\n",
              "  <button class=\"colab-df-quickchart\" onclick=\"quickchart('df-bf5abe11-3f62-4fb7-b12e-93fa3594e62d')\"\n",
              "            title=\"Suggest charts\"\n",
              "            style=\"display:none;\">\n",
              "\n",
              "<svg xmlns=\"http://www.w3.org/2000/svg\" height=\"24px\"viewBox=\"0 0 24 24\"\n",
              "     width=\"24px\">\n",
              "    <g>\n",
              "        <path d=\"M19 3H5c-1.1 0-2 .9-2 2v14c0 1.1.9 2 2 2h14c1.1 0 2-.9 2-2V5c0-1.1-.9-2-2-2zM9 17H7v-7h2v7zm4 0h-2V7h2v10zm4 0h-2v-4h2v4z\"/>\n",
              "    </g>\n",
              "</svg>\n",
              "  </button>\n",
              "\n",
              "<style>\n",
              "  .colab-df-quickchart {\n",
              "      --bg-color: #E8F0FE;\n",
              "      --fill-color: #1967D2;\n",
              "      --hover-bg-color: #E2EBFA;\n",
              "      --hover-fill-color: #174EA6;\n",
              "      --disabled-fill-color: #AAA;\n",
              "      --disabled-bg-color: #DDD;\n",
              "  }\n",
              "\n",
              "  [theme=dark] .colab-df-quickchart {\n",
              "      --bg-color: #3B4455;\n",
              "      --fill-color: #D2E3FC;\n",
              "      --hover-bg-color: #434B5C;\n",
              "      --hover-fill-color: #FFFFFF;\n",
              "      --disabled-bg-color: #3B4455;\n",
              "      --disabled-fill-color: #666;\n",
              "  }\n",
              "\n",
              "  .colab-df-quickchart {\n",
              "    background-color: var(--bg-color);\n",
              "    border: none;\n",
              "    border-radius: 50%;\n",
              "    cursor: pointer;\n",
              "    display: none;\n",
              "    fill: var(--fill-color);\n",
              "    height: 32px;\n",
              "    padding: 0;\n",
              "    width: 32px;\n",
              "  }\n",
              "\n",
              "  .colab-df-quickchart:hover {\n",
              "    background-color: var(--hover-bg-color);\n",
              "    box-shadow: 0 1px 2px rgba(60, 64, 67, 0.3), 0 1px 3px 1px rgba(60, 64, 67, 0.15);\n",
              "    fill: var(--button-hover-fill-color);\n",
              "  }\n",
              "\n",
              "  .colab-df-quickchart-complete:disabled,\n",
              "  .colab-df-quickchart-complete:disabled:hover {\n",
              "    background-color: var(--disabled-bg-color);\n",
              "    fill: var(--disabled-fill-color);\n",
              "    box-shadow: none;\n",
              "  }\n",
              "\n",
              "  .colab-df-spinner {\n",
              "    border: 2px solid var(--fill-color);\n",
              "    border-color: transparent;\n",
              "    border-bottom-color: var(--fill-color);\n",
              "    animation:\n",
              "      spin 1s steps(1) infinite;\n",
              "  }\n",
              "\n",
              "  @keyframes spin {\n",
              "    0% {\n",
              "      border-color: transparent;\n",
              "      border-bottom-color: var(--fill-color);\n",
              "      border-left-color: var(--fill-color);\n",
              "    }\n",
              "    20% {\n",
              "      border-color: transparent;\n",
              "      border-left-color: var(--fill-color);\n",
              "      border-top-color: var(--fill-color);\n",
              "    }\n",
              "    30% {\n",
              "      border-color: transparent;\n",
              "      border-left-color: var(--fill-color);\n",
              "      border-top-color: var(--fill-color);\n",
              "      border-right-color: var(--fill-color);\n",
              "    }\n",
              "    40% {\n",
              "      border-color: transparent;\n",
              "      border-right-color: var(--fill-color);\n",
              "      border-top-color: var(--fill-color);\n",
              "    }\n",
              "    60% {\n",
              "      border-color: transparent;\n",
              "      border-right-color: var(--fill-color);\n",
              "    }\n",
              "    80% {\n",
              "      border-color: transparent;\n",
              "      border-right-color: var(--fill-color);\n",
              "      border-bottom-color: var(--fill-color);\n",
              "    }\n",
              "    90% {\n",
              "      border-color: transparent;\n",
              "      border-bottom-color: var(--fill-color);\n",
              "    }\n",
              "  }\n",
              "</style>\n",
              "\n",
              "  <script>\n",
              "    async function quickchart(key) {\n",
              "      const quickchartButtonEl =\n",
              "        document.querySelector('#' + key + ' button');\n",
              "      quickchartButtonEl.disabled = true;  // To prevent multiple clicks.\n",
              "      quickchartButtonEl.classList.add('colab-df-spinner');\n",
              "      try {\n",
              "        const charts = await google.colab.kernel.invokeFunction(\n",
              "            'suggestCharts', [key], {});\n",
              "      } catch (error) {\n",
              "        console.error('Error during call to suggestCharts:', error);\n",
              "      }\n",
              "      quickchartButtonEl.classList.remove('colab-df-spinner');\n",
              "      quickchartButtonEl.classList.add('colab-df-quickchart-complete');\n",
              "    }\n",
              "    (() => {\n",
              "      let quickchartButtonEl =\n",
              "        document.querySelector('#df-bf5abe11-3f62-4fb7-b12e-93fa3594e62d button');\n",
              "      quickchartButtonEl.style.display =\n",
              "        google.colab.kernel.accessAllowed ? 'block' : 'none';\n",
              "    })();\n",
              "  </script>\n",
              "</div>\n",
              "    </div>\n",
              "  </div>\n"
            ],
            "application/vnd.google.colaboratory.intrinsic+json": {
              "type": "dataframe",
              "variable_name": "data_nonbinary",
              "summary": "{\n  \"name\": \"data_nonbinary\",\n  \"rows\": 19784,\n  \"fields\": [\n    {\n      \"column\": \"Gender_Ambiguous\",\n      \"properties\": {\n        \"dtype\": \"boolean\",\n        \"num_unique_values\": 2,\n        \"samples\": [\n          false,\n          true\n        ],\n        \"semantic_type\": \"\",\n        \"description\": \"\"\n      }\n    },\n    {\n      \"column\": \"Gender_Female\",\n      \"properties\": {\n        \"dtype\": \"boolean\",\n        \"num_unique_values\": 2,\n        \"samples\": [\n          true,\n          false\n        ],\n        \"semantic_type\": \"\",\n        \"description\": \"\"\n      }\n    },\n    {\n      \"column\": \"Gender_Male\",\n      \"properties\": {\n        \"dtype\": \"boolean\",\n        \"num_unique_values\": 2,\n        \"samples\": [\n          true,\n          false\n        ],\n        \"semantic_type\": \"\",\n        \"description\": \"\"\n      }\n    },\n    {\n      \"column\": \"Autopsy_Birth_Defect_No\",\n      \"properties\": {\n        \"dtype\": \"boolean\",\n        \"num_unique_values\": 2,\n        \"samples\": [\n          true,\n          false\n        ],\n        \"semantic_type\": \"\",\n        \"description\": \"\"\n      }\n    },\n    {\n      \"column\": \"Autopsy_Birth_Defect_Not applicable\",\n      \"properties\": {\n        \"dtype\": \"boolean\",\n        \"num_unique_values\": 2,\n        \"samples\": [\n          false,\n          true\n        ],\n        \"semantic_type\": \"\",\n        \"description\": \"\"\n      }\n    },\n    {\n      \"column\": \"Autopsy_Birth_Defect_Yes\",\n      \"properties\": {\n        \"dtype\": \"boolean\",\n        \"num_unique_values\": 2,\n        \"samples\": [\n          true,\n          false\n        ],\n        \"semantic_type\": \"\",\n        \"description\": \"\"\n      }\n    },\n    {\n      \"column\": \"Blood_Test_Result_abnormal\",\n      \"properties\": {\n        \"dtype\": \"boolean\",\n        \"num_unique_values\": 2,\n        \"samples\": [\n          true,\n          false\n        ],\n        \"semantic_type\": \"\",\n        \"description\": \"\"\n      }\n    },\n    {\n      \"column\": \"Blood_Test_Result_inconclusive\",\n      \"properties\": {\n        \"dtype\": \"boolean\",\n        \"num_unique_values\": 2,\n        \"samples\": [\n          true,\n          false\n        ],\n        \"semantic_type\": \"\",\n        \"description\": \"\"\n      }\n    },\n    {\n      \"column\": \"Blood_Test_Result_normal\",\n      \"properties\": {\n        \"dtype\": \"boolean\",\n        \"num_unique_values\": 2,\n        \"samples\": [\n          true,\n          false\n        ],\n        \"semantic_type\": \"\",\n        \"description\": \"\"\n      }\n    },\n    {\n      \"column\": \"Blood_Test_Result_slightly abnormal\",\n      \"properties\": {\n        \"dtype\": \"boolean\",\n        \"num_unique_values\": 2,\n        \"samples\": [\n          false,\n          true\n        ],\n        \"semantic_type\": \"\",\n        \"description\": \"\"\n      }\n    }\n  ]\n}"
            }
          },
          "metadata": {},
          "execution_count": 37
        }
      ],
      "source": [
        "data_nonbinary.head()"
      ]
    },
    {
      "cell_type": "markdown",
      "id": "d36599b0-1b93-42c2-8504-30bda4490446",
      "metadata": {
        "id": "d36599b0-1b93-42c2-8504-30bda4490446"
      },
      "source": [
        "### Normalize quantitative features"
      ]
    },
    {
      "cell_type": "code",
      "execution_count": 38,
      "id": "fb24dd71-9d60-458a-8861-609d80e1c615",
      "metadata": {
        "id": "fb24dd71-9d60-458a-8861-609d80e1c615",
        "outputId": "2be39c1b-efd0-4c71-ba72-5bb7c110c0a2",
        "colab": {
          "base_uri": "https://localhost:8080/",
          "height": 300
        }
      },
      "outputs": [
        {
          "output_type": "execute_result",
          "data": {
            "text/plain": [
              "        Patient_Age  Blood_Cell_mcL    Mother_Age    Father_Age  \\\n",
              "count  19784.000000    19784.000000  19784.000000  19784.000000   \n",
              "mean       6.946371        4.898718     34.543872     41.964605   \n",
              "std        4.178293        0.194455      8.460585     11.262538   \n",
              "min        0.000000        4.357634     18.000000     20.000000   \n",
              "25%        3.000000        4.764380     29.000000     34.000000   \n",
              "50%        7.000000        4.899377     34.476078     42.000000   \n",
              "75%       10.000000        5.032267     40.000000     50.000000   \n",
              "max       14.000000        5.439651     51.000000     64.000000   \n",
              "\n",
              "       Previous_Abortion  White_Blood_Cell  \n",
              "count       19784.000000      19784.000000  \n",
              "mean            2.002872          7.479927  \n",
              "std             1.343448          2.526946  \n",
              "min             0.000000          3.000000  \n",
              "25%             1.000000          5.640401  \n",
              "50%             2.000000          7.487254  \n",
              "75%             3.000000          9.283591  \n",
              "max             4.000000         12.000000  "
            ],
            "text/html": [
              "\n",
              "  <div id=\"df-6886b97e-dd7b-451b-9f4d-2263731bc8c2\" class=\"colab-df-container\">\n",
              "    <div>\n",
              "<style scoped>\n",
              "    .dataframe tbody tr th:only-of-type {\n",
              "        vertical-align: middle;\n",
              "    }\n",
              "\n",
              "    .dataframe tbody tr th {\n",
              "        vertical-align: top;\n",
              "    }\n",
              "\n",
              "    .dataframe thead th {\n",
              "        text-align: right;\n",
              "    }\n",
              "</style>\n",
              "<table border=\"1\" class=\"dataframe\">\n",
              "  <thead>\n",
              "    <tr style=\"text-align: right;\">\n",
              "      <th></th>\n",
              "      <th>Patient_Age</th>\n",
              "      <th>Blood_Cell_mcL</th>\n",
              "      <th>Mother_Age</th>\n",
              "      <th>Father_Age</th>\n",
              "      <th>Previous_Abortion</th>\n",
              "      <th>White_Blood_Cell</th>\n",
              "    </tr>\n",
              "  </thead>\n",
              "  <tbody>\n",
              "    <tr>\n",
              "      <th>count</th>\n",
              "      <td>19784.000000</td>\n",
              "      <td>19784.000000</td>\n",
              "      <td>19784.000000</td>\n",
              "      <td>19784.000000</td>\n",
              "      <td>19784.000000</td>\n",
              "      <td>19784.000000</td>\n",
              "    </tr>\n",
              "    <tr>\n",
              "      <th>mean</th>\n",
              "      <td>6.946371</td>\n",
              "      <td>4.898718</td>\n",
              "      <td>34.543872</td>\n",
              "      <td>41.964605</td>\n",
              "      <td>2.002872</td>\n",
              "      <td>7.479927</td>\n",
              "    </tr>\n",
              "    <tr>\n",
              "      <th>std</th>\n",
              "      <td>4.178293</td>\n",
              "      <td>0.194455</td>\n",
              "      <td>8.460585</td>\n",
              "      <td>11.262538</td>\n",
              "      <td>1.343448</td>\n",
              "      <td>2.526946</td>\n",
              "    </tr>\n",
              "    <tr>\n",
              "      <th>min</th>\n",
              "      <td>0.000000</td>\n",
              "      <td>4.357634</td>\n",
              "      <td>18.000000</td>\n",
              "      <td>20.000000</td>\n",
              "      <td>0.000000</td>\n",
              "      <td>3.000000</td>\n",
              "    </tr>\n",
              "    <tr>\n",
              "      <th>25%</th>\n",
              "      <td>3.000000</td>\n",
              "      <td>4.764380</td>\n",
              "      <td>29.000000</td>\n",
              "      <td>34.000000</td>\n",
              "      <td>1.000000</td>\n",
              "      <td>5.640401</td>\n",
              "    </tr>\n",
              "    <tr>\n",
              "      <th>50%</th>\n",
              "      <td>7.000000</td>\n",
              "      <td>4.899377</td>\n",
              "      <td>34.476078</td>\n",
              "      <td>42.000000</td>\n",
              "      <td>2.000000</td>\n",
              "      <td>7.487254</td>\n",
              "    </tr>\n",
              "    <tr>\n",
              "      <th>75%</th>\n",
              "      <td>10.000000</td>\n",
              "      <td>5.032267</td>\n",
              "      <td>40.000000</td>\n",
              "      <td>50.000000</td>\n",
              "      <td>3.000000</td>\n",
              "      <td>9.283591</td>\n",
              "    </tr>\n",
              "    <tr>\n",
              "      <th>max</th>\n",
              "      <td>14.000000</td>\n",
              "      <td>5.439651</td>\n",
              "      <td>51.000000</td>\n",
              "      <td>64.000000</td>\n",
              "      <td>4.000000</td>\n",
              "      <td>12.000000</td>\n",
              "    </tr>\n",
              "  </tbody>\n",
              "</table>\n",
              "</div>\n",
              "    <div class=\"colab-df-buttons\">\n",
              "\n",
              "  <div class=\"colab-df-container\">\n",
              "    <button class=\"colab-df-convert\" onclick=\"convertToInteractive('df-6886b97e-dd7b-451b-9f4d-2263731bc8c2')\"\n",
              "            title=\"Convert this dataframe to an interactive table.\"\n",
              "            style=\"display:none;\">\n",
              "\n",
              "  <svg xmlns=\"http://www.w3.org/2000/svg\" height=\"24px\" viewBox=\"0 -960 960 960\">\n",
              "    <path d=\"M120-120v-720h720v720H120Zm60-500h600v-160H180v160Zm220 220h160v-160H400v160Zm0 220h160v-160H400v160ZM180-400h160v-160H180v160Zm440 0h160v-160H620v160ZM180-180h160v-160H180v160Zm440 0h160v-160H620v160Z\"/>\n",
              "  </svg>\n",
              "    </button>\n",
              "\n",
              "  <style>\n",
              "    .colab-df-container {\n",
              "      display:flex;\n",
              "      gap: 12px;\n",
              "    }\n",
              "\n",
              "    .colab-df-convert {\n",
              "      background-color: #E8F0FE;\n",
              "      border: none;\n",
              "      border-radius: 50%;\n",
              "      cursor: pointer;\n",
              "      display: none;\n",
              "      fill: #1967D2;\n",
              "      height: 32px;\n",
              "      padding: 0 0 0 0;\n",
              "      width: 32px;\n",
              "    }\n",
              "\n",
              "    .colab-df-convert:hover {\n",
              "      background-color: #E2EBFA;\n",
              "      box-shadow: 0px 1px 2px rgba(60, 64, 67, 0.3), 0px 1px 3px 1px rgba(60, 64, 67, 0.15);\n",
              "      fill: #174EA6;\n",
              "    }\n",
              "\n",
              "    .colab-df-buttons div {\n",
              "      margin-bottom: 4px;\n",
              "    }\n",
              "\n",
              "    [theme=dark] .colab-df-convert {\n",
              "      background-color: #3B4455;\n",
              "      fill: #D2E3FC;\n",
              "    }\n",
              "\n",
              "    [theme=dark] .colab-df-convert:hover {\n",
              "      background-color: #434B5C;\n",
              "      box-shadow: 0px 1px 3px 1px rgba(0, 0, 0, 0.15);\n",
              "      filter: drop-shadow(0px 1px 2px rgba(0, 0, 0, 0.3));\n",
              "      fill: #FFFFFF;\n",
              "    }\n",
              "  </style>\n",
              "\n",
              "    <script>\n",
              "      const buttonEl =\n",
              "        document.querySelector('#df-6886b97e-dd7b-451b-9f4d-2263731bc8c2 button.colab-df-convert');\n",
              "      buttonEl.style.display =\n",
              "        google.colab.kernel.accessAllowed ? 'block' : 'none';\n",
              "\n",
              "      async function convertToInteractive(key) {\n",
              "        const element = document.querySelector('#df-6886b97e-dd7b-451b-9f4d-2263731bc8c2');\n",
              "        const dataTable =\n",
              "          await google.colab.kernel.invokeFunction('convertToInteractive',\n",
              "                                                    [key], {});\n",
              "        if (!dataTable) return;\n",
              "\n",
              "        const docLinkHtml = 'Like what you see? Visit the ' +\n",
              "          '<a target=\"_blank\" href=https://colab.research.google.com/notebooks/data_table.ipynb>data table notebook</a>'\n",
              "          + ' to learn more about interactive tables.';\n",
              "        element.innerHTML = '';\n",
              "        dataTable['output_type'] = 'display_data';\n",
              "        await google.colab.output.renderOutput(dataTable, element);\n",
              "        const docLink = document.createElement('div');\n",
              "        docLink.innerHTML = docLinkHtml;\n",
              "        element.appendChild(docLink);\n",
              "      }\n",
              "    </script>\n",
              "  </div>\n",
              "\n",
              "\n",
              "<div id=\"df-19f20d49-5e12-4a2f-acdc-2f54cc1a7c66\">\n",
              "  <button class=\"colab-df-quickchart\" onclick=\"quickchart('df-19f20d49-5e12-4a2f-acdc-2f54cc1a7c66')\"\n",
              "            title=\"Suggest charts\"\n",
              "            style=\"display:none;\">\n",
              "\n",
              "<svg xmlns=\"http://www.w3.org/2000/svg\" height=\"24px\"viewBox=\"0 0 24 24\"\n",
              "     width=\"24px\">\n",
              "    <g>\n",
              "        <path d=\"M19 3H5c-1.1 0-2 .9-2 2v14c0 1.1.9 2 2 2h14c1.1 0 2-.9 2-2V5c0-1.1-.9-2-2-2zM9 17H7v-7h2v7zm4 0h-2V7h2v10zm4 0h-2v-4h2v4z\"/>\n",
              "    </g>\n",
              "</svg>\n",
              "  </button>\n",
              "\n",
              "<style>\n",
              "  .colab-df-quickchart {\n",
              "      --bg-color: #E8F0FE;\n",
              "      --fill-color: #1967D2;\n",
              "      --hover-bg-color: #E2EBFA;\n",
              "      --hover-fill-color: #174EA6;\n",
              "      --disabled-fill-color: #AAA;\n",
              "      --disabled-bg-color: #DDD;\n",
              "  }\n",
              "\n",
              "  [theme=dark] .colab-df-quickchart {\n",
              "      --bg-color: #3B4455;\n",
              "      --fill-color: #D2E3FC;\n",
              "      --hover-bg-color: #434B5C;\n",
              "      --hover-fill-color: #FFFFFF;\n",
              "      --disabled-bg-color: #3B4455;\n",
              "      --disabled-fill-color: #666;\n",
              "  }\n",
              "\n",
              "  .colab-df-quickchart {\n",
              "    background-color: var(--bg-color);\n",
              "    border: none;\n",
              "    border-radius: 50%;\n",
              "    cursor: pointer;\n",
              "    display: none;\n",
              "    fill: var(--fill-color);\n",
              "    height: 32px;\n",
              "    padding: 0;\n",
              "    width: 32px;\n",
              "  }\n",
              "\n",
              "  .colab-df-quickchart:hover {\n",
              "    background-color: var(--hover-bg-color);\n",
              "    box-shadow: 0 1px 2px rgba(60, 64, 67, 0.3), 0 1px 3px 1px rgba(60, 64, 67, 0.15);\n",
              "    fill: var(--button-hover-fill-color);\n",
              "  }\n",
              "\n",
              "  .colab-df-quickchart-complete:disabled,\n",
              "  .colab-df-quickchart-complete:disabled:hover {\n",
              "    background-color: var(--disabled-bg-color);\n",
              "    fill: var(--disabled-fill-color);\n",
              "    box-shadow: none;\n",
              "  }\n",
              "\n",
              "  .colab-df-spinner {\n",
              "    border: 2px solid var(--fill-color);\n",
              "    border-color: transparent;\n",
              "    border-bottom-color: var(--fill-color);\n",
              "    animation:\n",
              "      spin 1s steps(1) infinite;\n",
              "  }\n",
              "\n",
              "  @keyframes spin {\n",
              "    0% {\n",
              "      border-color: transparent;\n",
              "      border-bottom-color: var(--fill-color);\n",
              "      border-left-color: var(--fill-color);\n",
              "    }\n",
              "    20% {\n",
              "      border-color: transparent;\n",
              "      border-left-color: var(--fill-color);\n",
              "      border-top-color: var(--fill-color);\n",
              "    }\n",
              "    30% {\n",
              "      border-color: transparent;\n",
              "      border-left-color: var(--fill-color);\n",
              "      border-top-color: var(--fill-color);\n",
              "      border-right-color: var(--fill-color);\n",
              "    }\n",
              "    40% {\n",
              "      border-color: transparent;\n",
              "      border-right-color: var(--fill-color);\n",
              "      border-top-color: var(--fill-color);\n",
              "    }\n",
              "    60% {\n",
              "      border-color: transparent;\n",
              "      border-right-color: var(--fill-color);\n",
              "    }\n",
              "    80% {\n",
              "      border-color: transparent;\n",
              "      border-right-color: var(--fill-color);\n",
              "      border-bottom-color: var(--fill-color);\n",
              "    }\n",
              "    90% {\n",
              "      border-color: transparent;\n",
              "      border-bottom-color: var(--fill-color);\n",
              "    }\n",
              "  }\n",
              "</style>\n",
              "\n",
              "  <script>\n",
              "    async function quickchart(key) {\n",
              "      const quickchartButtonEl =\n",
              "        document.querySelector('#' + key + ' button');\n",
              "      quickchartButtonEl.disabled = true;  // To prevent multiple clicks.\n",
              "      quickchartButtonEl.classList.add('colab-df-spinner');\n",
              "      try {\n",
              "        const charts = await google.colab.kernel.invokeFunction(\n",
              "            'suggestCharts', [key], {});\n",
              "      } catch (error) {\n",
              "        console.error('Error during call to suggestCharts:', error);\n",
              "      }\n",
              "      quickchartButtonEl.classList.remove('colab-df-spinner');\n",
              "      quickchartButtonEl.classList.add('colab-df-quickchart-complete');\n",
              "    }\n",
              "    (() => {\n",
              "      let quickchartButtonEl =\n",
              "        document.querySelector('#df-19f20d49-5e12-4a2f-acdc-2f54cc1a7c66 button');\n",
              "      quickchartButtonEl.style.display =\n",
              "        google.colab.kernel.accessAllowed ? 'block' : 'none';\n",
              "    })();\n",
              "  </script>\n",
              "</div>\n",
              "    </div>\n",
              "  </div>\n"
            ],
            "application/vnd.google.colaboratory.intrinsic+json": {
              "type": "dataframe",
              "summary": "{\n  \"name\": \"data_num\",\n  \"rows\": 8,\n  \"fields\": [\n    {\n      \"column\": \"Patient_Age\",\n      \"properties\": {\n        \"dtype\": \"number\",\n        \"std\": 6992.422455697833,\n        \"min\": 0.0,\n        \"max\": 19784.0,\n        \"num_unique_values\": 8,\n        \"samples\": [\n          6.9463711383048885,\n          7.0,\n          19784.0\n        ],\n        \"semantic_type\": \"\",\n        \"description\": \"\"\n      }\n    },\n    {\n      \"column\": \"Blood_Cell_mcL\",\n      \"properties\": {\n        \"dtype\": \"number\",\n        \"std\": 6993.206136625776,\n        \"min\": 0.1944552146011263,\n        \"max\": 19784.0,\n        \"num_unique_values\": 8,\n        \"samples\": [\n          4.898717759269499,\n          4.899377422785468,\n          19784.0\n        ],\n        \"semantic_type\": \"\",\n        \"description\": \"\"\n      }\n    },\n    {\n      \"column\": \"Mother_Age\",\n      \"properties\": {\n        \"dtype\": \"number\",\n        \"std\": 6983.829002467397,\n        \"min\": 8.460585441445993,\n        \"max\": 19784.0,\n        \"num_unique_values\": 8,\n        \"samples\": [\n          34.54387224722786,\n          34.476077688299384,\n          19784.0\n        ],\n        \"semantic_type\": \"\",\n        \"description\": \"\"\n      }\n    },\n    {\n      \"column\": \"Father_Age\",\n      \"properties\": {\n        \"dtype\": \"number\",\n        \"std\": 6981.424796871247,\n        \"min\": 11.262537769953175,\n        \"max\": 19784.0,\n        \"num_unique_values\": 8,\n        \"samples\": [\n          41.96460459863428,\n          42.0,\n          19784.0\n        ],\n        \"semantic_type\": \"\",\n        \"description\": \"\"\n      }\n    },\n    {\n      \"column\": \"Previous_Abortion\",\n      \"properties\": {\n        \"dtype\": \"number\",\n        \"std\": 6994.026294475556,\n        \"min\": 0.0,\n        \"max\": 19784.0,\n        \"num_unique_values\": 8,\n        \"samples\": [\n          2.002871530339825,\n          2.0,\n          19784.0\n        ],\n        \"semantic_type\": \"\",\n        \"description\": \"\"\n      }\n    },\n    {\n      \"column\": \"White_Blood_Cell\",\n      \"properties\": {\n        \"dtype\": \"number\",\n        \"std\": 6992.305999330795,\n        \"min\": 2.526946411140798,\n        \"max\": 19784.0,\n        \"num_unique_values\": 8,\n        \"samples\": [\n          7.479926525717062,\n          7.487253898948943,\n          19784.0\n        ],\n        \"semantic_type\": \"\",\n        \"description\": \"\"\n      }\n    }\n  ]\n}"
            }
          },
          "metadata": {},
          "execution_count": 38
        }
      ],
      "source": [
        "data_num = data[numerical]\n",
        "data_num.describe()"
      ]
    },
    {
      "cell_type": "code",
      "execution_count": 39,
      "id": "5655094c-4122-462a-93b9-416c29a14119",
      "metadata": {
        "id": "5655094c-4122-462a-93b9-416c29a14119",
        "outputId": "0e929eab-47d5-4051-e3c8-5fd811debf9d",
        "colab": {
          "base_uri": "https://localhost:8080/",
          "height": 300
        }
      },
      "outputs": [
        {
          "output_type": "execute_result",
          "data": {
            "text/plain": [
              "        Patient_Age  Blood_Cell_mcL    Mother_Age    Father_Age  \\\n",
              "count  1.978400e+04    1.978400e+04  1.978400e+04  1.978400e+04   \n",
              "mean   1.113366e-16   -2.906602e-15  6.644279e-16  5.378274e-17   \n",
              "std    1.000000e+00    1.000000e+00  1.000000e+00  1.000000e+00   \n",
              "min   -1.662490e+00   -2.782562e+00 -1.955405e+00 -1.950236e+00   \n",
              "25%   -9.444937e-01   -6.908437e-01 -6.552587e-01 -7.071767e-01   \n",
              "50%    1.283511e-02    3.392367e-03 -8.012987e-03  3.142755e-03   \n",
              "75%    7.308317e-01    6.867842e-01  6.448877e-01  7.134622e-01   \n",
              "max    1.688160e+00    2.781786e+00  1.945034e+00  1.956521e+00   \n",
              "\n",
              "       Previous_Abortion  White_Blood_Cell  \n",
              "count       1.978400e+04      1.978400e+04  \n",
              "mean       -6.321043e-17      8.655520e-17  \n",
              "std         1.000000e+00      1.000000e+00  \n",
              "min        -1.490844e+00     -1.772862e+00  \n",
              "25%        -7.464908e-01     -7.279638e-01  \n",
              "50%        -2.137433e-03      2.899695e-03  \n",
              "75%         7.422159e-01      7.137723e-01  \n",
              "max         1.486569e+00      1.788749e+00  "
            ],
            "text/html": [
              "\n",
              "  <div id=\"df-ccbf0d73-7f95-4db4-a9ff-f80665e64d95\" class=\"colab-df-container\">\n",
              "    <div>\n",
              "<style scoped>\n",
              "    .dataframe tbody tr th:only-of-type {\n",
              "        vertical-align: middle;\n",
              "    }\n",
              "\n",
              "    .dataframe tbody tr th {\n",
              "        vertical-align: top;\n",
              "    }\n",
              "\n",
              "    .dataframe thead th {\n",
              "        text-align: right;\n",
              "    }\n",
              "</style>\n",
              "<table border=\"1\" class=\"dataframe\">\n",
              "  <thead>\n",
              "    <tr style=\"text-align: right;\">\n",
              "      <th></th>\n",
              "      <th>Patient_Age</th>\n",
              "      <th>Blood_Cell_mcL</th>\n",
              "      <th>Mother_Age</th>\n",
              "      <th>Father_Age</th>\n",
              "      <th>Previous_Abortion</th>\n",
              "      <th>White_Blood_Cell</th>\n",
              "    </tr>\n",
              "  </thead>\n",
              "  <tbody>\n",
              "    <tr>\n",
              "      <th>count</th>\n",
              "      <td>1.978400e+04</td>\n",
              "      <td>1.978400e+04</td>\n",
              "      <td>1.978400e+04</td>\n",
              "      <td>1.978400e+04</td>\n",
              "      <td>1.978400e+04</td>\n",
              "      <td>1.978400e+04</td>\n",
              "    </tr>\n",
              "    <tr>\n",
              "      <th>mean</th>\n",
              "      <td>1.113366e-16</td>\n",
              "      <td>-2.906602e-15</td>\n",
              "      <td>6.644279e-16</td>\n",
              "      <td>5.378274e-17</td>\n",
              "      <td>-6.321043e-17</td>\n",
              "      <td>8.655520e-17</td>\n",
              "    </tr>\n",
              "    <tr>\n",
              "      <th>std</th>\n",
              "      <td>1.000000e+00</td>\n",
              "      <td>1.000000e+00</td>\n",
              "      <td>1.000000e+00</td>\n",
              "      <td>1.000000e+00</td>\n",
              "      <td>1.000000e+00</td>\n",
              "      <td>1.000000e+00</td>\n",
              "    </tr>\n",
              "    <tr>\n",
              "      <th>min</th>\n",
              "      <td>-1.662490e+00</td>\n",
              "      <td>-2.782562e+00</td>\n",
              "      <td>-1.955405e+00</td>\n",
              "      <td>-1.950236e+00</td>\n",
              "      <td>-1.490844e+00</td>\n",
              "      <td>-1.772862e+00</td>\n",
              "    </tr>\n",
              "    <tr>\n",
              "      <th>25%</th>\n",
              "      <td>-9.444937e-01</td>\n",
              "      <td>-6.908437e-01</td>\n",
              "      <td>-6.552587e-01</td>\n",
              "      <td>-7.071767e-01</td>\n",
              "      <td>-7.464908e-01</td>\n",
              "      <td>-7.279638e-01</td>\n",
              "    </tr>\n",
              "    <tr>\n",
              "      <th>50%</th>\n",
              "      <td>1.283511e-02</td>\n",
              "      <td>3.392367e-03</td>\n",
              "      <td>-8.012987e-03</td>\n",
              "      <td>3.142755e-03</td>\n",
              "      <td>-2.137433e-03</td>\n",
              "      <td>2.899695e-03</td>\n",
              "    </tr>\n",
              "    <tr>\n",
              "      <th>75%</th>\n",
              "      <td>7.308317e-01</td>\n",
              "      <td>6.867842e-01</td>\n",
              "      <td>6.448877e-01</td>\n",
              "      <td>7.134622e-01</td>\n",
              "      <td>7.422159e-01</td>\n",
              "      <td>7.137723e-01</td>\n",
              "    </tr>\n",
              "    <tr>\n",
              "      <th>max</th>\n",
              "      <td>1.688160e+00</td>\n",
              "      <td>2.781786e+00</td>\n",
              "      <td>1.945034e+00</td>\n",
              "      <td>1.956521e+00</td>\n",
              "      <td>1.486569e+00</td>\n",
              "      <td>1.788749e+00</td>\n",
              "    </tr>\n",
              "  </tbody>\n",
              "</table>\n",
              "</div>\n",
              "    <div class=\"colab-df-buttons\">\n",
              "\n",
              "  <div class=\"colab-df-container\">\n",
              "    <button class=\"colab-df-convert\" onclick=\"convertToInteractive('df-ccbf0d73-7f95-4db4-a9ff-f80665e64d95')\"\n",
              "            title=\"Convert this dataframe to an interactive table.\"\n",
              "            style=\"display:none;\">\n",
              "\n",
              "  <svg xmlns=\"http://www.w3.org/2000/svg\" height=\"24px\" viewBox=\"0 -960 960 960\">\n",
              "    <path d=\"M120-120v-720h720v720H120Zm60-500h600v-160H180v160Zm220 220h160v-160H400v160Zm0 220h160v-160H400v160ZM180-400h160v-160H180v160Zm440 0h160v-160H620v160ZM180-180h160v-160H180v160Zm440 0h160v-160H620v160Z\"/>\n",
              "  </svg>\n",
              "    </button>\n",
              "\n",
              "  <style>\n",
              "    .colab-df-container {\n",
              "      display:flex;\n",
              "      gap: 12px;\n",
              "    }\n",
              "\n",
              "    .colab-df-convert {\n",
              "      background-color: #E8F0FE;\n",
              "      border: none;\n",
              "      border-radius: 50%;\n",
              "      cursor: pointer;\n",
              "      display: none;\n",
              "      fill: #1967D2;\n",
              "      height: 32px;\n",
              "      padding: 0 0 0 0;\n",
              "      width: 32px;\n",
              "    }\n",
              "\n",
              "    .colab-df-convert:hover {\n",
              "      background-color: #E2EBFA;\n",
              "      box-shadow: 0px 1px 2px rgba(60, 64, 67, 0.3), 0px 1px 3px 1px rgba(60, 64, 67, 0.15);\n",
              "      fill: #174EA6;\n",
              "    }\n",
              "\n",
              "    .colab-df-buttons div {\n",
              "      margin-bottom: 4px;\n",
              "    }\n",
              "\n",
              "    [theme=dark] .colab-df-convert {\n",
              "      background-color: #3B4455;\n",
              "      fill: #D2E3FC;\n",
              "    }\n",
              "\n",
              "    [theme=dark] .colab-df-convert:hover {\n",
              "      background-color: #434B5C;\n",
              "      box-shadow: 0px 1px 3px 1px rgba(0, 0, 0, 0.15);\n",
              "      filter: drop-shadow(0px 1px 2px rgba(0, 0, 0, 0.3));\n",
              "      fill: #FFFFFF;\n",
              "    }\n",
              "  </style>\n",
              "\n",
              "    <script>\n",
              "      const buttonEl =\n",
              "        document.querySelector('#df-ccbf0d73-7f95-4db4-a9ff-f80665e64d95 button.colab-df-convert');\n",
              "      buttonEl.style.display =\n",
              "        google.colab.kernel.accessAllowed ? 'block' : 'none';\n",
              "\n",
              "      async function convertToInteractive(key) {\n",
              "        const element = document.querySelector('#df-ccbf0d73-7f95-4db4-a9ff-f80665e64d95');\n",
              "        const dataTable =\n",
              "          await google.colab.kernel.invokeFunction('convertToInteractive',\n",
              "                                                    [key], {});\n",
              "        if (!dataTable) return;\n",
              "\n",
              "        const docLinkHtml = 'Like what you see? Visit the ' +\n",
              "          '<a target=\"_blank\" href=https://colab.research.google.com/notebooks/data_table.ipynb>data table notebook</a>'\n",
              "          + ' to learn more about interactive tables.';\n",
              "        element.innerHTML = '';\n",
              "        dataTable['output_type'] = 'display_data';\n",
              "        await google.colab.output.renderOutput(dataTable, element);\n",
              "        const docLink = document.createElement('div');\n",
              "        docLink.innerHTML = docLinkHtml;\n",
              "        element.appendChild(docLink);\n",
              "      }\n",
              "    </script>\n",
              "  </div>\n",
              "\n",
              "\n",
              "<div id=\"df-8d2c8e00-f0a7-415d-86f8-5b9cc9a701a5\">\n",
              "  <button class=\"colab-df-quickchart\" onclick=\"quickchart('df-8d2c8e00-f0a7-415d-86f8-5b9cc9a701a5')\"\n",
              "            title=\"Suggest charts\"\n",
              "            style=\"display:none;\">\n",
              "\n",
              "<svg xmlns=\"http://www.w3.org/2000/svg\" height=\"24px\"viewBox=\"0 0 24 24\"\n",
              "     width=\"24px\">\n",
              "    <g>\n",
              "        <path d=\"M19 3H5c-1.1 0-2 .9-2 2v14c0 1.1.9 2 2 2h14c1.1 0 2-.9 2-2V5c0-1.1-.9-2-2-2zM9 17H7v-7h2v7zm4 0h-2V7h2v10zm4 0h-2v-4h2v4z\"/>\n",
              "    </g>\n",
              "</svg>\n",
              "  </button>\n",
              "\n",
              "<style>\n",
              "  .colab-df-quickchart {\n",
              "      --bg-color: #E8F0FE;\n",
              "      --fill-color: #1967D2;\n",
              "      --hover-bg-color: #E2EBFA;\n",
              "      --hover-fill-color: #174EA6;\n",
              "      --disabled-fill-color: #AAA;\n",
              "      --disabled-bg-color: #DDD;\n",
              "  }\n",
              "\n",
              "  [theme=dark] .colab-df-quickchart {\n",
              "      --bg-color: #3B4455;\n",
              "      --fill-color: #D2E3FC;\n",
              "      --hover-bg-color: #434B5C;\n",
              "      --hover-fill-color: #FFFFFF;\n",
              "      --disabled-bg-color: #3B4455;\n",
              "      --disabled-fill-color: #666;\n",
              "  }\n",
              "\n",
              "  .colab-df-quickchart {\n",
              "    background-color: var(--bg-color);\n",
              "    border: none;\n",
              "    border-radius: 50%;\n",
              "    cursor: pointer;\n",
              "    display: none;\n",
              "    fill: var(--fill-color);\n",
              "    height: 32px;\n",
              "    padding: 0;\n",
              "    width: 32px;\n",
              "  }\n",
              "\n",
              "  .colab-df-quickchart:hover {\n",
              "    background-color: var(--hover-bg-color);\n",
              "    box-shadow: 0 1px 2px rgba(60, 64, 67, 0.3), 0 1px 3px 1px rgba(60, 64, 67, 0.15);\n",
              "    fill: var(--button-hover-fill-color);\n",
              "  }\n",
              "\n",
              "  .colab-df-quickchart-complete:disabled,\n",
              "  .colab-df-quickchart-complete:disabled:hover {\n",
              "    background-color: var(--disabled-bg-color);\n",
              "    fill: var(--disabled-fill-color);\n",
              "    box-shadow: none;\n",
              "  }\n",
              "\n",
              "  .colab-df-spinner {\n",
              "    border: 2px solid var(--fill-color);\n",
              "    border-color: transparent;\n",
              "    border-bottom-color: var(--fill-color);\n",
              "    animation:\n",
              "      spin 1s steps(1) infinite;\n",
              "  }\n",
              "\n",
              "  @keyframes spin {\n",
              "    0% {\n",
              "      border-color: transparent;\n",
              "      border-bottom-color: var(--fill-color);\n",
              "      border-left-color: var(--fill-color);\n",
              "    }\n",
              "    20% {\n",
              "      border-color: transparent;\n",
              "      border-left-color: var(--fill-color);\n",
              "      border-top-color: var(--fill-color);\n",
              "    }\n",
              "    30% {\n",
              "      border-color: transparent;\n",
              "      border-left-color: var(--fill-color);\n",
              "      border-top-color: var(--fill-color);\n",
              "      border-right-color: var(--fill-color);\n",
              "    }\n",
              "    40% {\n",
              "      border-color: transparent;\n",
              "      border-right-color: var(--fill-color);\n",
              "      border-top-color: var(--fill-color);\n",
              "    }\n",
              "    60% {\n",
              "      border-color: transparent;\n",
              "      border-right-color: var(--fill-color);\n",
              "    }\n",
              "    80% {\n",
              "      border-color: transparent;\n",
              "      border-right-color: var(--fill-color);\n",
              "      border-bottom-color: var(--fill-color);\n",
              "    }\n",
              "    90% {\n",
              "      border-color: transparent;\n",
              "      border-bottom-color: var(--fill-color);\n",
              "    }\n",
              "  }\n",
              "</style>\n",
              "\n",
              "  <script>\n",
              "    async function quickchart(key) {\n",
              "      const quickchartButtonEl =\n",
              "        document.querySelector('#' + key + ' button');\n",
              "      quickchartButtonEl.disabled = true;  // To prevent multiple clicks.\n",
              "      quickchartButtonEl.classList.add('colab-df-spinner');\n",
              "      try {\n",
              "        const charts = await google.colab.kernel.invokeFunction(\n",
              "            'suggestCharts', [key], {});\n",
              "      } catch (error) {\n",
              "        console.error('Error during call to suggestCharts:', error);\n",
              "      }\n",
              "      quickchartButtonEl.classList.remove('colab-df-spinner');\n",
              "      quickchartButtonEl.classList.add('colab-df-quickchart-complete');\n",
              "    }\n",
              "    (() => {\n",
              "      let quickchartButtonEl =\n",
              "        document.querySelector('#df-8d2c8e00-f0a7-415d-86f8-5b9cc9a701a5 button');\n",
              "      quickchartButtonEl.style.display =\n",
              "        google.colab.kernel.accessAllowed ? 'block' : 'none';\n",
              "    })();\n",
              "  </script>\n",
              "</div>\n",
              "    </div>\n",
              "  </div>\n"
            ],
            "application/vnd.google.colaboratory.intrinsic+json": {
              "type": "dataframe",
              "summary": "{\n  \"name\": \"data_num\",\n  \"rows\": 8,\n  \"fields\": [\n    {\n      \"column\": \"Patient_Age\",\n      \"properties\": {\n        \"dtype\": \"number\",\n        \"std\": 6994.658699727823,\n        \"min\": -1.6624902473508112,\n        \"max\": 19784.0,\n        \"num_unique_values\": 8,\n        \"samples\": [\n          1.1133655887870554e-16,\n          0.012835113150375853,\n          19784.0\n        ],\n        \"semantic_type\": \"\",\n        \"description\": \"\"\n      }\n    },\n    {\n      \"column\": \"Blood_Cell_mcL\",\n      \"properties\": {\n        \"dtype\": \"number\",\n        \"std\": 6994.650021306254,\n        \"min\": -2.782562347586209,\n        \"max\": 19784.0,\n        \"num_unique_values\": 8,\n        \"samples\": [\n          -2.9066024871140773e-15,\n          0.0033923673238701693,\n          19784.0\n        ],\n        \"semantic_type\": \"\",\n        \"description\": \"\"\n      }\n    },\n    {\n      \"column\": \"Mother_Age\",\n      \"properties\": {\n        \"dtype\": \"number\",\n        \"std\": 6994.651319360775,\n        \"min\": -1.9554051385361766,\n        \"max\": 19784.0,\n        \"num_unique_values\": 8,\n        \"samples\": [\n          6.644278513729202e-16,\n          -0.008012986736871647,\n          19784.0\n        ],\n        \"semantic_type\": \"\",\n        \"description\": \"\"\n      }\n    },\n    {\n      \"column\": \"Father_Age\",\n      \"properties\": {\n        \"dtype\": \"number\",\n        \"std\": 6994.649075147499,\n        \"min\": -1.950235821382342,\n        \"max\": 19784.0,\n        \"num_unique_values\": 8,\n        \"samples\": [\n          5.378274094221341e-17,\n          0.003142755397468992,\n          19784.0\n        ],\n        \"semantic_type\": \"\",\n        \"description\": \"\"\n      }\n    },\n    {\n      \"column\": \"Previous_Abortion\",\n      \"properties\": {\n        \"dtype\": \"number\",\n        \"std\": 6994.6503770179825,\n        \"min\": -1.490844169244016,\n        \"max\": 19784.0,\n        \"num_unique_values\": 8,\n        \"samples\": [\n          -6.321043342791024e-17,\n          -0.002137433279711517,\n          19784.0\n        ],\n        \"semantic_type\": \"\",\n        \"description\": \"\"\n      }\n    },\n    {\n      \"column\": \"White_Blood_Cell\",\n      \"properties\": {\n        \"dtype\": \"number\",\n        \"std\": 6994.649623875226,\n        \"min\": -1.7728617061153207,\n        \"max\": 19784.0,\n        \"num_unique_values\": 8,\n        \"samples\": [\n          8.655519577344528e-17,\n          0.002899694746028696,\n          19784.0\n        ],\n        \"semantic_type\": \"\",\n        \"description\": \"\"\n      }\n    }\n  ]\n}"
            }
          },
          "metadata": {},
          "execution_count": 39
        }
      ],
      "source": [
        "data_num = (data_num - data_num.mean(axis = 0))/data_num.std(axis = 0)\n",
        "data_num.describe()"
      ]
    },
    {
      "cell_type": "markdown",
      "id": "c6038480-6124-4a74-97b6-dc43fb5578f5",
      "metadata": {
        "id": "c6038480-6124-4a74-97b6-dc43fb5578f5"
      },
      "source": [
        "### Merge numerical, nonbinary, binary"
      ]
    },
    {
      "cell_type": "code",
      "execution_count": 40,
      "id": "97382368-fc77-4b64-9d3d-483a19d5f1f9",
      "metadata": {
        "id": "97382368-fc77-4b64-9d3d-483a19d5f1f9"
      },
      "outputs": [],
      "source": [
        "data = pd.concat((data_num, data[binary], data_nonbinary, data[\"Disorder_Subclass\"]), axis=1)"
      ]
    },
    {
      "cell_type": "code",
      "execution_count": 41,
      "id": "ae398a8d-69ba-4ff7-8be5-40dfd23d17d2",
      "metadata": {
        "id": "ae398a8d-69ba-4ff7-8be5-40dfd23d17d2",
        "outputId": "02b94617-d4d8-4620-b7b1-3eb0521ab45e",
        "colab": {
          "base_uri": "https://localhost:8080/"
        }
      },
      "outputs": [
        {
          "output_type": "stream",
          "name": "stdout",
          "text": [
            "<class 'pandas.core.frame.DataFrame'>\n",
            "Index: 19784 entries, 0 to 22082\n",
            "Data columns (total 34 columns):\n",
            " #   Column                               Non-Null Count  Dtype  \n",
            "---  ------                               --------------  -----  \n",
            " 0   Patient_Age                          19784 non-null  float64\n",
            " 1   Blood_Cell_mcL                       19784 non-null  float64\n",
            " 2   Mother_Age                           19784 non-null  float64\n",
            " 3   Father_Age                           19784 non-null  float64\n",
            " 4   Previous_Abortion                    19784 non-null  float64\n",
            " 5   White_Blood_Cell                     19784 non-null  float64\n",
            " 6   Genes_Mother_Side                    19784 non-null  int64  \n",
            " 7   Inherited_Father                     19784 non-null  int64  \n",
            " 8   Maternal_Gene                        19784 non-null  int64  \n",
            " 9   Paternal_Gene                        19784 non-null  int64  \n",
            " 10  Status                               19784 non-null  int64  \n",
            " 11  Respiratory_Rate_Breaths_Min         19784 non-null  int64  \n",
            " 12  Heart_Rates_Min                      19784 non-null  int64  \n",
            " 13  Follow_Up                            19784 non-null  int64  \n",
            " 14  Birth_Asphyxia                       19784 non-null  int64  \n",
            " 15  Place_Birth                          19784 non-null  int64  \n",
            " 16  Folic_Acid                           19784 non-null  int64  \n",
            " 17  Maternal_Illness                     19784 non-null  int64  \n",
            " 18  Radiation_Exposure                   19784 non-null  int64  \n",
            " 19  Substance_Abuse                      19784 non-null  int64  \n",
            " 20  Assisted_Conception                  19784 non-null  int64  \n",
            " 21  History_Previous_Pregnancies         19784 non-null  int64  \n",
            " 22  Birth_Defects                        19784 non-null  int64  \n",
            " 23  Gender_Ambiguous                     19784 non-null  bool   \n",
            " 24  Gender_Female                        19784 non-null  bool   \n",
            " 25  Gender_Male                          19784 non-null  bool   \n",
            " 26  Autopsy_Birth_Defect_No              19784 non-null  bool   \n",
            " 27  Autopsy_Birth_Defect_Not applicable  19784 non-null  bool   \n",
            " 28  Autopsy_Birth_Defect_Yes             19784 non-null  bool   \n",
            " 29  Blood_Test_Result_abnormal           19784 non-null  bool   \n",
            " 30  Blood_Test_Result_inconclusive       19784 non-null  bool   \n",
            " 31  Blood_Test_Result_normal             19784 non-null  bool   \n",
            " 32  Blood_Test_Result_slightly abnormal  19784 non-null  bool   \n",
            " 33  Disorder_Subclass                    19784 non-null  object \n",
            "dtypes: bool(10), float64(6), int64(17), object(1)\n",
            "memory usage: 4.0+ MB\n"
          ]
        }
      ],
      "source": [
        "data.info()"
      ]
    },
    {
      "cell_type": "code",
      "execution_count": 42,
      "id": "791bc0be-7968-4f93-bc11-a7caace10aa3",
      "metadata": {
        "id": "791bc0be-7968-4f93-bc11-a7caace10aa3",
        "outputId": "76d6371d-0af8-4315-d9ef-050e82378f99",
        "colab": {
          "base_uri": "https://localhost:8080/",
          "height": 397
        }
      },
      "outputs": [
        {
          "output_type": "execute_result",
          "data": {
            "text/plain": [
              "Disorder_Subclass\n",
              "Leigh syndrome                         5124\n",
              "Mitochondrial myopathy                 4374\n",
              "Cystic fibrosis                        3423\n",
              "Tay-Sachs                              2817\n",
              "Diabetes                               1805\n",
              "Hemochromatosis                        1348\n",
              "Leber's hereditary optic neuropathy     647\n",
              "Alzheimer's                             151\n",
              "Cancer                                   95\n",
              "Name: count, dtype: int64"
            ],
            "text/html": [
              "<div>\n",
              "<style scoped>\n",
              "    .dataframe tbody tr th:only-of-type {\n",
              "        vertical-align: middle;\n",
              "    }\n",
              "\n",
              "    .dataframe tbody tr th {\n",
              "        vertical-align: top;\n",
              "    }\n",
              "\n",
              "    .dataframe thead th {\n",
              "        text-align: right;\n",
              "    }\n",
              "</style>\n",
              "<table border=\"1\" class=\"dataframe\">\n",
              "  <thead>\n",
              "    <tr style=\"text-align: right;\">\n",
              "      <th></th>\n",
              "      <th>count</th>\n",
              "    </tr>\n",
              "    <tr>\n",
              "      <th>Disorder_Subclass</th>\n",
              "      <th></th>\n",
              "    </tr>\n",
              "  </thead>\n",
              "  <tbody>\n",
              "    <tr>\n",
              "      <th>Leigh syndrome</th>\n",
              "      <td>5124</td>\n",
              "    </tr>\n",
              "    <tr>\n",
              "      <th>Mitochondrial myopathy</th>\n",
              "      <td>4374</td>\n",
              "    </tr>\n",
              "    <tr>\n",
              "      <th>Cystic fibrosis</th>\n",
              "      <td>3423</td>\n",
              "    </tr>\n",
              "    <tr>\n",
              "      <th>Tay-Sachs</th>\n",
              "      <td>2817</td>\n",
              "    </tr>\n",
              "    <tr>\n",
              "      <th>Diabetes</th>\n",
              "      <td>1805</td>\n",
              "    </tr>\n",
              "    <tr>\n",
              "      <th>Hemochromatosis</th>\n",
              "      <td>1348</td>\n",
              "    </tr>\n",
              "    <tr>\n",
              "      <th>Leber's hereditary optic neuropathy</th>\n",
              "      <td>647</td>\n",
              "    </tr>\n",
              "    <tr>\n",
              "      <th>Alzheimer's</th>\n",
              "      <td>151</td>\n",
              "    </tr>\n",
              "    <tr>\n",
              "      <th>Cancer</th>\n",
              "      <td>95</td>\n",
              "    </tr>\n",
              "  </tbody>\n",
              "</table>\n",
              "</div><br><label><b>dtype:</b> int64</label>"
            ]
          },
          "metadata": {},
          "execution_count": 42
        }
      ],
      "source": [
        "data[\"Disorder_Subclass\"].value_counts()"
      ]
    },
    {
      "cell_type": "markdown",
      "id": "d341a53e-e972-4747-a152-b671cfe86ac4",
      "metadata": {
        "id": "d341a53e-e972-4747-a152-b671cfe86ac4"
      },
      "source": [
        "## Split into train and test"
      ]
    },
    {
      "cell_type": "code",
      "execution_count": 43,
      "id": "ed59bde3-56f8-4238-b2ee-015e654913af",
      "metadata": {
        "id": "ed59bde3-56f8-4238-b2ee-015e654913af"
      },
      "outputs": [],
      "source": [
        "X = data.drop(\"Disorder_Subclass\", axis=1) # Drop target\n",
        "X = X.to_numpy()"
      ]
    },
    {
      "cell_type": "code",
      "execution_count": 44,
      "id": "a1cd4f6d-af2a-42a1-89f9-85f6af9fcab1",
      "metadata": {
        "id": "a1cd4f6d-af2a-42a1-89f9-85f6af9fcab1",
        "colab": {
          "base_uri": "https://localhost:8080/"
        },
        "outputId": "3f4e0e75-fb5e-472e-85fc-2cd2c89e935e"
      },
      "outputs": [
        {
          "output_type": "stream",
          "name": "stdout",
          "text": [
            "0 Alzheimer's\n",
            "1 Cancer\n",
            "2 Cystic fibrosis\n",
            "3 Diabetes\n",
            "4 Hemochromatosis\n",
            "5 Leber's hereditary optic neuropathy\n",
            "6 Leigh syndrome\n",
            "7 Mitochondrial myopathy\n",
            "8 Tay-Sachs\n"
          ]
        }
      ],
      "source": [
        "Y = data[\"Disorder_Subclass\"]\n",
        "Y = pd.get_dummies(Y)\n",
        "for i, disorder in enumerate(Y.columns):\n",
        "  print(i, disorder)\n",
        "Y = Y.to_numpy()"
      ]
    },
    {
      "cell_type": "code",
      "execution_count": 45,
      "id": "69aa3b67-cbbc-4763-8734-c0a079951460",
      "metadata": {
        "id": "69aa3b67-cbbc-4763-8734-c0a079951460",
        "outputId": "91e77a9e-55c7-49c4-ad73-acceaa0d66d2",
        "colab": {
          "base_uri": "https://localhost:8080/"
        }
      },
      "outputs": [
        {
          "output_type": "stream",
          "name": "stdout",
          "text": [
            "(13848, 33) (13848, 9) (5936, 33) (5936, 9)\n"
          ]
        }
      ],
      "source": [
        "from sklearn.model_selection import train_test_split\n",
        "\n",
        "X_train, X_test, Y_train, Y_test = train_test_split(X, Y, test_size = 0.3, random_state = 42)\n",
        "print(X_train.shape, Y_train.shape, X_test.shape, Y_test.shape)"
      ]
    },
    {
      "cell_type": "markdown",
      "id": "f7e4f6c6-2bf6-4cb8-950a-ef939106a1f7",
      "metadata": {
        "id": "f7e4f6c6-2bf6-4cb8-950a-ef939106a1f7"
      },
      "source": [
        "## Test learning algorithms"
      ]
    },
    {
      "cell_type": "code",
      "source": [
        "def Error(Y, Pred):\n",
        "  return np.mean(np.argmax(Y,    axis=1) !=\n",
        "                 np.argmax(Pred, axis=1))"
      ],
      "metadata": {
        "id": "_UPiJNWv6Uyv"
      },
      "id": "_UPiJNWv6Uyv",
      "execution_count": 46,
      "outputs": []
    },
    {
      "cell_type": "markdown",
      "id": "526c974b-c45f-4008-84e9-d87d1566bb76",
      "metadata": {
        "id": "526c974b-c45f-4008-84e9-d87d1566bb76"
      },
      "source": [
        "### KNN"
      ]
    },
    {
      "cell_type": "code",
      "execution_count": 47,
      "id": "f9fa40fb-0ac9-4b8e-a45c-929e4def3663",
      "metadata": {
        "id": "f9fa40fb-0ac9-4b8e-a45c-929e4def3663"
      },
      "outputs": [],
      "source": [
        "from sklearn.neighbors import KNeighborsClassifier"
      ]
    },
    {
      "cell_type": "code",
      "source": [
        "knn = KNeighborsClassifier(n_neighbors = 2, n_jobs=-1)\n",
        "knn.fit(X_train, Y_train)\n",
        "Y_test_predict = knn.predict(X_test)\n",
        "print(\"Error: \", Error(Y_test, Y_test_predict))"
      ],
      "metadata": {
        "colab": {
          "base_uri": "https://localhost:8080/"
        },
        "id": "Hvx1CHN38m6K",
        "outputId": "22efb183-4be1-47da-b4c8-87e7eb257eff"
      },
      "id": "Hvx1CHN38m6K",
      "execution_count": 48,
      "outputs": [
        {
          "output_type": "stream",
          "name": "stdout",
          "text": [
            "Error:  0.9550202156334232\n"
          ]
        }
      ]
    },
    {
      "cell_type": "code",
      "source": [
        "knn = KNeighborsClassifier(n_neighbors = 5, n_jobs=-1)\n",
        "knn.fit(X_train, Y_train)\n",
        "Y_test_predict = knn.predict(X_test)\n",
        "print(\"Error: \", Error(Y_test, Y_test_predict))"
      ],
      "metadata": {
        "colab": {
          "base_uri": "https://localhost:8080/"
        },
        "id": "3-fYzq1B8a0g",
        "outputId": "67ecc76b-0924-4fb7-c930-320fee17590a"
      },
      "id": "3-fYzq1B8a0g",
      "execution_count": 49,
      "outputs": [
        {
          "output_type": "stream",
          "name": "stdout",
          "text": [
            "Error:  0.932277628032345\n"
          ]
        }
      ]
    },
    {
      "cell_type": "code",
      "execution_count": 50,
      "id": "890c3704-a23e-421c-95a8-c64e3c8dad96",
      "metadata": {
        "id": "890c3704-a23e-421c-95a8-c64e3c8dad96",
        "outputId": "1ff7f0ff-479a-45a8-b659-451784f534d8",
        "colab": {
          "base_uri": "https://localhost:8080/"
        }
      },
      "outputs": [
        {
          "output_type": "stream",
          "name": "stdout",
          "text": [
            "Error:  0.9836590296495957\n"
          ]
        }
      ],
      "source": [
        "knn = KNeighborsClassifier(n_neighbors = 15, n_jobs=-1)\n",
        "knn.fit(X_train, Y_train)\n",
        "Y_test_predict = knn.predict(X_test)\n",
        "print(\"Error: \", Error(Y_test, Y_test_predict))"
      ]
    },
    {
      "cell_type": "code",
      "execution_count": 51,
      "id": "3f2e0df1-6995-4bff-b4f2-fb126a5aad2a",
      "metadata": {
        "id": "3f2e0df1-6995-4bff-b4f2-fb126a5aad2a",
        "outputId": "55a968ab-282f-408e-cf7c-7934dd9e1356",
        "colab": {
          "base_uri": "https://localhost:8080/"
        }
      },
      "outputs": [
        {
          "output_type": "stream",
          "name": "stdout",
          "text": [
            "Error:  0.9934299191374663\n"
          ]
        }
      ],
      "source": [
        "knn = KNeighborsClassifier(n_neighbors = 40, n_jobs=-1)\n",
        "knn.fit(X_train, Y_train)\n",
        "Y_test_predict = knn.predict(X_test)\n",
        "print(\"Error: \", Error(Y_test, Y_test_predict))"
      ]
    },
    {
      "cell_type": "markdown",
      "id": "95b86f54-4593-4ac1-8eb2-1bfccea73966",
      "metadata": {
        "id": "95b86f54-4593-4ac1-8eb2-1bfccea73966"
      },
      "source": [
        "- n_neighbours=5 is optimal hyperparameter value\n",
        "\n",
        "But KNN provides a very low quality for this task."
      ]
    },
    {
      "cell_type": "markdown",
      "id": "703c40b5-d262-4c93-9c85-4f5526229d2a",
      "metadata": {
        "id": "703c40b5-d262-4c93-9c85-4f5526229d2a"
      },
      "source": [
        "### Random Forest\n",
        "Is used for classification problems with categorical target variables."
      ]
    },
    {
      "cell_type": "code",
      "execution_count": 52,
      "id": "bebce33c-d983-4914-8ba1-55db08771244",
      "metadata": {
        "id": "bebce33c-d983-4914-8ba1-55db08771244"
      },
      "outputs": [],
      "source": [
        "from sklearn import ensemble"
      ]
    },
    {
      "cell_type": "code",
      "execution_count": 53,
      "id": "de53cb57-bf99-42ff-83ba-391a6e68b7b2",
      "metadata": {
        "id": "de53cb57-bf99-42ff-83ba-391a6e68b7b2",
        "outputId": "ff67db85-ea5b-4b1f-fed2-bf2c6427fa96",
        "colab": {
          "base_uri": "https://localhost:8080/"
        }
      },
      "outputs": [
        {
          "output_type": "stream",
          "name": "stdout",
          "text": [
            "Error on test :  0.7720687331536388\n"
          ]
        }
      ],
      "source": [
        "rf = ensemble.RandomForestClassifier(n_estimators = 1000, n_jobs=-1)\n",
        "rf.fit(X_train, Y_train)\n",
        "print(\"Error on test : \", Error(Y_test, rf.predict(X_test)))"
      ]
    },
    {
      "cell_type": "code",
      "execution_count": 54,
      "id": "4be6a448-e9cb-497f-8197-f69a37481845",
      "metadata": {
        "id": "4be6a448-e9cb-497f-8197-f69a37481845",
        "outputId": "b1f3b7e1-aa86-47c9-bbac-65232e69d5bd",
        "colab": {
          "base_uri": "https://localhost:8080/"
        }
      },
      "outputs": [
        {
          "output_type": "stream",
          "name": "stdout",
          "text": [
            "Error on test :  0.7833557951482479\n"
          ]
        }
      ],
      "source": [
        "rf = ensemble.RandomForestClassifier(n_estimators = 100, n_jobs=-1)\n",
        "rf.fit(X_train, Y_train)\n",
        "print(\"Error on test : \", Error(Y_test, rf.predict(X_test)))"
      ]
    },
    {
      "cell_type": "code",
      "source": [
        "rf = ensemble.RandomForestClassifier(n_estimators = 50, n_jobs=-1)\n",
        "rf.fit(X_train, Y_train)\n",
        "print(\"Error on test : \", Error(Y_test, rf.predict(X_test)))"
      ],
      "metadata": {
        "colab": {
          "base_uri": "https://localhost:8080/"
        },
        "id": "thTSIoVh98V8",
        "outputId": "f83e6ecb-3cc6-4b17-ba1a-2716d375b829"
      },
      "id": "thTSIoVh98V8",
      "execution_count": 55,
      "outputs": [
        {
          "output_type": "stream",
          "name": "stdout",
          "text": [
            "Error on test :  0.7791442048517521\n"
          ]
        }
      ]
    },
    {
      "cell_type": "code",
      "source": [
        "rf = ensemble.RandomForestClassifier(n_estimators = 10, n_jobs=-1)\n",
        "rf.fit(X_train, Y_train)\n",
        "print(\"Error on test : \", Error(Y_test, rf.predict(X_test)))"
      ],
      "metadata": {
        "colab": {
          "base_uri": "https://localhost:8080/"
        },
        "id": "H2fUTHn78ScN",
        "outputId": "1aa39762-2386-4e31-80f3-9ac8f715f693"
      },
      "id": "H2fUTHn78ScN",
      "execution_count": 56,
      "outputs": [
        {
          "output_type": "stream",
          "name": "stdout",
          "text": [
            "Error on test :  0.8050876010781671\n"
          ]
        }
      ]
    },
    {
      "cell_type": "code",
      "execution_count": 57,
      "id": "00a54582-4fb5-4c34-a0e0-fdeb0e4959ed",
      "metadata": {
        "id": "00a54582-4fb5-4c34-a0e0-fdeb0e4959ed",
        "outputId": "dd15a3d4-092c-41b4-e2f8-d8f8d23f2463",
        "colab": {
          "base_uri": "https://localhost:8080/"
        }
      },
      "outputs": [
        {
          "output_type": "execute_result",
          "data": {
            "text/plain": [
              "array([[  38,    0,    0,    0,    0,    0,    0,    1,    0],\n",
              "       [  24,    0,    0,    0,    0,    0,    1,    2,    0],\n",
              "       [ 801,    0,  188,    1,    0,    0,   12,    9,    2],\n",
              "       [ 521,    0,    2,   15,    0,    0,   18,    5,    2],\n",
              "       [ 373,    0,    2,    1,   17,    0,    4,    3,    1],\n",
              "       [ 184,    0,    3,    0,    0,    2,    4,    3,    0],\n",
              "       [1108,    0,    5,    0,    0,    0,  434,   11,    3],\n",
              "       [ 969,    0,    5,    0,    0,    0,   16,  347,    5],\n",
              "       [ 654,    0,    4,    0,    0,    0,   15,    5,  116]])"
            ]
          },
          "metadata": {},
          "execution_count": 57
        }
      ],
      "source": [
        "from sklearn.metrics import confusion_matrix\n",
        "\n",
        "Y    = np.argmax(Y_test, axis=1)\n",
        "Pred = np.argmax(rf.predict(X_test), axis=1)\n",
        "\n",
        "confusion_matrix(Y, Pred)"
      ]
    },
    {
      "cell_type": "markdown",
      "source": [
        "If Random Forest doesn't match with any label, numpy.argmax returns 0. This explains the bias towards the first class."
      ],
      "metadata": {
        "id": "Fn0vDW_K-bps"
      },
      "id": "Fn0vDW_K-bps"
    },
    {
      "cell_type": "markdown",
      "id": "dc79c2e3-348d-4518-9804-c098b1400293",
      "metadata": {
        "id": "dc79c2e3-348d-4518-9804-c098b1400293"
      },
      "source": [
        "- Random Forest shows better quality than KNN but still bad for this case."
      ]
    },
    {
      "cell_type": "markdown",
      "id": "b58f4d86-1cfd-4266-868a-2c39df9531b2",
      "metadata": {
        "id": "b58f4d86-1cfd-4266-868a-2c39df9531b2"
      },
      "source": [
        "# Neural Networks with PyTorch"
      ]
    },
    {
      "cell_type": "markdown",
      "id": "89a0dae2-ebe5-4708-8f20-3c7770706d05",
      "metadata": {
        "id": "89a0dae2-ebe5-4708-8f20-3c7770706d05"
      },
      "source": [
        "### Prepare data"
      ]
    },
    {
      "cell_type": "code",
      "execution_count": 58,
      "id": "841f55b1-0afd-4f15-a1e0-80f00554ea30",
      "metadata": {
        "id": "841f55b1-0afd-4f15-a1e0-80f00554ea30",
        "outputId": "8a7b3c59-4a63-4d90-ce3a-38b9f2bdcc89",
        "colab": {
          "base_uri": "https://localhost:8080/"
        }
      },
      "outputs": [
        {
          "output_type": "execute_result",
          "data": {
            "text/plain": [
              "numpy.ndarray"
            ]
          },
          "metadata": {},
          "execution_count": 58
        }
      ],
      "source": [
        "type(X_train)"
      ]
    },
    {
      "cell_type": "code",
      "execution_count": 59,
      "id": "3c4f9164-34c5-4870-a21b-3bfa721cf21e",
      "metadata": {
        "id": "3c4f9164-34c5-4870-a21b-3bfa721cf21e",
        "outputId": "df30dd96-107f-43f0-e24c-0014c4f82125",
        "colab": {
          "base_uri": "https://localhost:8080/"
        }
      },
      "outputs": [
        {
          "output_type": "stream",
          "name": "stdout",
          "text": [
            "13848 33 9\n"
          ]
        }
      ],
      "source": [
        "X_train = torch.from_numpy(np.float32(X_train))\n",
        "Y_train = torch.from_numpy(np.float32(Y_train))\n",
        "X_test = torch.from_numpy(np.float32(X_test))\n",
        "Y_test = torch.from_numpy(np.float32(Y_test))\n",
        "\n",
        "n, in_dim = X_train.shape\n",
        "out_dim = Y_train.shape[1]\n",
        "print(n, in_dim, out_dim)"
      ]
    },
    {
      "cell_type": "markdown",
      "id": "75feef33-0787-49a5-9a6b-744636e4ad4c",
      "metadata": {
        "id": "75feef33-0787-49a5-9a6b-744636e4ad4c"
      },
      "source": [
        "## Logistic Regression"
      ]
    },
    {
      "cell_type": "code",
      "execution_count": 60,
      "id": "f632a4c9-d331-481c-b9b7-bf911f277e5e",
      "metadata": {
        "id": "f632a4c9-d331-481c-b9b7-bf911f277e5e",
        "outputId": "baf4aa21-c4d8-4426-e5ac-1a4d316aa9cd",
        "colab": {
          "base_uri": "https://localhost:8080/"
        }
      },
      "outputs": [
        {
          "output_type": "stream",
          "name": "stdout",
          "text": [
            "LogReg(\n",
            "  (linear): Linear(in_features=33, out_features=9, bias=True)\n",
            ")\n",
            "epoch=0 Loss=2.041961431503296 Accuracy=0.2597709000110626\n",
            "epoch=1 Loss=1.977168083190918 Accuracy=0.259602427482605\n",
            "epoch=2 Loss=1.9405639171600342 Accuracy=0.259602427482605\n",
            "epoch=3 Loss=1.9193611145019531 Accuracy=0.25842317938804626\n",
            "epoch=4 Loss=1.906562089920044 Accuracy=0.2604447305202484\n",
            "epoch=5 Loss=1.8986310958862305 Accuracy=0.26061320304870605\n",
            "epoch=6 Loss=1.8936958312988281 Accuracy=0.26162397861480713\n",
            "epoch=7 Loss=1.8906946182250977 Accuracy=0.2619609236717224\n",
            "epoch=8 Loss=1.888983964920044 Accuracy=0.26314017176628113\n",
            "epoch=9 Loss=1.8881504535675049 Accuracy=0.2629716992378235\n",
            "epoch=10 Loss=1.8879163265228271 Accuracy=0.2622978389263153\n",
            "epoch=11 Loss=1.888087511062622 Accuracy=0.26314017176628113\n",
            "epoch=12 Loss=1.8885233402252197 Accuracy=0.2633086144924164\n",
            "epoch=13 Loss=1.8891210556030273 Accuracy=0.2629716992378235\n",
            "epoch=14 Loss=1.889803409576416 Accuracy=0.26246631145477295\n",
            "epoch=15 Loss=1.8905143737792969 Accuracy=0.26280322670936584\n",
            "epoch=16 Loss=1.8912135362625122 Accuracy=0.2626347839832306\n",
            "epoch=17 Loss=1.8918713331222534 Accuracy=0.26280322670936584\n",
            "epoch=18 Loss=1.8924684524536133 Accuracy=0.26314017176628113\n",
            "epoch=19 Loss=1.8929930925369263 Accuracy=0.26314017176628113\n"
          ]
        }
      ],
      "source": [
        "from torch.nn import (Module, Sequential, Linear, ReLU, Softmax, CrossEntropyLoss)\n",
        "\n",
        "class LogReg(Module):\n",
        "    def __init__(self, input_dim, output_dim):\n",
        "        super(LogReg, self).__init__()\n",
        "        self.linear = Linear(input_dim, output_dim)\n",
        "\n",
        "    def forward(self, x):\n",
        "        return torch.sigmoid(self.linear(x))\n",
        "\n",
        "\n",
        "model = LogReg(in_dim, out_dim)\n",
        "\n",
        "print(model)\n",
        "optimizer = torch.optim.SGD(model.parameters(), lr=0.001)\n",
        "criterion = CrossEntropyLoss()\n",
        "\n",
        "# model.train()\n",
        "Loss = []\n",
        "Acc = []\n",
        "\n",
        "for epoch in range(20):\n",
        "    for (x, y) in zip(X_train, Y_train):\n",
        "        optimizer.zero_grad()\n",
        "        y_ = model(x)\n",
        "        loss = criterion(y_, y)\n",
        "        loss.backward()\n",
        "        optimizer.step()\n",
        "    Loss.append(loss.item())\n",
        "\n",
        "    correct = 0\n",
        "    for (x, y) in zip(X_test, Y_test):\n",
        "        correct += (torch.argmax(y) == torch.argmax(model(x)))\n",
        "    Acc.append(correct/len(X_test))\n",
        "    print(f'{epoch=} Loss={Loss[-1]} Accuracy={Acc[-1]}')\n"
      ]
    },
    {
      "cell_type": "code",
      "execution_count": 61,
      "id": "648e5b3c-3b37-4a46-b1c4-b05b47e448e4",
      "metadata": {
        "id": "648e5b3c-3b37-4a46-b1c4-b05b47e448e4",
        "outputId": "e6dd897a-ecd9-403f-f142-996135ae7a61",
        "colab": {
          "base_uri": "https://localhost:8080/",
          "height": 448
        }
      },
      "outputs": [
        {
          "output_type": "execute_result",
          "data": {
            "text/plain": [
              "[<matplotlib.lines.Line2D at 0x77fec4227190>]"
            ]
          },
          "metadata": {},
          "execution_count": 61
        },
        {
          "output_type": "display_data",
          "data": {
            "text/plain": [
              "<Figure size 640x480 with 1 Axes>"
            ],
            "image/png": "[encoded data removed]"
          },
          "metadata": {}
        }
      ],
      "source": [
        "plt.plot(Loss)"
      ]
    },
    {
      "cell_type": "code",
      "execution_count": 62,
      "id": "0b164088-f7df-4fe6-a4a9-48f10db01868",
      "metadata": {
        "id": "0b164088-f7df-4fe6-a4a9-48f10db01868",
        "outputId": "601feff7-4ec2-4903-b570-c2ed48f0f80f",
        "colab": {
          "base_uri": "https://localhost:8080/",
          "height": 448
        }
      },
      "outputs": [
        {
          "output_type": "execute_result",
          "data": {
            "text/plain": [
              "[<matplotlib.lines.Line2D at 0x77fe5be369e0>]"
            ]
          },
          "metadata": {},
          "execution_count": 62
        },
        {
          "output_type": "display_data",
          "data": {
            "text/plain": [
              "<Figure size 640x480 with 1 Axes>"
            ],
            "image/png": "[encoded data removed]"
          },
          "metadata": {}
        }
      ],
      "source": [
        "plt.plot(Acc)"
      ]
    },
    {
      "cell_type": "code",
      "execution_count": 63,
      "id": "8f6dfb82-d160-417d-a924-306949e3788a",
      "metadata": {
        "id": "8f6dfb82-d160-417d-a924-306949e3788a",
        "outputId": "7ba30bdc-74fb-4ea5-8f52-226c84f2a363",
        "colab": {
          "base_uri": "https://localhost:8080/"
        }
      },
      "outputs": [
        {
          "output_type": "execute_result",
          "data": {
            "text/plain": [
              "array([[   0,    0,    0,    0,    0,    0,   38,    1,    0],\n",
              "       [   0,    0,    0,    0,    0,    0,   27,    0,    0],\n",
              "       [   0,    0,    0,    0,    0,    0,  999,   14,    0],\n",
              "       [   0,    0,    0,    0,    0,    0,  554,    9,    0],\n",
              "       [   0,    0,    0,    0,    0,    0,  388,   13,    0],\n",
              "       [   0,    0,    0,    0,    0,    0,  195,    1,    0],\n",
              "       [   0,    0,    0,    0,    0,    0, 1523,   38,    0],\n",
              "       [   0,    0,    0,    0,    0,    0, 1303,   39,    0],\n",
              "       [   0,    0,    0,    0,    0,    0,  773,   21,    0]])"
            ]
          },
          "metadata": {},
          "execution_count": 63
        }
      ],
      "source": [
        "from sklearn.metrics import confusion_matrix\n",
        "\n",
        "Y = []\n",
        "Pred = []\n",
        "for (x, y) in zip(X_test, Y_test):\n",
        "    Y.append(torch.argmax(y))\n",
        "    Pred.append(torch.argmax(model(x)))\n",
        "\n",
        "confusion_matrix(Y, Pred)"
      ]
    },
    {
      "cell_type": "markdown",
      "id": "6124dc5f-487e-444d-8bdf-fcc487a7cdd7",
      "metadata": {
        "id": "6124dc5f-487e-444d-8bdf-fcc487a7cdd7"
      },
      "source": [
        "### FFN"
      ]
    },
    {
      "cell_type": "code",
      "execution_count": 66,
      "id": "d91f6d5f-3f52-4065-9ffc-4e88300b006c",
      "metadata": {
        "id": "d91f6d5f-3f52-4065-9ffc-4e88300b006c"
      },
      "outputs": [],
      "source": [
        "from torch.nn import (Module, Sequential, Linear, ReLU, Sigmoid, Softmax, CrossEntropyLoss)\n",
        "\n",
        "class FFN(Module):\n",
        "    def __init__(self, input_dim, output_dim, hidden_dim):\n",
        "        super(FFN, self).__init__()\n",
        "        self.ffn = Sequential(\n",
        "            Linear(input_dim, hidden_dim),\n",
        "            ReLU(),\n",
        "            Linear(hidden_dim, output_dim),\n",
        "            Softmax(dim=0),\n",
        "        )\n",
        "\n",
        "    def forward(self, x):\n",
        "        return self.ffn(x)\n",
        "\n",
        "def train(mid_dim):\n",
        "    print(f'{mid_dim=}')\n",
        "    model = FFN(in_dim, out_dim, mid_dim)\n",
        "\n",
        "    criterion = CrossEntropyLoss()\n",
        "    optimizer = torch.optim.Adam(model.parameters(), lr=0.0001)\n",
        "\n",
        "    Loss = []\n",
        "    Acc = []\n",
        "\n",
        "    for epoch in range(5):\n",
        "        for (x, y) in zip(X_train, Y_train):\n",
        "            optimizer.zero_grad()\n",
        "            y_ = model(x)\n",
        "            loss = criterion(y_, y)\n",
        "            loss.backward()\n",
        "            optimizer.step()\n",
        "        Loss.append(loss.item())\n",
        "\n",
        "        correct = 0\n",
        "        for (x, y) in zip(X_test, Y_test):\n",
        "            correct += (torch.argmax(y) == torch.argmax(model(x)))\n",
        "        Acc.append(correct/len(X_test))\n",
        "        print(f'{epoch=} Loss={Loss[-1]} Accuracy={Acc[-1]}')\n",
        "\n",
        "    return max(Acc)"
      ]
    },
    {
      "cell_type": "code",
      "execution_count": 67,
      "id": "7046bd60-cc40-4346-a7b0-d1a3fd6a9e4c",
      "metadata": {
        "id": "7046bd60-cc40-4346-a7b0-d1a3fd6a9e4c",
        "outputId": "d85218c6-b2e4-4f1e-ec8e-11b8087a3e43",
        "colab": {
          "base_uri": "https://localhost:8080/"
        }
      },
      "outputs": [
        {
          "output_type": "stream",
          "name": "stdout",
          "text": [
            "mid_dim=5\n",
            "epoch=0 Loss=2.299196243286133 Accuracy=0.2629716992378235\n",
            "epoch=1 Loss=2.321843147277832 Accuracy=0.2626347839832306\n",
            "epoch=2 Loss=2.3288774490356445 Accuracy=0.2614555358886719\n",
            "epoch=3 Loss=2.330764055252075 Accuracy=0.2604447305202484\n",
            "epoch=4 Loss=2.331397533416748 Accuracy=0.26179245114326477\n"
          ]
        },
        {
          "output_type": "execute_result",
          "data": {
            "text/plain": [
              "tensor(0.2630)"
            ]
          },
          "metadata": {},
          "execution_count": 67
        }
      ],
      "source": [
        "train(5)"
      ]
    },
    {
      "cell_type": "code",
      "execution_count": 68,
      "id": "d18645fb-ee1a-4bf4-bbd0-e77d4673627d",
      "metadata": {
        "id": "d18645fb-ee1a-4bf4-bbd0-e77d4673627d",
        "outputId": "efd41a45-be67-4bd9-f677-62ebac26c10b",
        "colab": {
          "base_uri": "https://localhost:8080/"
        }
      },
      "outputs": [
        {
          "output_type": "stream",
          "name": "stdout",
          "text": [
            "mid_dim=50\n",
            "epoch=0 Loss=2.3329217433929443 Accuracy=0.26246631145477295\n",
            "epoch=1 Loss=2.3316500186920166 Accuracy=0.2633086144924164\n",
            "epoch=2 Loss=2.329324245452881 Accuracy=0.2629716992378235\n",
            "epoch=3 Loss=2.3288612365722656 Accuracy=0.26987871527671814\n",
            "epoch=4 Loss=2.329315423965454 Accuracy=0.27358490228652954\n"
          ]
        },
        {
          "output_type": "execute_result",
          "data": {
            "text/plain": [
              "tensor(0.2736)"
            ]
          },
          "metadata": {},
          "execution_count": 68
        }
      ],
      "source": [
        "train(50)"
      ]
    },
    {
      "cell_type": "code",
      "execution_count": 69,
      "id": "a3db517e-957a-498b-8502-bcc5d7414632",
      "metadata": {
        "scrolled": true,
        "id": "a3db517e-957a-498b-8502-bcc5d7414632",
        "outputId": "c2adda47-af6b-41e0-ac71-6badf1a83f22",
        "colab": {
          "base_uri": "https://localhost:8080/"
        }
      },
      "outputs": [
        {
          "output_type": "stream",
          "name": "stdout",
          "text": [
            "mid_dim=150\n",
            "epoch=0 Loss=2.3296966552734375 Accuracy=0.263477087020874\n",
            "epoch=1 Loss=2.327761650085449 Accuracy=0.2671832740306854\n",
            "epoch=2 Loss=2.328533172607422 Accuracy=0.2715633511543274\n",
            "epoch=3 Loss=2.329515218734741 Accuracy=0.2742587625980377\n",
            "epoch=4 Loss=2.33015513420105 Accuracy=0.2740902900695801\n"
          ]
        },
        {
          "output_type": "execute_result",
          "data": {
            "text/plain": [
              "tensor(0.2743)"
            ]
          },
          "metadata": {},
          "execution_count": 69
        }
      ],
      "source": [
        "train(150)"
      ]
    },
    {
      "cell_type": "markdown",
      "id": "6238c138-0540-4242-bffe-b7cf2b2bae66",
      "metadata": {
        "id": "6238c138-0540-4242-bffe-b7cf2b2bae66"
      },
      "source": [
        "## Results\n",
        "\n",
        "FFN with one hidden layer acts comparable to the Logistic Regression model regardless of the number of neurons in the hidden layer.\n",
        "\n",
        "This might shows that data requires deep analysis and more time for training. Also classes are highly unbalanced (see data[\"Disorder_Subclass\"].value_counts() ). To fix it oversampling can be used.\n",
        "\n",
        "Adam optimizer with leaning rate 0.0001 leads to growth of Loss which is justified by instability of the method."
      ]
    }
  ],
  "metadata": {
    "kernelspec": {
      "display_name": "env",
      "language": "python",
      "name": "env"
    },
    "language_info": {
      "codemirror_mode": {
        "name": "ipython",
        "version": 3
      },
      "file_extension": ".py",
      "mimetype": "text/x-python",
      "name": "python",
      "nbconvert_exporter": "python",
      "pygments_lexer": "ipython3",
      "version": "3.11.6"
    },
    "colab": {
      "provenance": []
    }
  },
  "nbformat": 4,
  "nbformat_minor": 5
}